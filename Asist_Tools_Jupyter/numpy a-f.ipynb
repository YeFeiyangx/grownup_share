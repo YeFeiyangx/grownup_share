{
 "cells": [
  {
   "cell_type": "code",
   "execution_count": 1,
   "metadata": {},
   "outputs": [],
   "source": [
    "import numpy as np\n",
    "import copy\n",
    "import matplotlib.pyplot as plt"
   ]
  },
  {
   "cell_type": "markdown",
   "metadata": {},
   "source": [
    "### 数值计算\n",
    "### 数值索引\n",
    "### 复数计算\n",
    "\n",
    "### 函数运算\n",
    "### 逻辑判断\n",
    "### 类型转化\n",
    "### 数组生成\n",
    "### 结构变化\n",
    "### 结构识别\n",
    "### 代码申明\n",
    "### 未知"
   ]
  },
  {
   "cell_type": "code",
   "execution_count": 2,
   "metadata": {},
   "outputs": [
    {
     "data": {
      "text/plain": [
       "array([1.2, 1.2])"
      ]
     },
     "execution_count": 2,
     "metadata": {},
     "output_type": "execute_result"
    }
   ],
   "source": [
    "# abs 取绝对值\n",
    "\n",
    "# 数值计算\n",
    "x = np.array([-1.2, 1.2])\n",
    "np.abs(x)"
   ]
  },
  {
   "cell_type": "code",
   "execution_count": 3,
   "metadata": {},
   "outputs": [
    {
     "data": {
      "text/plain": [
       "array([1.2, 1.2])"
      ]
     },
     "execution_count": 3,
     "metadata": {},
     "output_type": "execute_result"
    }
   ],
   "source": [
    "# absolute 取绝对值\n",
    "\n",
    "# 数值计算\n",
    "x = np.array([-1.2, 1.2])\n",
    "np.absolute(x)"
   ]
  },
  {
   "cell_type": "code",
   "execution_count": 4,
   "metadata": {},
   "outputs": [
    {
     "data": {
      "text/plain": [
       "_Feature((2, 5, 0, 'alpha', 1), (3, 0, 0, 'alpha', 0), 16384)"
      ]
     },
     "execution_count": 4,
     "metadata": {},
     "output_type": "execute_result"
    }
   ],
   "source": [
    "# absolute_import 不知道干嘛的\n",
    "\n",
    "# 未知\n",
    "np.absolute_import"
   ]
  },
  {
   "cell_type": "code",
   "execution_count": 5,
   "metadata": {},
   "outputs": [
    {
     "name": "stdout",
     "output_type": "stream",
     "text": [
      "5.0\n",
      "[[0. 1. 2.]\n",
      " [3. 4. 5.]\n",
      " [6. 7. 8.]] \n",
      " [0. 1. 2.]\n",
      "[[ 0.  2.  4.]\n",
      " [ 3.  5.  7.]\n",
      " [ 6.  8. 10.]]\n"
     ]
    }
   ],
   "source": [
    "# add 数组加法\n",
    "\n",
    "# 数值计算\n",
    "print(np.add(1.0, 4.0))\n",
    "\n",
    "x1 = np.arange(9.0).reshape((3, 3))\n",
    "x2 = np.arange(3.0)\n",
    "print(x1,\"\\n\",x2)\n",
    "print(np.add(x1, x2))"
   ]
  },
  {
   "cell_type": "code",
   "execution_count": 6,
   "metadata": {},
   "outputs": [],
   "source": [
    "# add_newdocs add_newdoc_ufunc add_newdoc add_docstring增加文档描述，不知道干嘛\n",
    "\n",
    "# 代码申明"
   ]
  },
  {
   "cell_type": "code",
   "execution_count": 7,
   "metadata": {},
   "outputs": [
    {
     "name": "stdout",
     "output_type": "stream",
     "text": [
      "7\n",
      "7\n"
     ]
    }
   ],
   "source": [
    "# alen 返回输入数组的第一个维度的长度。\n",
    "\n",
    "# 结构识别\n",
    "a = np.zeros((7,4,5))\n",
    "print(a.shape[0])\n",
    "print(np.alen(a))"
   ]
  },
  {
   "cell_type": "code",
   "execution_count": 8,
   "metadata": {},
   "outputs": [
    {
     "name": "stdout",
     "output_type": "stream",
     "text": [
      "False\n",
      "[ True False]\n"
     ]
    }
   ],
   "source": [
    "# all 测试给定轴上的所有数组元素的值是否为True。\n",
    "\n",
    "# 逻辑判断\n",
    "print(np.all([[True,False],[True,True]]))\n",
    "print(np.all([[True,False],[True,True]], axis=0))"
   ]
  },
  {
   "cell_type": "code",
   "execution_count": 9,
   "metadata": {},
   "outputs": [],
   "source": [
    "# allclose 公差内是否相等\n",
    "\n",
    "# 数值计算"
   ]
  },
  {
   "cell_type": "code",
   "execution_count": 10,
   "metadata": {},
   "outputs": [
    {
     "name": "stdout",
     "output_type": "stream",
     "text": [
      "True\n",
      "False\n"
     ]
    }
   ],
   "source": [
    "# alltrue 判断数组是否全是对的\n",
    "\n",
    "# 逻辑判断\n",
    "print(np.alltrue([1,1,1,1]))\n",
    "print(np.alltrue([0,1,0,1]))"
   ]
  },
  {
   "cell_type": "code",
   "execution_count": 11,
   "metadata": {},
   "outputs": [],
   "source": [
    "# amin amax 求最大最小值，而不是索引\n",
    "\n",
    "# 数值计算"
   ]
  },
  {
   "cell_type": "code",
   "execution_count": 12,
   "metadata": {},
   "outputs": [
    {
     "name": "stdout",
     "output_type": "stream",
     "text": [
      "[0.         1.57079633 0.78539816]\n",
      "45.0\n"
     ]
    }
   ],
   "source": [
    "# angle 返回复变元的角度。\n",
    "\n",
    "# 复数计算\n",
    "print(np.angle([1.0, 1.0j, 1+1j]))\n",
    "print(np.angle(1+1j, deg=True))"
   ]
  },
  {
   "cell_type": "code",
   "execution_count": 13,
   "metadata": {},
   "outputs": [
    {
     "data": {
      "text/plain": [
       "array([ True, False])"
      ]
     },
     "execution_count": 13,
     "metadata": {},
     "output_type": "execute_result"
    }
   ],
   "source": [
    "# any 测试给定轴上的任何数组元素的值是否为True。\n",
    "\n",
    "# 逻辑判断\n",
    "np.any([[True, False], [False, False]], axis=0)"
   ]
  },
  {
   "cell_type": "code",
   "execution_count": 14,
   "metadata": {},
   "outputs": [
    {
     "name": "stdout",
     "output_type": "stream",
     "text": [
      "[1 2 3 4 5 6 7 8 9]\n",
      "[[1 2 3]\n",
      " [4 5 6]\n",
      " [7 8 9]]\n"
     ]
    }
   ],
   "source": [
    "# append  将值追加到数组的末尾，维度扩充\n",
    "\n",
    "# 结构变化\n",
    "print(np.append([1, 2, 3], [[[4, 5, 6], [7, 8, 9]]]))\n",
    "print(np.append([[1, 2, 3], [4, 5, 6]], [[7, 8, 9]], axis=0)) # axis=0时，数组需要维度相同"
   ]
  },
  {
   "cell_type": "code",
   "execution_count": 15,
   "metadata": {},
   "outputs": [
    {
     "name": "stdout",
     "output_type": "stream",
     "text": [
      "[[1 3 2]\n",
      " [4 5 6]\n",
      " [8 9 7]]\n",
      "[[7 8 9]\n",
      " [1 2 3]\n",
      " [4 5 6]]\n"
     ]
    }
   ],
   "source": [
    "# apply_along_axis 将一个函数应用于沿给定轴的一维切片。\n",
    "# apply_along_axis(func1d, axis, arr, *args, **kwargs)\n",
    "\n",
    "# 结构变化\n",
    "b = np.array([[8,9,7], [1,3,2], [4,5,6]])\n",
    "print(np.apply_along_axis(sorted, 0, b))\n",
    "print(np.apply_along_axis(sorted, 1, b))"
   ]
  },
  {
   "cell_type": "code",
   "execution_count": 16,
   "metadata": {},
   "outputs": [
    {
     "data": {
      "text/plain": [
       "array([[[ 60],\n",
       "        [ 92],\n",
       "        [124]]])"
      ]
     },
     "execution_count": 16,
     "metadata": {},
     "output_type": "execute_result"
    }
   ],
   "source": [
    "# apply_over_axes 在多个轴上重复应用一个函数。\n",
    "\n",
    "# 函数运算\n",
    "a = np.arange(24).reshape(2,3,4)\n",
    "np.apply_over_axes(np.sum, a, [0,2])"
   ]
  },
  {
   "cell_type": "code",
   "execution_count": 17,
   "metadata": {},
   "outputs": [
    {
     "name": "stdout",
     "output_type": "stream",
     "text": [
      "[3 5]\n"
     ]
    }
   ],
   "source": [
    "# arange 生成数列\n",
    "\n",
    "# 数组生成\n",
    "print(np.arange(3,7,2))"
   ]
  },
  {
   "cell_type": "code",
   "execution_count": 18,
   "metadata": {},
   "outputs": [
    {
     "data": {
      "text/plain": [
       "\" 'arccos',\\n 'arccosh',\\n 'arcsin',\\n 'arcsinh',\\n 'arctan',\\n 'arctan2',\\n 'arctanh'\""
      ]
     },
     "execution_count": 18,
     "metadata": {},
     "output_type": "execute_result"
    }
   ],
   "source": [
    "# 数值计算\n",
    "\"\"\" 'arccos',\n",
    " 'arccosh',\n",
    " 'arcsin',\n",
    " 'arcsinh',\n",
    " 'arctan',\n",
    " 'arctan2',\n",
    " 'arctanh'\"\"\" \n",
    "# 三角函数"
   ]
  },
  {
   "cell_type": "code",
   "execution_count": 19,
   "metadata": {},
   "outputs": [
    {
     "name": "stdout",
     "output_type": "stream",
     "text": [
      "3\n",
      "[[0 1 2]\n",
      " [3 4 5]]\n",
      "[0 0 0]\n",
      "[0 0]\n"
     ]
    }
   ],
   "source": [
    "# argmin 返回最小值索引，只对第一个最小值有效 argmax取最大\n",
    "\n",
    "# 数值索引\n",
    "b = np.array([1, 2, 3, 0, 5, 0]) \n",
    "print(np.argmin(b))\n",
    "a = np.arange(6).reshape(2,3)\n",
    "print(a)\n",
    "print(np.argmin(a, axis=0))\n",
    "print(np.argmin(a, axis=1))"
   ]
  },
  {
   "cell_type": "code",
   "execution_count": 20,
   "metadata": {},
   "outputs": [
    {
     "name": "stdout",
     "output_type": "stream",
     "text": [
      "[2 3 0 1]\n",
      "[2 1 3 4]\n",
      "[1 2 3 4]\n"
     ]
    }
   ],
   "source": [
    "# argpartition 使用' kind '关键字指定的算法沿给定轴执行间接分区。它返回一个与' a '相同形状的索引数组，该数组按分区顺序对给定轴上的数据进行索引。\n",
    "\n",
    "# 数值索引\n",
    "x = np.array([3, 4, 2, 1])\n",
    "print(np.argpartition(x, 3)) # 比3小的在左，反之在右，返回的是索引\n",
    "print(x[np.argpartition(x, 3)])\n",
    "print(x[np.argpartition(x, (1, 3))])"
   ]
  },
  {
   "cell_type": "code",
   "execution_count": 21,
   "metadata": {},
   "outputs": [
    {
     "name": "stdout",
     "output_type": "stream",
     "text": [
      "[[0 1]\n",
      " [1 0]]\n",
      "--------------\n",
      " [[0 1]\n",
      " [0 1]]\n",
      "--------------\n",
      " [1 2 3 0]\n"
     ]
    }
   ],
   "source": [
    "# argsort 返回 对数组排序 的索引。\n",
    "\n",
    "# 数值索引\n",
    "x = np.array([[0, 3], [1, 2]])\n",
    "print(np.argsort(x, axis=0))\n",
    "print(\"--------------\\n\",np.argsort(x, axis=1))\n",
    "x = np.array([3, 1, 1, 2])\n",
    "print(\"--------------\\n\",np.argsort(x))"
   ]
  },
  {
   "cell_type": "code",
   "execution_count": 22,
   "metadata": {},
   "outputs": [
    {
     "name": "stdout",
     "output_type": "stream",
     "text": [
      "[[0 1 2]\n",
      " [3 4 5]]\n"
     ]
    },
    {
     "data": {
      "text/plain": [
       "array([[0, 2],\n",
       "       [1, 0],\n",
       "       [1, 1],\n",
       "       [1, 2]])"
      ]
     },
     "execution_count": 22,
     "metadata": {},
     "output_type": "execute_result"
    }
   ],
   "source": [
    "# argwhere 查找非零数组元素的索引，按元素分组。\n",
    "\n",
    "# 数值索引\n",
    "x = np.arange(6).reshape(2,3)\n",
    "print(x)\n",
    "np.argwhere(x>1)"
   ]
  },
  {
   "cell_type": "code",
   "execution_count": 23,
   "metadata": {},
   "outputs": [
    {
     "name": "stdout",
     "output_type": "stream",
     "text": [
      "[0. 2.]\n",
      "[0.4 1.6]\n"
     ]
    }
   ],
   "source": [
    "# around 四舍五入保留数值\n",
    "\n",
    "# 数值计算\n",
    "print(np.around([0.37, 1.64]))\n",
    "print(np.around([0.37, 1.64], decimals=1))"
   ]
  },
  {
   "cell_type": "code",
   "execution_count": 24,
   "metadata": {},
   "outputs": [],
   "source": [
    "# array 就是那个！对你一直用的！无法言喻的爱！！"
   ]
  },
  {
   "cell_type": "code",
   "execution_count": 25,
   "metadata": {},
   "outputs": [
    {
     "name": "stdout",
     "output_type": "stream",
     "text": [
      "[0.00 1.00 2.00]\n",
      "[0.,1.,2.,3.]\n",
      "[1.e-16 1.e+00 2.e+00 3.e+00]\n",
      "[0. 1. 2.] <class 'str'>\n"
     ]
    }
   ],
   "source": [
    "# array2string 返回数组的字符串表示形式。\n",
    "\n",
    "# 类型转换\n",
    "x  = np.arange(3.)\n",
    "print(np.array2string(x, formatter={'float_kind':lambda x: \"%.2f\" % x}))\n",
    "x = np.array([1e-16,1,2,3])\n",
    "print(np.array2string(x, precision=2, separator=',',\n",
    "                      suppress_small=True))\n",
    "print(np.array2string(x))\n",
    "x  = np.arange(3.)\n",
    "print(np.array2string(x),type(np.array2string(x)))"
   ]
  },
  {
   "cell_type": "code",
   "execution_count": 26,
   "metadata": {},
   "outputs": [
    {
     "name": "stdout",
     "output_type": "stream",
     "text": [
      "True\n",
      "True\n",
      "False\n"
     ]
    }
   ],
   "source": [
    "# np.array_equal 如果两个数组具有相同的形状和元素，则为真，否则为假。\n",
    "\n",
    "# 逻辑判断\n",
    "print(np.array_equal([1, 2], [1, 2]))\n",
    "print(np.array_equiv([1, 2], [[1, 2], [1, 2]]))\n",
    "print(np.array_equal([1, 2], [1, 2, 3]))"
   ]
  },
  {
   "cell_type": "code",
   "execution_count": 27,
   "metadata": {},
   "outputs": [
    {
     "name": "stdout",
     "output_type": "stream",
     "text": [
      "False\n",
      "True\n"
     ]
    }
   ],
   "source": [
    "# array_equiv 和 np.array_equal 没差啊\n",
    "\n",
    "# 逻辑判断\n",
    "print(np.array_equiv([1, 2], [[1, 2, 1, 2], [1, 2, 1, 2]]))\n",
    "print(np.array_equiv([1, 2], [[1, 2], [1, 2]]))"
   ]
  },
  {
   "cell_type": "code",
   "execution_count": 28,
   "metadata": {},
   "outputs": [
    {
     "name": "stdout",
     "output_type": "stream",
     "text": [
      "array([1, 2])\n"
     ]
    }
   ],
   "source": [
    "# array_repr 返回数组的字符串表示形式。\n",
    "\n",
    "# 类型转换\n",
    "print(np.array_repr(np.array([1,2])))"
   ]
  },
  {
   "cell_type": "code",
   "execution_count": 29,
   "metadata": {},
   "outputs": [
    {
     "name": "stdout",
     "output_type": "stream",
     "text": [
      "[array([0., 1., 2.]), array([3., 4., 5.]), array([6., 7.])]\n",
      "[array([0., 1., 2.]), array([3., 4.]), array([5., 6.])]\n"
     ]
    }
   ],
   "source": [
    "# array_split 将数组拆分为多个子数组。\n",
    "\n",
    "# 结构变化\n",
    "x = np.arange(8.0)\n",
    "print(np.array_split(x, 3))\n",
    "x = np.arange(7.0)\n",
    "print(np.array_split(x, 3))"
   ]
  },
  {
   "cell_type": "code",
   "execution_count": 30,
   "metadata": {},
   "outputs": [
    {
     "data": {
      "text/plain": [
       "'[0 1 2]'"
      ]
     },
     "execution_count": 30,
     "metadata": {},
     "output_type": "execute_result"
    }
   ],
   "source": [
    "# array_str array转为字符串\n",
    "\n",
    "# 类型转化\n",
    "np.array_str(np.arange(3))"
   ]
  },
  {
   "cell_type": "code",
   "execution_count": 31,
   "metadata": {},
   "outputs": [
    {
     "data": {
      "text/plain": [
       "array([1, 2])"
      ]
     },
     "execution_count": 31,
     "metadata": {},
     "output_type": "execute_result"
    }
   ],
   "source": [
    "# asanyarray 将输入转换为ndarray，但是要传递ndarray子类。后半句不知道啥意思\n",
    "\n",
    "# 类型转化\n",
    "a = [1, 2]\n",
    "np.asanyarray(a)"
   ]
  },
  {
   "cell_type": "code",
   "execution_count": 32,
   "metadata": {},
   "outputs": [
    {
     "data": {
      "text/plain": [
       "array([ 1., nan,  2., inf,  3.])"
      ]
     },
     "execution_count": 32,
     "metadata": {},
     "output_type": "execute_result"
    }
   ],
   "source": [
    "# asarray 将输入转换为数组。\n",
    "\n",
    "# 类型转换\n",
    "a = np.array([1, np.nan, 2, np.inf, 3]) # np.inf和NaNs 都会转入数组\n",
    "# a = [1,2]\n",
    "np.asarray(a)"
   ]
  },
  {
   "cell_type": "code",
   "execution_count": 33,
   "metadata": {},
   "outputs": [
    {
     "data": {
      "text/plain": [
       "array([1, 2])"
      ]
     },
     "execution_count": 33,
     "metadata": {},
     "output_type": "execute_result"
    }
   ],
   "source": [
    "# asarray_chkfinite 将输入转换为数组，输入数据必须无NaNs或Infs。\n",
    "# a = [1, 2, np.inf] 会报错\n",
    "\n",
    "\n",
    "# 数组生成\n",
    "a = [1, 2]\n",
    "np.asarray_chkfinite(a)"
   ]
  },
  {
   "cell_type": "code",
   "execution_count": 34,
   "metadata": {},
   "outputs": [
    {
     "data": {
      "text/plain": [
       "array([[0., 1., 2.],\n",
       "       [3., 4., 5.]], dtype=float32)"
      ]
     },
     "execution_count": 34,
     "metadata": {},
     "output_type": "execute_result"
    }
   ],
   "source": [
    "# ascontiguousarray 返回内存中的连续数组(C顺序)。\n",
    "\n",
    "# 结构变化\n",
    "x = np.arange(6).reshape(2,3)\n",
    "np.ascontiguousarray(x, dtype=np.float32)"
   ]
  },
  {
   "cell_type": "code",
   "execution_count": 35,
   "metadata": {},
   "outputs": [
    {
     "data": {
      "text/plain": [
       "array([2., 3.])"
      ]
     },
     "execution_count": 35,
     "metadata": {},
     "output_type": "execute_result"
    }
   ],
   "source": [
    "# asfarray 返回转换为浮点类型的数组。\n",
    "\n",
    "# 类型转化\n",
    "np.asfarray([2, 3])"
   ]
  },
  {
   "cell_type": "code",
   "execution_count": 36,
   "metadata": {},
   "outputs": [
    {
     "name": "stdout",
     "output_type": "stream",
     "text": [
      "False\n",
      "True\n"
     ]
    }
   ],
   "source": [
    "# asfortranarray 返回内存中按Fortran顺序排列的数组。\n",
    "\n",
    "# 逻辑判断\n",
    "x = np.arange(6).reshape(2,3)\n",
    "y = np.asfortranarray(x)\n",
    "print(x.flags['F_CONTIGUOUS'])\n",
    "print(y.flags['F_CONTIGUOUS'])"
   ]
  },
  {
   "cell_type": "code",
   "execution_count": 37,
   "metadata": {},
   "outputs": [
    {
     "data": {
      "text/plain": [
       "matrix([[ 5, -5],\n",
       "        [ 3, 10]])"
      ]
     },
     "execution_count": 37,
     "metadata": {},
     "output_type": "execute_result"
    }
   ],
   "source": [
    "# asmatrix 数组转为矩阵\n",
    "\n",
    "# 类型转化\n",
    "x = np.array([[1, 2], [3, 4]])\n",
    "x[0,1] = -5\n",
    "m = np.asmatrix(x)\n",
    "x[0,0] = 5\n",
    "x[1,1] = 10\n",
    "m"
   ]
  },
  {
   "cell_type": "code",
   "execution_count": 38,
   "metadata": {},
   "outputs": [
    {
     "data": {
      "text/plain": [
       "24"
      ]
     },
     "execution_count": 38,
     "metadata": {},
     "output_type": "execute_result"
    }
   ],
   "source": [
    "# asscalar 鸡肋。。将数组转为数值\n",
    "\n",
    "# 类型转化\n",
    "np.asscalar(np.array([24]))"
   ]
  },
  {
   "cell_type": "code",
   "execution_count": 39,
   "metadata": {},
   "outputs": [
    {
     "name": "stdout",
     "output_type": "stream",
     "text": [
      "[[[1]]]\n",
      "[array([[1]]), array([[1, 2]]), array([[[1, 2]]])]\n",
      "[array([1]), array([1, 2]), array([[[1, 2]]])]\n"
     ]
    }
   ],
   "source": [
    "# atleast_3d 如英文所述，至少几维度\n",
    "\n",
    "# 结构变化\n",
    "print(np.atleast_3d(1))\n",
    "print(np.atleast_2d(1, [1, 2], [[[1, 2]]]))\n",
    "print(np.atleast_1d(1, [1, 2], [[[1, 2]]]))"
   ]
  },
  {
   "cell_type": "code",
   "execution_count": 40,
   "metadata": {},
   "outputs": [
    {
     "name": "stdout",
     "output_type": "stream",
     "text": [
      "range(1, 5)\n",
      "--------------\n",
      " 2.5\n",
      "--------------\n",
      " 1.4\n",
      "--------------\n",
      " [[0 1]\n",
      " [2 3]\n",
      " [4 5]]\n",
      "--------------\n",
      " [0.75 2.75 4.75]\n",
      "--------------\n",
      " [2. 3.]\n"
     ]
    }
   ],
   "source": [
    "# average 计算沿指定轴的加权平均值\n",
    "\n",
    "# 数值计算\n",
    "data = range(1,5)\n",
    "print(data)\n",
    "\n",
    "print(\"--------------\\n\",np.average(data))\n",
    "\n",
    "print(\"--------------\\n\",np.average(range(1,3), weights=range(3,1,-1))) # (1*3+2*2)/5\n",
    "\n",
    "data = np.arange(6).reshape((3,2))\n",
    "print(\"--------------\\n\",data)\n",
    "\n",
    "print(\"--------------\\n\",np.average(data, axis=1, weights=[1./4, 3./4]))\n",
    "\n",
    "print(\"--------------\\n\",np.average(data, axis=0, weights=[1./4, 2./4, 1./4]))"
   ]
  },
  {
   "cell_type": "code",
   "execution_count": 41,
   "metadata": {},
   "outputs": [],
   "source": [
    "# bartlett 返回Bartlett窗口\n",
    "\n",
    "# 数值计算"
   ]
  },
  {
   "cell_type": "code",
   "execution_count": 42,
   "metadata": {},
   "outputs": [
    {
     "data": {
      "text/plain": [
       "'00012'"
      ]
     },
     "execution_count": 42,
     "metadata": {},
     "output_type": "execute_result"
    }
   ],
   "source": [
    "# base_repr 指定base为进制基准的数\n",
    "\n",
    "# 类型转化\n",
    "np.base_repr(7, base=5, padding=3)"
   ]
  },
  {
   "cell_type": "code",
   "execution_count": 43,
   "metadata": {},
   "outputs": [],
   "source": [
    "# binary_repr 获取给定数的二进制数\n",
    "\n",
    "# 类型转化"
   ]
  },
  {
   "cell_type": "code",
   "execution_count": 44,
   "metadata": {},
   "outputs": [
    {
     "name": "stdout",
     "output_type": "stream",
     "text": [
      "[1 2 0 1 0 1]\n"
     ]
    },
    {
     "data": {
      "text/plain": [
       "array([0.3, 0.7, 2.1])"
      ]
     },
     "execution_count": 44,
     "metadata": {},
     "output_type": "execute_result"
    }
   ],
   "source": [
    "# np.bincount\n",
    "\n",
    "\n",
    "print(np.bincount(np.array([0, 1, 3, 1, 5]))) #0:1次，1：2次，2：0次，3：1次，4：0次，5：1次\n",
    "w = np.array([0.3, 0.5, 0.2, 0.7, 2., -0.6])\n",
    "x = np.array([0, 1, 1, 2, 2, 2])\n",
    "np.bincount(x,  weights=w) # 0：1次=>1*0.3，1：2次=>0.5*1+0.2*1，2：3次=>0.7*1+2*1+(-0.6)*1。"
   ]
  },
  {
   "cell_type": "code",
   "execution_count": 45,
   "metadata": {},
   "outputs": [
    {
     "name": "stdout",
     "output_type": "stream",
     "text": [
      "28\n",
      "29\n",
      "[-16 -12]\n",
      "1\n"
     ]
    }
   ],
   "source": [
    "# bitwise_xor\n",
    "\n",
    "# 数值计算 逻辑判断\n",
    "\n",
    "# 3 is represented by 00001101. Likewise, 17 is represented by 00010001.\n",
    "# The bit-wise XOR of 13 and 17 is therefore 00011100, or 28\n",
    "# 00001101\n",
    "# 00010001\n",
    "# 00011100\n",
    "print(np.bitwise_xor(13, 17))\n",
    "# 00001101\n",
    "# 00010001\n",
    "# 00011101\n",
    "print(np.bitwise_or(13, 17))\n",
    "# 0~15 取负数为-16\n",
    "print(np.bitwise_not(np.array([15,11])))\n",
    "# 00001101\n",
    "# 00010001\n",
    "# 00000001\n",
    "print(np.bitwise_and(13, 17))"
   ]
  },
  {
   "cell_type": "code",
   "execution_count": 46,
   "metadata": {},
   "outputs": [],
   "source": [
    "# blackman 获得布莱克曼数组。\n",
    "\n",
    "# 数值计算"
   ]
  },
  {
   "cell_type": "code",
   "execution_count": 48,
   "metadata": {},
   "outputs": [
    {
     "name": "stdout",
     "output_type": "stream",
     "text": [
      "[[2. 0. 0. 0. 0.]\n",
      " [0. 2. 0. 0. 0.]\n",
      " [1. 1. 3. 0. 0.]\n",
      " [1. 1. 0. 3. 0.]\n",
      " [1. 1. 0. 0. 3.]]\n",
      "--------------\n",
      " [[1 1 2 2]\n",
      " [1 1 2 2]]\n"
     ]
    }
   ],
   "source": [
    "# block 拼接形成新数组\n",
    "\n",
    "# 数组生成\n",
    "A = np.eye(2) * 2\n",
    "B = np.eye(3) * 3\n",
    "print(np.block([\n",
    "    [A,               np.zeros((2, 3))],\n",
    "    [np.ones((B.shape[1], A.shape[0])), B               ]\n",
    "]))\n",
    "A = np.ones((2, 2), int)\n",
    "B = 2 * A\n",
    "print(\"--------------\\n\",np.block([A, B]))                 # hstack([A, B])"
   ]
  },
  {
   "cell_type": "code",
   "execution_count": 49,
   "metadata": {},
   "outputs": [
    {
     "name": "stdout",
     "output_type": "stream",
     "text": [
      "[[1 1 2 2]\n",
      " [1 1 2 2]\n",
      " [3 4 7 8]\n",
      " [5 6 9 0]]\n",
      "[[1 1 2 2]\n",
      " [1 1 2 2]\n",
      " [3 4 7 8]\n",
      " [5 6 9 0]]\n"
     ]
    }
   ],
   "source": [
    "# bmat\n",
    "\n",
    "# 数组生成\n",
    "A = np.mat('1 1; 1 1')\n",
    "B = np.mat('2 2; 2 2')\n",
    "C = np.mat('3 4; 5 6')\n",
    "D = np.mat('7 8; 9 0')\n",
    "print(np.bmat([[A, B], [C, D]]))\n",
    "print(np.bmat('A,B; C,D'))"
   ]
  },
  {
   "cell_type": "code",
   "execution_count": 50,
   "metadata": {},
   "outputs": [
    {
     "data": {
      "text/plain": [
       "\" 'bool',\\n 'bool8',\\n 'bool_',\\n 'broadcas\""
      ]
     },
     "execution_count": 50,
     "metadata": {},
     "output_type": "execute_result"
    }
   ],
   "source": [
    "# bool 布尔值有关操作\n",
    "\"\"\" 'bool',\n",
    " 'bool8',\n",
    " 'bool_',\n",
    " 'broadcas\"\"\""
   ]
  },
  {
   "cell_type": "code",
   "execution_count": 51,
   "metadata": {},
   "outputs": [
    {
     "data": {
      "text/plain": [
       "<numpy.broadcast at 0x1987f60>"
      ]
     },
     "execution_count": 51,
     "metadata": {},
     "output_type": "execute_result"
    }
   ],
   "source": [
    "# broadcast 产生一个模仿广播操作的对象。\n",
    "# Produce an object that mimics broadcasting\n",
    "\n",
    "\n",
    "# 结构变化\n",
    "x = np.array([1, 2, 3])\n",
    "y = np.array([[4], [5], [6]])\n",
    "b = np.broadcast(x, y)\n",
    "b"
   ]
  },
  {
   "cell_type": "code",
   "execution_count": 52,
   "metadata": {},
   "outputs": [
    {
     "data": {
      "text/plain": [
       "[array([[1, 2, 3],\n",
       "        [1, 2, 3]]), array([[4, 4, 4],\n",
       "        [5, 5, 5]])]"
      ]
     },
     "execution_count": 52,
     "metadata": {},
     "output_type": "execute_result"
    }
   ],
   "source": [
    "# np.broadcast_arrays 相互广播任意数量的数组。\n",
    "\n",
    "# 数组生成\n",
    "x = np.array([[1,2,3]])\n",
    "y = np.array([[4],[5]])\n",
    "np.broadcast_arrays(x, y)"
   ]
  },
  {
   "cell_type": "code",
   "execution_count": 53,
   "metadata": {},
   "outputs": [
    {
     "name": "stdout",
     "output_type": "stream",
     "text": [
      "------\n",
      " [[1 2 3]\n",
      " [4 5 6]]\n",
      "------\n",
      " [[[[1 2 3]\n",
      "   [4 5 6]]\n",
      "\n",
      "  [[1 2 3]\n",
      "   [4 5 6]]\n",
      "\n",
      "  [[1 2 3]\n",
      "   [4 5 6]]]\n",
      "\n",
      "\n",
      " [[[1 2 3]\n",
      "   [4 5 6]]\n",
      "\n",
      "  [[1 2 3]\n",
      "   [4 5 6]]\n",
      "\n",
      "  [[1 2 3]\n",
      "   [4 5 6]]]]\n",
      "------\n",
      " [[[[[[1 2 3]\n",
      "     [4 5 6]]\n",
      "\n",
      "    [[1 2 3]\n",
      "     [4 5 6]]\n",
      "\n",
      "    [[1 2 3]\n",
      "     [4 5 6]]]\n",
      "\n",
      "\n",
      "   [[[1 2 3]\n",
      "     [4 5 6]]\n",
      "\n",
      "    [[1 2 3]\n",
      "     [4 5 6]]\n",
      "\n",
      "    [[1 2 3]\n",
      "     [4 5 6]]]]\n",
      "\n",
      "\n",
      "\n",
      "  [[[[1 2 3]\n",
      "     [4 5 6]]\n",
      "\n",
      "    [[1 2 3]\n",
      "     [4 5 6]]\n",
      "\n",
      "    [[1 2 3]\n",
      "     [4 5 6]]]\n",
      "\n",
      "\n",
      "   [[[1 2 3]\n",
      "     [4 5 6]]\n",
      "\n",
      "    [[1 2 3]\n",
      "     [4 5 6]]\n",
      "\n",
      "    [[1 2 3]\n",
      "     [4 5 6]]]]\n",
      "\n",
      "\n",
      "\n",
      "  [[[[1 2 3]\n",
      "     [4 5 6]]\n",
      "\n",
      "    [[1 2 3]\n",
      "     [4 5 6]]\n",
      "\n",
      "    [[1 2 3]\n",
      "     [4 5 6]]]\n",
      "\n",
      "\n",
      "   [[[1 2 3]\n",
      "     [4 5 6]]\n",
      "\n",
      "    [[1 2 3]\n",
      "     [4 5 6]]\n",
      "\n",
      "    [[1 2 3]\n",
      "     [4 5 6]]]]]\n",
      "\n",
      "\n",
      "\n",
      "\n",
      " [[[[[1 2 3]\n",
      "     [4 5 6]]\n",
      "\n",
      "    [[1 2 3]\n",
      "     [4 5 6]]\n",
      "\n",
      "    [[1 2 3]\n",
      "     [4 5 6]]]\n",
      "\n",
      "\n",
      "   [[[1 2 3]\n",
      "     [4 5 6]]\n",
      "\n",
      "    [[1 2 3]\n",
      "     [4 5 6]]\n",
      "\n",
      "    [[1 2 3]\n",
      "     [4 5 6]]]]\n",
      "\n",
      "\n",
      "\n",
      "  [[[[1 2 3]\n",
      "     [4 5 6]]\n",
      "\n",
      "    [[1 2 3]\n",
      "     [4 5 6]]\n",
      "\n",
      "    [[1 2 3]\n",
      "     [4 5 6]]]\n",
      "\n",
      "\n",
      "   [[[1 2 3]\n",
      "     [4 5 6]]\n",
      "\n",
      "    [[1 2 3]\n",
      "     [4 5 6]]\n",
      "\n",
      "    [[1 2 3]\n",
      "     [4 5 6]]]]\n",
      "\n",
      "\n",
      "\n",
      "  [[[[1 2 3]\n",
      "     [4 5 6]]\n",
      "\n",
      "    [[1 2 3]\n",
      "     [4 5 6]]\n",
      "\n",
      "    [[1 2 3]\n",
      "     [4 5 6]]]\n",
      "\n",
      "\n",
      "   [[[1 2 3]\n",
      "     [4 5 6]]\n",
      "\n",
      "    [[1 2 3]\n",
      "     [4 5 6]]\n",
      "\n",
      "    [[1 2 3]\n",
      "     [4 5 6]]]]]]\n",
      "------\n",
      " [[1 2 3]\n",
      " [1 2 3]\n",
      " [1 2 3]]\n"
     ]
    }
   ],
   "source": [
    "# broadcast_to 广播数组\n",
    "# (array, shape, subok=False)\n",
    "\n",
    "# 数组生成\n",
    "x = np.array([[1, 2, 3],[4, 5, 6]])\n",
    "print(\"------\\n\",np.broadcast_to(x, (2,3))) # 第一位数与数组的长度一致\n",
    "print(\"------\\n\",np.broadcast_to(x, (2,3,2,3)))\n",
    "print(\"------\\n\",np.broadcast_to(x, (2,3,2,3,2,3)))\n",
    "x = np.array([1, 2, 3])\n",
    "print(\"------\\n\",np.broadcast_to(x, (3, 3)))"
   ]
  },
  {
   "cell_type": "code",
   "execution_count": 54,
   "metadata": {},
   "outputs": [
    {
     "data": {
      "text/plain": [
       "21"
      ]
     },
     "execution_count": 54,
     "metadata": {},
     "output_type": "execute_result"
    }
   ],
   "source": [
    "# busday_count 计算给定日期间工作日之差\n",
    "\n",
    "# 数值计算\n",
    "np.busday_count('2011-01', '2011-02')"
   ]
  },
  {
   "cell_type": "code",
   "execution_count": 55,
   "metadata": {},
   "outputs": [
    {
     "data": {
      "text/plain": [
       "numpy.datetime64('2011-03-25')"
      ]
     },
     "execution_count": 55,
     "metadata": {},
     "output_type": "execute_result"
    }
   ],
   "source": [
    "# busday_offset 计算以给定日期为起点的，计算日期\n",
    "\n",
    "# 数值计算\n",
    "np.busday_offset('2011-03-22', 3, roll='backward')"
   ]
  },
  {
   "cell_type": "code",
   "execution_count": 56,
   "metadata": {},
   "outputs": [],
   "source": [
    "# busdaycalendar 与日期有关，周末是0，工作日是1\n",
    "# busdaycalendar(weekmask='1111100', holidays=None)\n",
    "\n",
    "# 数值计算"
   ]
  },
  {
   "cell_type": "code",
   "execution_count": 57,
   "metadata": {},
   "outputs": [],
   "source": [
    "# bytes 数据类型"
   ]
  },
  {
   "cell_type": "code",
   "execution_count": 58,
   "metadata": {},
   "outputs": [],
   "source": [
    "# np.byte_bounds 返回指向数组端点的指针。"
   ]
  },
  {
   "cell_type": "code",
   "execution_count": 59,
   "metadata": {},
   "outputs": [],
   "source": [
    "# bytes0 数据类型"
   ]
  },
  {
   "cell_type": "code",
   "execution_count": 60,
   "metadata": {},
   "outputs": [],
   "source": [
    "# numpy.bytes_ 数据类型"
   ]
  },
  {
   "cell_type": "code",
   "execution_count": 61,
   "metadata": {},
   "outputs": [
    {
     "name": "stdout",
     "output_type": "stream",
     "text": [
      "[[1 4]\n",
      " [2 5]\n",
      " [3 6]]\n",
      "[1 2 3 4 5 6]\n"
     ]
    }
   ],
   "source": [
    "# c_ 将slice对象转换为沿第二轴的连接。\n",
    "\n",
    "# 结构变化\n",
    "print(np.c_[np.array([1,2,3]), np.array([4,5,6])])\n",
    "print(np.concatenate(([1,2,3], [4,5,6])))"
   ]
  },
  {
   "cell_type": "code",
   "execution_count": 62,
   "metadata": {},
   "outputs": [
    {
     "data": {
      "text/plain": [
       "True"
      ]
     },
     "execution_count": 62,
     "metadata": {},
     "output_type": "execute_result"
    }
   ],
   "source": [
    "# can_cast 确认给定数据类型之间是否可以转化\n",
    "\n",
    "# 逻辑判断\n",
    "np.can_cast('i8', 'f8')"
   ]
  },
  {
   "cell_type": "code",
   "execution_count": 63,
   "metadata": {},
   "outputs": [],
   "source": [
    "# np.cast 数据类型"
   ]
  },
  {
   "cell_type": "code",
   "execution_count": 64,
   "metadata": {},
   "outputs": [
    {
     "data": {
      "text/plain": [
       "array([1., 2., 3.])"
      ]
     },
     "execution_count": 64,
     "metadata": {},
     "output_type": "execute_result"
    }
   ],
   "source": [
    "# cbrt 返回数组的立方根元素\n",
    "\n",
    "# 数值计算\n",
    "np.cbrt([1,8,27])"
   ]
  },
  {
   "cell_type": "code",
   "execution_count": 65,
   "metadata": {},
   "outputs": [],
   "source": [
    "# numpy.cdouble 某种数据类型"
   ]
  },
  {
   "cell_type": "code",
   "execution_count": 66,
   "metadata": {},
   "outputs": [
    {
     "data": {
      "text/plain": [
       "array([-1., -1., -0.,  1.,  2.,  2.,  2.])"
      ]
     },
     "execution_count": 66,
     "metadata": {},
     "output_type": "execute_result"
    }
   ],
   "source": [
    "# ceil 向上取整\n",
    "\n",
    "# 数值计算\n",
    "a = np.array([-1.7, -1.5, -0.2, 0.2, 1.5, 1.7, 2.0])\n",
    "np.ceil(a)"
   ]
  },
  {
   "cell_type": "code",
   "execution_count": 67,
   "metadata": {},
   "outputs": [],
   "source": [
    "# character 和 char 和 cfloat 数据类型\n",
    "# "
   ]
  },
  {
   "cell_type": "code",
   "execution_count": 68,
   "metadata": {},
   "outputs": [],
   "source": [
    "# compare_chararrays 未知"
   ]
  },
  {
   "cell_type": "code",
   "execution_count": 69,
   "metadata": {},
   "outputs": [],
   "source": [
    "# compat 未知"
   ]
  },
  {
   "cell_type": "code",
   "execution_count": 70,
   "metadata": {},
   "outputs": [
    {
     "data": {
      "text/plain": [
       "\"'complex',\\n 'complex128',\\n 'complex256',\\n 'complex64',\\n 'complex_',\\n 'complexfloating'\""
      ]
     },
     "execution_count": 70,
     "metadata": {},
     "output_type": "execute_result"
    }
   ],
   "source": [
    "# 类型转化\n",
    "\"\"\"'complex',\n",
    " 'complex128',\n",
    " 'complex256',\n",
    " 'complex64',\n",
    " 'complex_',\n",
    " 'complexfloating'\"\"\"#复数的数据类型"
   ]
  },
  {
   "cell_type": "code",
   "execution_count": 71,
   "metadata": {},
   "outputs": [
    {
     "name": "stdout",
     "output_type": "stream",
     "text": [
      "[[3 4]]\n",
      "------\n",
      " [[3 4]\n",
      " [5 6]]\n",
      "------\n",
      " [[2]\n",
      " [4]\n",
      " [6]]\n"
     ]
    }
   ],
   "source": [
    "# compress 返回指定轴的切片\n",
    "\n",
    "# 结构变化\n",
    "a = np.array([[1, 2], [3, 4], [5, 6]])\n",
    "print(np.compress([0, 1], a, axis=0))\n",
    "print(\"------\\n\",np.compress([False, True, True], a, axis=0))\n",
    "print(\"------\\n\",np.compress([False, True], a, axis=1))"
   ]
  },
  {
   "cell_type": "code",
   "execution_count": 72,
   "metadata": {},
   "outputs": [
    {
     "name": "stdout",
     "output_type": "stream",
     "text": [
      "[[1 2]\n",
      " [3 4]\n",
      " [5 6]]\n",
      "------\n",
      " [[1 2 5]\n",
      " [3 4 6]]\n",
      "------\n",
      " [1 2 3 4 5 6]\n"
     ]
    }
   ],
   "source": [
    "# concatenate 沿着现有轴连接数组序列。\n",
    "\n",
    "# 结构转化\n",
    "a = np.array([[1, 2], [3, 4]])\n",
    "b = np.array([[5, 6]])\n",
    "print(np.concatenate((a, b), axis=0))\n",
    "\n",
    "print(\"------\\n\",np.concatenate((a, b.T), axis=1))\n",
    "\n",
    "print(\"------\\n\",np.concatenate((a, b), axis=None))"
   ]
  },
  {
   "cell_type": "code",
   "execution_count": 73,
   "metadata": {},
   "outputs": [
    {
     "data": {
      "text/plain": [
       "array([[1.-1.j, 0.-0.j],\n",
       "       [0.-0.j, 1.-1.j]])"
      ]
     },
     "execution_count": 73,
     "metadata": {},
     "output_type": "execute_result"
    }
   ],
   "source": [
    "# np.conjugate 在整个数组上逐元素操作的函数。与conj一致。\n",
    "\n",
    "# 结构转化\n",
    "x = np.eye(2) + 1j * np.eye(2)\n",
    "np.conjugate(x)"
   ]
  },
  {
   "cell_type": "code",
   "execution_count": 74,
   "metadata": {},
   "outputs": [
    {
     "name": "stdout",
     "output_type": "stream",
     "text": [
      "Help on function convolve in module numpy.core.numeric:\n",
      "\n",
      "convolve(a, v, mode='full')\n",
      "    Returns the discrete, linear convolution of two one-dimensional sequences.\n",
      "    \n",
      "    The convolution operator is often seen in signal processing, where it\n",
      "    models the effect of a linear time-invariant system on a signal [1]_.  In\n",
      "    probability theory, the sum of two independent random variables is\n",
      "    distributed according to the convolution of their individual\n",
      "    distributions.\n",
      "    \n",
      "    If `v` is longer than `a`, the arrays are swapped before computation.\n",
      "    \n",
      "    Parameters\n",
      "    ----------\n",
      "    a : (N,) array_like\n",
      "        First one-dimensional input array.\n",
      "    v : (M,) array_like\n",
      "        Second one-dimensional input array.\n",
      "    mode : {'full', 'valid', 'same'}, optional\n",
      "        'full':\n",
      "          By default, mode is 'full'.  This returns the convolution\n",
      "          at each point of overlap, with an output shape of (N+M-1,). At\n",
      "          the end-points of the convolution, the signals do not overlap\n",
      "          completely, and boundary effects may be seen.\n",
      "    \n",
      "        'same':\n",
      "          Mode 'same' returns output of length ``max(M, N)``.  Boundary\n",
      "          effects are still visible.\n",
      "    \n",
      "        'valid':\n",
      "          Mode 'valid' returns output of length\n",
      "          ``max(M, N) - min(M, N) + 1``.  The convolution product is only given\n",
      "          for points where the signals overlap completely.  Values outside\n",
      "          the signal boundary have no effect.\n",
      "    \n",
      "    Returns\n",
      "    -------\n",
      "    out : ndarray\n",
      "        Discrete, linear convolution of `a` and `v`.\n",
      "    \n",
      "    See Also\n",
      "    --------\n",
      "    scipy.signal.fftconvolve : Convolve two arrays using the Fast Fourier\n",
      "                               Transform.\n",
      "    scipy.linalg.toeplitz : Used to construct the convolution operator.\n",
      "    polymul : Polynomial multiplication. Same output as convolve, but also\n",
      "              accepts poly1d objects as input.\n",
      "    \n",
      "    Notes\n",
      "    -----\n",
      "    The discrete convolution operation is defined as\n",
      "    \n",
      "    .. math:: (a * v)[n] = \\sum_{m = -\\infty}^{\\infty} a[m] v[n - m]\n",
      "    \n",
      "    It can be shown that a convolution :math:`x(t) * y(t)` in time/space\n",
      "    is equivalent to the multiplication :math:`X(f) Y(f)` in the Fourier\n",
      "    domain, after appropriate padding (padding is necessary to prevent\n",
      "    circular convolution).  Since multiplication is more efficient (faster)\n",
      "    than convolution, the function `scipy.signal.fftconvolve` exploits the\n",
      "    FFT to calculate the convolution of large data-sets.\n",
      "    \n",
      "    References\n",
      "    ----------\n",
      "    .. [1] Wikipedia, \"Convolution\", http://en.wikipedia.org/wiki/Convolution.\n",
      "    \n",
      "    Examples\n",
      "    --------\n",
      "    Note how the convolution operator flips the second array\n",
      "    before \"sliding\" the two across one another:\n",
      "    \n",
      "    >>> np.convolve([1, 2, 3], [0, 1, 0.5])\n",
      "    array([ 0. ,  1. ,  2.5,  4. ,  1.5])\n",
      "    \n",
      "    Only return the middle values of the convolution.\n",
      "    Contains boundary effects, where zeros are taken\n",
      "    into account:\n",
      "    \n",
      "    >>> np.convolve([1,2,3],[0,1,0.5], 'same')\n",
      "    array([ 1. ,  2.5,  4. ])\n",
      "    \n",
      "    The two arrays are of the same length, so there\n",
      "    is only one position where they completely overlap:\n",
      "    \n",
      "    >>> np.convolve([1,2,3],[0,1,0.5], 'valid')\n",
      "    array([ 2.5])\n",
      "\n"
     ]
    }
   ],
   "source": [
    "help(np.convolve)"
   ]
  },
  {
   "cell_type": "code",
   "execution_count": 75,
   "metadata": {},
   "outputs": [
    {
     "data": {
      "text/plain": [
       "'[ 0 , 1 ,1.5, 4 ,1.5]'"
      ]
     },
     "execution_count": 75,
     "metadata": {},
     "output_type": "execute_result"
    }
   ],
   "source": [
    "# convolve 计算卷积\n",
    "\n",
    "# 数值计算\n",
    "np.convolve([1, 2, 3], [0, 1, 0.5])\n",
    "\"\"\"[0*1,0*2,0*3,---,---]\"\"\"\n",
    "\"\"\"[---,1*1,1*2,1*3,---]\"\"\"\n",
    "\"\"\"[---,---,.5*1,.5*2,.5*3]\"\"\"\n",
    "\"\"\"[ 0 , 1 ,1.5, 4 ,1.5]\"\"\""
   ]
  },
  {
   "cell_type": "code",
   "execution_count": 76,
   "metadata": {},
   "outputs": [
    {
     "data": {
      "text/plain": [
       "False"
      ]
     },
     "execution_count": 76,
     "metadata": {},
     "output_type": "execute_result"
    }
   ],
   "source": [
    "# copy 复制数组\n",
    "\n",
    "# 数组生成\n",
    "\n",
    "x = np.array([1, 2, 3])\n",
    "z = np.copy(x)\n",
    "x[0] = 10\n",
    "x[0] == z[0]"
   ]
  },
  {
   "cell_type": "code",
   "execution_count": 77,
   "metadata": {},
   "outputs": [
    {
     "name": "stdout",
     "output_type": "stream",
     "text": [
      "-1.3\n",
      "inf\n",
      "-inf\n",
      "[-1. -0. -1.]\n",
      "[-1.  0.  1.]\n"
     ]
    },
    {
     "name": "stderr",
     "output_type": "stream",
     "text": [
      "/home/mathartsys/venv3/lib/python3.6/site-packages/ipykernel_launcher.py:6: RuntimeWarning: divide by zero encountered in double_scalars\n",
      "  \n",
      "/home/mathartsys/venv3/lib/python3.6/site-packages/ipykernel_launcher.py:7: RuntimeWarning: divide by zero encountered in double_scalars\n",
      "  import sys\n"
     ]
    }
   ],
   "source": [
    "# copysign 交换两数组间，或两数值间的符号\n",
    "\n",
    "# 数组生成\n",
    "\n",
    "print(np.copysign(1.3, -1))\n",
    "print(1/np.copysign(0, 1))\n",
    "print(1/np.copysign(0, -1))\n",
    "print(np.copysign([-1, 0, 1], -1.1))\n",
    "print( np.copysign([-1, 0, 1], np.arange(3)-1))"
   ]
  },
  {
   "cell_type": "code",
   "execution_count": 78,
   "metadata": {},
   "outputs": [],
   "source": [
    "# copyto 用于复制数组和广播？\n",
    "# 未知"
   ]
  },
  {
   "cell_type": "code",
   "execution_count": 79,
   "metadata": {},
   "outputs": [],
   "source": [
    "# core 不知道干嘛\n",
    "# 未知"
   ]
  },
  {
   "cell_type": "code",
   "execution_count": 80,
   "metadata": {},
   "outputs": [],
   "source": [
    "# corrcoef 返回皮尔逊积矩相关系数。\n",
    "# 数值计算"
   ]
  },
  {
   "cell_type": "code",
   "execution_count": 81,
   "metadata": {},
   "outputs": [
    {
     "name": "stdout",
     "output_type": "stream",
     "text": [
      "[3.5]\n",
      "[2.  3.5 3. ]\n",
      "[0.5 2.  3.5 3.  0. ]\n"
     ]
    }
   ],
   "source": [
    "# correlate 该函数计算信号处理文本中通常定义的相关性\n",
    "# 数值计算\n",
    "print(np.correlate([1, 2, 3], [0, 1, 0.5]))\n",
    "\n",
    "print(np.correlate([1, 2, 3], [0, 1, 0.5], \"same\"))\n",
    "\n",
    "print(np.correlate([1, 2, 3], [0, 1, 0.5], \"full\"))"
   ]
  },
  {
   "cell_type": "code",
   "execution_count": 82,
   "metadata": {},
   "outputs": [
    {
     "data": {
      "text/plain": [
       "0.7071067811865476"
      ]
     },
     "execution_count": 82,
     "metadata": {},
     "output_type": "execute_result"
    }
   ],
   "source": [
    "# cos 余弦\n",
    "# 数值计算\n",
    "np.cos(np.pi/4)"
   ]
  },
  {
   "cell_type": "code",
   "execution_count": 83,
   "metadata": {},
   "outputs": [
    {
     "data": {
      "text/plain": [
       "1.0"
      ]
     },
     "execution_count": 83,
     "metadata": {},
     "output_type": "execute_result"
    }
   ],
   "source": [
    "# cosh 1/2 * (np.exp(x) + np.exp(-x)) 双曲余弦\n",
    "# 数值计算\n",
    "np.cosh(0)"
   ]
  },
  {
   "cell_type": "code",
   "execution_count": 84,
   "metadata": {},
   "outputs": [
    {
     "name": "stdout",
     "output_type": "stream",
     "text": [
      "4\n",
      "5\n",
      "[2 0 1 2 2]\n",
      "[0 3]\n"
     ]
    }
   ],
   "source": [
    "# np.count_nonzero 计算非0数的个数，可以沿轴\n",
    "\n",
    "# 数值计算\n",
    "print(np.count_nonzero(np.eye(4)))# 计算数组中有多少非零数\n",
    "\n",
    "print(np.count_nonzero([[0,1,7,0,0],[3,0,0,2,19]]))# 计算数组中有多少非零数\n",
    "\n",
    "print(np.count_nonzero([[0,0,7,0,0],[3,0,0,2,19], [3,0,0,2,19]],axis=0))# 沿轴计算数组中有多少非零数\n",
    "\n",
    "print(np.count_nonzero([[0,0,0,0,0],[3,0,0,2,19]], axis=1))"
   ]
  },
  {
   "cell_type": "code",
   "execution_count": 85,
   "metadata": {},
   "outputs": [
    {
     "name": "stdout",
     "output_type": "stream",
     "text": [
      "[[11.71       -4.286     ]\n",
      " [-4.286       2.14413333]]\n",
      "[[11.71       -4.286     ]\n",
      " [-4.286       2.14413333]]\n",
      "11.709999999999999\n"
     ]
    }
   ],
   "source": [
    "# cov 估计一个协方差矩阵，给定数据和权重。\n",
    "\n",
    "# 数值计算\n",
    "x = [-2.1, -1,  4.3]\n",
    "y = [3,  1.1,  0.12]\n",
    "X = np.stack((x, y), axis=0)\n",
    "print(np.cov(X))\n",
    "\n",
    "\n",
    "print(np.cov(x, y))\n",
    "\n",
    "\n",
    "print(np.cov(x))"
   ]
  },
  {
   "cell_type": "code",
   "execution_count": 86,
   "metadata": {},
   "outputs": [
    {
     "name": "stdout",
     "output_type": "stream",
     "text": [
      "[-3  6 -3]\n",
      "[12 -6 -3]\n"
     ]
    }
   ],
   "source": [
    "# cross 返回两个向量(数组)的叉乘。\n",
    "# cross(a, b, axisa=-1, axisb=-1, axisc=-1, axis=None)\n",
    "# 数值计算\n",
    "x = [1, 2, 3]\n",
    "y = [4, 5, 6]\n",
    "print(np.cross(x, y)) # 2*6-3*5，3*4-1*6，1*5-2*4x = [1, 2, 3]\n",
    "x = [1, 2] # x = [1, 2] == x = [1, 2, 0]\n",
    "y = [4, 5, 6]\n",
    "print(np.cross(x, y)) # 2*6-0*5，0*4-1*6，1*5-2*4"
   ]
  },
  {
   "cell_type": "code",
   "execution_count": 87,
   "metadata": {},
   "outputs": [],
   "source": [
    "# np.csingle 复数的格式\n",
    "# 未知"
   ]
  },
  {
   "cell_type": "code",
   "execution_count": 88,
   "metadata": {},
   "outputs": [],
   "source": [
    "# ctypeslib 不知道干嘛的\n",
    "# 未知"
   ]
  },
  {
   "cell_type": "code",
   "execution_count": 89,
   "metadata": {},
   "outputs": [
    {
     "name": "stdout",
     "output_type": "stream",
     "text": [
      "[  1   2   6  24 120 720]\n",
      "------axis=0------------\n",
      " [[ 1  2  3]\n",
      " [ 4 10 18]]\n",
      "------axis=1------------\n",
      " [[  1   2   6]\n",
      " [  4  20 120]]\n"
     ]
    }
   ],
   "source": [
    "# cumproduct 累乘生成新的数组 \n",
    "# 数组生成\n",
    "a = np.array([[1,2,3], [4,5,6]])\n",
    "print(np.cumprod(a))\n",
    "print(\"------axis=0------------\\n\",np.cumprod(a, axis=0))\n",
    "print(\"------axis=1------------\\n\",np.cumprod(a, axis=1))"
   ]
  },
  {
   "cell_type": "code",
   "execution_count": 90,
   "metadata": {},
   "outputs": [
    {
     "name": "stdout",
     "output_type": "stream",
     "text": [
      "[ 1  3  6 10 15 21]\n",
      "------axis=0------------\n",
      " [[1 2 3]\n",
      " [5 7 9]]\n",
      "------axis=1------------\n",
      " [[ 1  3  6]\n",
      " [ 4  9 15]]\n"
     ]
    }
   ],
   "source": [
    "# np.cumsum 累加生成新的数组\n",
    "# 数组生成\n",
    "a = np.array([[1,2,3], [4,5,6]])\n",
    "print(np.cumsum(a))\n",
    "print(\"------axis=0------------\\n\",np.cumsum(a,axis=0))\n",
    "print(\"------axis=1------------\\n\",np.cumsum(a,axis=1))"
   ]
  },
  {
   "cell_type": "code",
   "execution_count": 91,
   "metadata": {},
   "outputs": [],
   "source": [
    "#  'datetime64',  与时间有关的数据格式\n",
    "# 'datetime_as_string',\n",
    "# 'datetime_data',"
   ]
  },
  {
   "cell_type": "code",
   "execution_count": 92,
   "metadata": {},
   "outputs": [
    {
     "data": {
      "text/plain": [
       "3.141592653589793"
      ]
     },
     "execution_count": 92,
     "metadata": {},
     "output_type": "execute_result"
    }
   ],
   "source": [
    "# deg2rad x * pi / 180.\n",
    "# 数值计算\n",
    "np.deg2rad(180)"
   ]
  },
  {
   "cell_type": "code",
   "execution_count": 93,
   "metadata": {},
   "outputs": [
    {
     "name": "stdout",
     "output_type": "stream",
     "text": [
      "[[ 1  2  3  4]\n",
      " [ 5  6  7  8]\n",
      " [ 9 10 11 12]]\n",
      "------axis=0------------\n",
      " [[ 1  2  3  4]\n",
      " [ 9 10 11 12]]\n",
      "------axis=1------------\n",
      " [[ 1  3  4]\n",
      " [ 5  7  8]\n",
      " [ 9 11 12]]\n"
     ]
    }
   ],
   "source": [
    "# delete 沿指定轴删除数列\n",
    "# 结构变化\n",
    "arr = np.array([[1,2,3,4], [5,6,7,8], [9,10,11,12]])\n",
    "print(arr)\n",
    "print(\"------axis=0------------\\n\",np.delete(arr, 1, 0))\n",
    "print(\"------axis=1------------\\n\",np.delete(arr, 1, 1))"
   ]
  },
  {
   "cell_type": "code",
   "execution_count": 94,
   "metadata": {},
   "outputs": [],
   "source": [
    "# deprecate  不知道干嘛的\n",
    "# 未知"
   ]
  },
  {
   "cell_type": "code",
   "execution_count": 95,
   "metadata": {},
   "outputs": [],
   "source": [
    "# np.deprecate_with_doc 不知道干嘛的\n",
    "# 未知"
   ]
  },
  {
   "cell_type": "code",
   "execution_count": 96,
   "metadata": {},
   "outputs": [
    {
     "name": "stdout",
     "output_type": "stream",
     "text": [
      "[[0 1 2]\n",
      " [3 4 5]\n",
      " [6 7 8]]\n",
      "[0 4 8]\n",
      "[1 5]\n"
     ]
    }
   ],
   "source": [
    "# diag 与 diagnal类似，一个是类属性，一个是操作对象方法。\n",
    "# 结构识别 数组生成\n",
    "x = np.arange(9).reshape((3,3))\n",
    "print(x)\n",
    "print(np.diag(x))\n",
    "print(np.diag(x,k=1))"
   ]
  },
  {
   "cell_type": "code",
   "execution_count": 97,
   "metadata": {},
   "outputs": [
    {
     "name": "stdout",
     "output_type": "stream",
     "text": [
      "----------\n",
      " [[ 0  1  2  3  4  5]\n",
      " [ 6  7  8  9 10 11]\n",
      " [12 13 14 15 16 17]\n",
      " [18 19 20 21 22 23]]\n",
      "----------\n",
      " [[100   1   2   3   4   5]\n",
      " [  6 100   8   9  10  11]\n",
      " [ 12  13 100  15  16  17]\n",
      " [ 18  19  20 100  22  23]]\n",
      "----------\n",
      " (array([0, 1]), array([0, 1]), array([0, 1]))\n",
      "----------\n",
      " [[[0 0]\n",
      "  [0 0]]\n",
      "\n",
      " [[0 0]\n",
      "  [0 0]]]\n",
      "----------\n",
      " [[[1 0]\n",
      "  [0 0]]\n",
      "\n",
      " [[0 0]\n",
      "  [0 1]]]\n"
     ]
    }
   ],
   "source": [
    "# diag_indices 按照给定的数据维度，生成相应的对角线的索引，可以领用该索引修改原数组的值\n",
    "# 数值索引 结构变化\n",
    "di = np.diag_indices(4)\n",
    "a = np.arange(24).reshape(4, 6)\n",
    "print(\"----------\\n\",a)\n",
    "a[di] = 100\n",
    "print(\"----------\\n\",a)\n",
    "d3 = np.diag_indices(2, 3)\n",
    "print(\"----------\\n\",d3)\n",
    "a = np.zeros((2, 2, 2), dtype=int)\n",
    "print(\"----------\\n\",a)\n",
    "a[d3] = 1\n",
    "print(\"----------\\n\",a)"
   ]
  },
  {
   "cell_type": "code",
   "execution_count": 98,
   "metadata": {},
   "outputs": [
    {
     "data": {
      "text/plain": [
       "(array([0, 1, 2]), array([0, 1, 2]), array([0, 1, 2]))"
      ]
     },
     "execution_count": 98,
     "metadata": {},
     "output_type": "execute_result"
    }
   ],
   "source": [
    "# diag_indices_from 获取主对角线的数组\n",
    "# 数值索引\n",
    "np.diag_indices_from(np.array([[[4, 1,5],[2, 1,3],[7, 2,6]],[[4, 1,5],[2, 1,3],[7, 2,6]],[[4, 1,5],[2, 1,3],[7, 2,6]]]))"
   ]
  },
  {
   "cell_type": "code",
   "execution_count": 99,
   "metadata": {},
   "outputs": [
    {
     "data": {
      "text/plain": [
       "array([[1, 0, 0, 0],\n",
       "       [0, 2, 0, 0],\n",
       "       [0, 0, 3, 0],\n",
       "       [0, 0, 0, 4]])"
      ]
     },
     "execution_count": 99,
     "metadata": {},
     "output_type": "execute_result"
    }
   ],
   "source": [
    "# diagflat 将数组flat,展开至对角矩阵\n",
    "# 数组生成\n",
    "np.diagflat([[1,2], [3,4]])"
   ]
  },
  {
   "cell_type": "code",
   "execution_count": 100,
   "metadata": {},
   "outputs": [
    {
     "name": "stdout",
     "output_type": "stream",
     "text": [
      "[[0 1 2]\n",
      " [3 4 5]\n",
      " [6 7 8]]\n",
      "[0 4 8]\n",
      "[1 5]\n",
      "[2]\n"
     ]
    },
    {
     "data": {
      "text/plain": [
       "array([0, 4, 8])"
      ]
     },
     "execution_count": 100,
     "metadata": {},
     "output_type": "execute_result"
    }
   ],
   "source": [
    "# diagonal 根据给定位置，取对角线元素 diagonal是araay的类属性，diag是操作数组的方法函数\n",
    "# 数组生成\n",
    "a = np.arange(9).reshape(3,3)\n",
    "print(a)\n",
    "print(a.diagonal())\n",
    "print(a.diagonal(1))\n",
    "print(a.diagonal(2))\n",
    "np.diag(a)"
   ]
  },
  {
   "cell_type": "code",
   "execution_count": 101,
   "metadata": {},
   "outputs": [
    {
     "name": "stdout",
     "output_type": "stream",
     "text": [
      "[ 1  2  3 -7]\n",
      "[  1   1 -10]\n",
      "[  1   1 -10]\n",
      "-----\n",
      " [[2 3 4]\n",
      " [5 1 2]]\n",
      "-----\n",
      " [[2 3 4]\n",
      " [5 1 2]]\n",
      "-----\n",
      " [[-1  2  0 -2]]\n"
     ]
    }
   ],
   "source": [
    "# diff 求差值\n",
    "# 数值计算\n",
    "x = np.array([1, 2, 4, 7, 0])\n",
    "print(np.diff(x))\n",
    "print(np.diff(np.diff(x)))\n",
    "print(np.diff(x,n=2)) # 计算差值的差值\n",
    "\n",
    "x = np.array([[1, 3, 6, 10], [0, 5, 6, 8]])\n",
    "print(\"-----\\n\",np.diff(x))\n",
    "\n",
    "print(\"-----\\n\",np.diff(x,axis=1))\n",
    "\n",
    "print(\"-----\\n\",np.diff(x,axis=0))"
   ]
  },
  {
   "cell_type": "code",
   "execution_count": 102,
   "metadata": {},
   "outputs": [
    {
     "name": "stdout",
     "output_type": "stream",
     "text": [
      "[2 5 5 5 5]\n",
      "[1 4 3 2 2]\n"
     ]
    }
   ],
   "source": [
    "# digitize 返回输入数组中每个值所属的桶的索引。\n",
    "# 数值索引\n",
    "x = np.array([1.2, 10.0, 12.4, 15.5, 20.])\n",
    "bins = np.array([0.0, 1.0, 2.5, 4.0, 10.0])\n",
    "inds = np.digitize(x, bins)\n",
    "print(inds)\n",
    "x = np.array([0.2, 6.4, 3.0, 1.6,2.1])\n",
    "bins = np.array([0.0, 1.0, 2.5, 4.0, 10.0]) #0.2 in [0,1]; 6.4 in [4,10]....\n",
    "inds = np.digitize(x, bins)\n",
    "print(inds)"
   ]
  },
  {
   "cell_type": "code",
   "execution_count": 103,
   "metadata": {},
   "outputs": [],
   "source": [
    "# disp 工程方面 在设备上显示信息\n",
    "# 未知"
   ]
  },
  {
   "cell_type": "code",
   "execution_count": 104,
   "metadata": {},
   "outputs": [
    {
     "name": "stdout",
     "output_type": "stream",
     "text": [
      "[0.   0.25 0.5  0.75 1.  ]\n",
      "[0.   0.25 0.5  0.75 1.  ]\n"
     ]
    }
   ],
   "source": [
    "# divide 除法\n",
    "# 数值计算\n",
    "x = np.arange(5)\n",
    "print(np.divide(x, 4))\n",
    "print(x/4)"
   ]
  },
  {
   "cell_type": "code",
   "execution_count": 105,
   "metadata": {},
   "outputs": [],
   "source": [
    "# division 表示是numpy的除法\n",
    "# 数值计算"
   ]
  },
  {
   "cell_type": "code",
   "execution_count": 106,
   "metadata": {},
   "outputs": [
    {
     "data": {
      "text/plain": [
       "(array([0, 0, 0, 1, 1]), array([0, 1, 2, 0, 1]))"
      ]
     },
     "execution_count": 106,
     "metadata": {},
     "output_type": "execute_result"
    }
   ],
   "source": [
    "# divmod 同时获得数组的余和模\n",
    "# 数值计算\n",
    "np.divmod(np.arange(5), 3)"
   ]
  },
  {
   "cell_type": "code",
   "execution_count": 107,
   "metadata": {},
   "outputs": [
    {
     "name": "stdout",
     "output_type": "stream",
     "text": [
      "[[4 1]\n",
      " [2 2]]\n"
     ]
    }
   ],
   "source": [
    "# dot 矩阵点乘\n",
    "# 数值计算\n",
    "a = [[1, 0], [0, 1]]\n",
    "b = [[4, 1], [2, 2]]\n",
    "print(np.dot(a, b)) #矩阵点乘"
   ]
  },
  {
   "cell_type": "code",
   "execution_count": 108,
   "metadata": {},
   "outputs": [],
   "source": [
    "# double 一种数据类型"
   ]
  },
  {
   "cell_type": "code",
   "execution_count": 109,
   "metadata": {},
   "outputs": [],
   "source": [
    "# dsplit hsplit vsplit 沿轴拆分数组\n",
    "# 结构变化"
   ]
  },
  {
   "cell_type": "code",
   "execution_count": 110,
   "metadata": {},
   "outputs": [
    {
     "name": "stdout",
     "output_type": "stream",
     "text": [
      "[[[1 2]\n",
      "  [2 3]\n",
      "  [3 4]]]\n",
      "------------------------\n",
      " [[[1 2]]\n",
      "\n",
      " [[2 3]]\n",
      "\n",
      " [[3 4]]]\n"
     ]
    }
   ],
   "source": [
    "# dstack 按顺序深度排列数组(沿第三轴排列)。生成至少三维的数据\n",
    "# 结构变化\n",
    "a = np.array((1,2,3))\n",
    "b = np.array((2,3,4))\n",
    "print(np.dstack((a,b)))\n",
    "a = np.array([[1],[2],[3]])\n",
    "b = np.array([[2],[3],[4]])\n",
    "print(\"------------------------\\n\",np.dstack((a,b)))"
   ]
  },
  {
   "cell_type": "code",
   "execution_count": 111,
   "metadata": {},
   "outputs": [],
   "source": [
    "# np.dtype 求数组中数据的类型\n",
    "# 类型识别"
   ]
  },
  {
   "cell_type": "code",
   "execution_count": 112,
   "metadata": {},
   "outputs": [
    {
     "data": {
      "text/plain": [
       "2.718281828459045"
      ]
     },
     "execution_count": 112,
     "metadata": {},
     "output_type": "execute_result"
    }
   ],
   "source": [
    "# np.e 常数e\n",
    "np.e"
   ]
  },
  {
   "cell_type": "code",
   "execution_count": 113,
   "metadata": {},
   "outputs": [
    {
     "name": "stdout",
     "output_type": "stream",
     "text": [
      "[ 1  2  3 -7]\n",
      "[-99   1   2   3  -7  88  99]\n",
      "[ 1  2 -3  5 18]\n"
     ]
    }
   ],
   "source": [
    "# np.ediff1d 数组中连续元素之间的差异。\n",
    "# 数值计算\n",
    "x = np.array([1, 2, 4, 7, 0])\n",
    "print(np.ediff1d(x)) # 2-1=1 4-2=2 7-4=3 0-7=-7\n",
    "print(np.ediff1d(x, to_begin=-99, to_end=np.array([88, 99]))) # 该函数还可以对开头和结尾做修改\n",
    "y = [[1, 2, 4], [1, 6, 24]]\n",
    "print(np.ediff1d(y)) # 2维按序平推为1维"
   ]
  },
  {
   "cell_type": "code",
   "execution_count": 114,
   "metadata": {},
   "outputs": [],
   "source": [
    "# einsum 相当好用的函数，速度快的很！矩阵的计算几乎都可以用，并且不考虑维度，神函数！！！\n",
    "# http://www.atyun.com/32288.html\n",
    "# 函数运算"
   ]
  },
  {
   "cell_type": "code",
   "execution_count": 115,
   "metadata": {},
   "outputs": [
    {
     "name": "stdout",
     "output_type": "stream",
     "text": [
      "['einsum_path', (1, 2), (0, 1)]\n",
      "---------------------------------\n",
      "   Complete contraction:  ij,jk,kl->il\n",
      "         Naive scaling:  4\n",
      "     Optimized scaling:  3\n",
      "      Naive FLOP count:  1.200e+02\n",
      "  Optimized FLOP count:  5.700e+01\n",
      "   Theoretical speedup:  2.105\n",
      "  Largest intermediate:  4.000e+00 elements\n",
      "--------------------------------------------------------------------------\n",
      "scaling                  current                                remaining\n",
      "--------------------------------------------------------------------------\n",
      "   3                   kl,jk->jl                                ij,jl->il\n",
      "   3                   jl,ij->il                                   il->il\n"
     ]
    }
   ],
   "source": [
    "# np.einsum_path\n",
    "# 通过考虑中间数组的创建，计算einsum表达式的最低成本收缩顺序\n",
    "# 结构识别 结构变化\n",
    "a = np.random.rand(2, 2)\n",
    "b = np.random.rand(2, 5)\n",
    "c = np.random.rand(5, 2)\n",
    "path_info = np.einsum_path('ij,jk,kl->il', a, b, c, optimize='greedy')\n",
    "print(path_info[0])\n",
    "\n",
    "print(\"---------------------------------\\n\",path_info[1])"
   ]
  },
  {
   "cell_type": "code",
   "execution_count": 116,
   "metadata": {},
   "outputs": [],
   "source": [
    "# emath 没啥用，下面包含的math方法，numpy本身也有\n",
    "# 数值计算"
   ]
  },
  {
   "cell_type": "code",
   "execution_count": 117,
   "metadata": {},
   "outputs": [],
   "source": [
    "# empty_like empty 生成随机矩阵，随机数那么大。。没有范围。。没用啊。。。\n",
    "# 数组生成"
   ]
  },
  {
   "cell_type": "code",
   "execution_count": 118,
   "metadata": {},
   "outputs": [
    {
     "data": {
      "text/plain": [
       "array([ True,  True, False])"
      ]
     },
     "execution_count": 118,
     "metadata": {},
     "output_type": "execute_result"
    }
   ],
   "source": [
    "# np.equal判断给定数组的对应元素是否相等\n",
    "# 逻辑判断\n",
    "np.equal([0, 1, 3], np.arange(3))"
   ]
  },
  {
   "cell_type": "code",
   "execution_count": 119,
   "metadata": {},
   "outputs": [],
   "source": [
    "# errstate 用于浮点错误的描述管理器\n",
    "# 代码申明 逻辑判断"
   ]
  },
  {
   "cell_type": "code",
   "execution_count": 120,
   "metadata": {},
   "outputs": [
    {
     "data": {
      "text/plain": [
       "0.5772156649015329"
      ]
     },
     "execution_count": 120,
     "metadata": {},
     "output_type": "execute_result"
    }
   ],
   "source": [
    "# euler_gamma 欧拉常数r\n",
    "np.euler_gamma"
   ]
  },
  {
   "cell_type": "code",
   "execution_count": 121,
   "metadata": {},
   "outputs": [
    {
     "data": {
      "text/plain": [
       "array([ 7.3890561 , 20.08553692])"
      ]
     },
     "execution_count": 121,
     "metadata": {},
     "output_type": "execute_result"
    }
   ],
   "source": [
    "# exp 求e的指数\n",
    "# 数值计算\n",
    "np.exp([2, 3])"
   ]
  },
  {
   "cell_type": "code",
   "execution_count": 122,
   "metadata": {},
   "outputs": [
    {
     "data": {
      "text/plain": [
       "array([4., 8.])"
      ]
     },
     "execution_count": 122,
     "metadata": {},
     "output_type": "execute_result"
    }
   ],
   "source": [
    "# exp2 求2的指数\n",
    "# 数值计算\n",
    "np.exp2([2, 3])"
   ]
  },
  {
   "cell_type": "code",
   "execution_count": 123,
   "metadata": {},
   "outputs": [
    {
     "name": "stdout",
     "output_type": "stream",
     "text": [
      "(2,)\n",
      "[[1 2]]\n",
      "[[1]\n",
      " [2]]\n"
     ]
    }
   ],
   "source": [
    "# expand_dims 根据给定axis增加维度\n",
    "# 结构变化\n",
    "x = np.array([1,2])\n",
    "print(x.shape)\n",
    "y = np.expand_dims(x, axis=0)\n",
    "print(y)\n",
    "y = np.expand_dims(x, axis=1)\n",
    "print(y)"
   ]
  },
  {
   "cell_type": "code",
   "execution_count": 124,
   "metadata": {},
   "outputs": [
    {
     "name": "stdout",
     "output_type": "stream",
     "text": [
      "1.00000000005e-10\n",
      "1.000000082740371e-10\n"
     ]
    }
   ],
   "source": [
    "# expm1 Calculate exp(x) - 1 for all elements in the array\n",
    "# 数值计算\n",
    "print(np.expm1(1e-10))\n",
    "print(np.exp(1e-10) - 1)"
   ]
  },
  {
   "cell_type": "code",
   "execution_count": 125,
   "metadata": {},
   "outputs": [
    {
     "name": "stdout",
     "output_type": "stream",
     "text": [
      "[[ 0  1  2]\n",
      " [ 3  4  5]\n",
      " [ 6  7  8]\n",
      " [ 9 10 11]]\n",
      "[[ True False False]\n",
      " [ True False False]\n",
      " [ True False False]\n",
      " [ True False False]]\n"
     ]
    },
    {
     "data": {
      "text/plain": [
       "array([0, 3, 6, 9])"
      ]
     },
     "execution_count": 125,
     "metadata": {},
     "output_type": "execute_result"
    }
   ],
   "source": [
    "# extract 返回满足某种条件的数组元素。\n",
    "# 数组生成 逻辑判断\n",
    "arr = np.arange(12).reshape((4, 3))\n",
    "print(arr)\n",
    "condition = np.mod(arr, 3)==0\n",
    "print(condition)\n",
    "np.extract(condition, arr) # 直接用 数组[条件] 也可以\n",
    "arr[condition]"
   ]
  },
  {
   "cell_type": "code",
   "execution_count": 126,
   "metadata": {},
   "outputs": [
    {
     "name": "stdout",
     "output_type": "stream",
     "text": [
      "[[1 0]\n",
      " [0 1]]\n",
      "[[0. 1. 0.]\n",
      " [0. 0. 1.]\n",
      " [0. 0. 0.]]\n"
     ]
    }
   ],
   "source": [
    "# eye 生成单位矩阵，返回一个二维数组，对角线上是1，其他地方是0。\n",
    "# 数组生成\n",
    "print(np.eye(2, dtype=int))\n",
    "print(np.eye(3, k=1))"
   ]
  },
  {
   "cell_type": "code",
   "execution_count": 127,
   "metadata": {},
   "outputs": [
    {
     "name": "stdout",
     "output_type": "stream",
     "text": [
      "1.0\n",
      "[1.2 1.2]\n"
     ]
    }
   ],
   "source": [
    "# fabs 取绝对值\n",
    "\n",
    "# 数值计算\n",
    "print(np.fabs(-1))\n",
    "\n",
    "print(np.fabs([-1.2, 1.2]))"
   ]
  },
  {
   "cell_type": "code",
   "execution_count": 128,
   "metadata": {},
   "outputs": [],
   "source": [
    "# fastCopyAndTranspose 不知道干嘛\n",
    "# 未知"
   ]
  },
  {
   "cell_type": "code",
   "execution_count": 129,
   "metadata": {},
   "outputs": [
    {
     "name": "stdout",
     "output_type": "stream",
     "text": [
      "True\n"
     ]
    },
    {
     "name": "stderr",
     "output_type": "stream",
     "text": [
      "/home/mathartsys/venv3/lib/python3.6/site-packages/numpy/core/numeric.py:501: ComplexWarning: Casting complex values to real discards the imaginary part\n",
      "  return array(a, dtype, copy=False, order=order)\n"
     ]
    },
    {
     "data": {
      "image/png": "[encoded data removed]",
      "text/plain": [
       "<Figure size 432x288 with 1 Axes>"
      ]
     },
     "metadata": {},
     "output_type": "display_data"
    }
   ],
   "source": [
    "# fft 离散傅里叶变换。\n",
    "# 数值计算\n",
    "x = np.linspace(0, 2 * np.pi, 30)\n",
    "wave = np.cos(x)\n",
    "transformed = np.fft.fft(wave)\n",
    "print (np.all(np.abs(np.fft.ifft(transformed) - wave) < 10 ** -9) )\n",
    "plt.plot(transformed)\n",
    "plt.show()"
   ]
  },
  {
   "cell_type": "code",
   "execution_count": 130,
   "metadata": {},
   "outputs": [
    {
     "name": "stdout",
     "output_type": "stream",
     "text": [
      "[[5 0 0]\n",
      " [0 5 0]\n",
      " [0 0 5]]\n",
      "--------------\n",
      " [[[[4 0]\n",
      "   [0 0]]\n",
      "\n",
      "  [[0 0]\n",
      "   [0 0]]]\n",
      "\n",
      "\n",
      " [[[0 0]\n",
      "   [0 0]]\n",
      "\n",
      "  [[0 0]\n",
      "   [0 4]]]]\n"
     ]
    }
   ],
   "source": [
    "# fill_diagonal 填充给定数组的任意维数的主对角线。\n",
    "# 数组生成\n",
    "a = np.zeros((3, 3), int)\n",
    "np.fill_diagonal(a, 5)\n",
    "print(a)\n",
    "a = np.zeros((2, 2, 2, 2), int)\n",
    "np.fill_diagonal(a, 4)\n",
    "print(\"--------------\\n\",a)"
   ]
  },
  {
   "cell_type": "code",
   "execution_count": 131,
   "metadata": {},
   "outputs": [
    {
     "data": {
      "text/plain": [
       "dtype('complex128')"
      ]
     },
     "execution_count": 131,
     "metadata": {},
     "output_type": "execute_result"
    }
   ],
   "source": [
    "# find_common_type 根据标准强制规则确定公共类型。\n",
    "# 类型转化\n",
    "np.find_common_type(['f4', 'f4', 'i4'], ['c8'])"
   ]
  },
  {
   "cell_type": "code",
   "execution_count": 132,
   "metadata": {},
   "outputs": [],
   "source": [
    "# finfo 显示浮点的数据计算限制"
   ]
  },
  {
   "cell_type": "code",
   "execution_count": 133,
   "metadata": {},
   "outputs": [
    {
     "data": {
      "text/plain": [
       "array([ 2.,  2., -2., -2.])"
      ]
     },
     "execution_count": 133,
     "metadata": {},
     "output_type": "execute_result"
    }
   ],
   "source": [
    "# np.fix 向0看齐，取整\n",
    "# 数值计算\n",
    "np.fix([2.1, 2.9, -2.1, -2.9])"
   ]
  },
  {
   "cell_type": "code",
   "execution_count": 134,
   "metadata": {},
   "outputs": [],
   "source": [
    "# flatiter 一种numpy的flat对象\n",
    "# 结构变化"
   ]
  },
  {
   "cell_type": "code",
   "execution_count": 135,
   "metadata": {},
   "outputs": [
    {
     "name": "stdout",
     "output_type": "stream",
     "text": [
      "[0 1 3 4]\n",
      "[-2 -1  1  2]\n"
     ]
    }
   ],
   "source": [
    "# np.flatnonzero 将数组展开后，获得非0的数据索引\n",
    "# 数值索引\n",
    "x = np.arange(-2, 3)\n",
    "print(np.flatnonzero(x)) # 获取非0索引\n",
    "print(x[np.flatnonzero(x)]) # 获取索引对应的值"
   ]
  },
  {
   "cell_type": "code",
   "execution_count": 136,
   "metadata": {},
   "outputs": [],
   "source": [
    "# flexible 不知道用来干嘛\n",
    "# 未知"
   ]
  },
  {
   "cell_type": "code",
   "execution_count": 137,
   "metadata": {},
   "outputs": [
    {
     "name": "stdout",
     "output_type": "stream",
     "text": [
      "[[[4 5]\n",
      "  [6 7]]\n",
      "\n",
      " [[0 1]\n",
      "  [2 3]]]\n",
      "----------\n",
      " [[[2 3]\n",
      "  [0 1]]\n",
      "\n",
      " [[6 7]\n",
      "  [4 5]]]\n",
      "----------\n",
      " [[[7 6]\n",
      "  [5 4]]\n",
      "\n",
      " [[3 2]\n",
      "  [1 0]]]\n",
      "----------\n",
      " [[[5 4]\n",
      "  [7 6]]\n",
      "\n",
      " [[1 0]\n",
      "  [3 2]]]\n"
     ]
    }
   ],
   "source": [
    "# flip 按照给定要求，进行数组转化\n",
    "# 结构变化\n",
    "A = np.arange(8).reshape((2,2,2))\n",
    "print(np.flip(A, 0))\n",
    "print(\"----------\\n\",np.flip(A, 1))\n",
    "print(\"----------\\n\",np.flip(A))\n",
    "print(\"----------\\n\",np.flip(A, (0, 2)))"
   ]
  },
  {
   "cell_type": "code",
   "execution_count": 138,
   "metadata": {},
   "outputs": [
    {
     "name": "stdout",
     "output_type": "stream",
     "text": [
      "[[0. 0. 1.]\n",
      " [0. 2. 0.]\n",
      " [3. 0. 0.]]\n"
     ]
    }
   ],
   "source": [
    "# fliplr 翻转数组后再颠倒顺序,维度至少2维\n",
    "# 结构变化\n",
    "A = np.diag([1.,2.,3.])\n",
    "print(np.fliplr(A))"
   ]
  },
  {
   "cell_type": "code",
   "execution_count": 139,
   "metadata": {},
   "outputs": [
    {
     "name": "stdout",
     "output_type": "stream",
     "text": [
      "[[1. 0. 0.]\n",
      " [0. 2. 0.]\n",
      " [0. 0. 3.]]\n",
      "[[0. 0. 3.]\n",
      " [0. 2. 0.]\n",
      " [1. 0. 0.]]\n",
      "[2 1]\n"
     ]
    }
   ],
   "source": [
    "# flipud 翻转数组,维度不限\n",
    "# 结构变化\n",
    "A = np.diag([1.0, 2, 3])\n",
    "print(A)\n",
    "print(np.flipud(A))\n",
    "print(np.flipud([1,2]))"
   ]
  },
  {
   "cell_type": "code",
   "execution_count": 140,
   "metadata": {},
   "outputs": [
    {
     "data": {
      "text/plain": [
       "1.0"
      ]
     },
     "execution_count": 140,
     "metadata": {},
     "output_type": "execute_result"
    }
   ],
   "source": [
    "# float_ 转为浮点数，各种格式的浮点数\n",
    "\"\"\" 'float',\n",
    " 'float128',\n",
    " 'float16',\n",
    " 'float32',\n",
    " 'float64',\"\"\"\n",
    "np.float(1)"
   ]
  },
  {
   "cell_type": "code",
   "execution_count": 141,
   "metadata": {
    "scrolled": true
   },
   "outputs": [
    {
     "name": "stdout",
     "output_type": "stream",
     "text": [
      "range(0, 6)\n",
      "[  0.   1.   8.  27.  64. 125.]\n"
     ]
    }
   ],
   "source": [
    "# float_power 对应浮点数求指数值\n",
    "# 数值计算\n",
    "x1 = range(6)\n",
    "print(x1)\n",
    "\n",
    "print(np.float_power(x1, 3)) # 0^3  1^3  2^3..."
   ]
  },
  {
   "cell_type": "code",
   "execution_count": 142,
   "metadata": {},
   "outputs": [],
   "source": [
    "# np.floating 数据类型函数\n",
    "# 代码申明"
   ]
  },
  {
   "cell_type": "code",
   "execution_count": 143,
   "metadata": {},
   "outputs": [
    {
     "data": {
      "text/plain": [
       "array([-2., -2., -1.,  0.,  1.,  1.,  2.])"
      ]
     },
     "execution_count": 143,
     "metadata": {},
     "output_type": "execute_result"
    }
   ],
   "source": [
    "# floor 向下取整\n",
    "# 数值计算\n",
    "a = np.array([-1.7, -1.5, -0.2, 0.2, 1.5, 1.7, 2.0])\n",
    "np.floor(a)"
   ]
  },
  {
   "cell_type": "code",
   "execution_count": 144,
   "metadata": {},
   "outputs": [
    {
     "name": "stdout",
     "output_type": "stream",
     "text": [
      "2\n",
      "[0. 0. 1. 1.]\n"
     ]
    }
   ],
   "source": [
    "# floor_divide 取模\n",
    "# 数值计算\n",
    "\n",
    "print(np.floor_divide(7,3))\n",
    "\n",
    "print(np.floor_divide([1., 2., 3., 4.], 2.5))"
   ]
  },
  {
   "cell_type": "code",
   "execution_count": 145,
   "metadata": {},
   "outputs": [
    {
     "name": "stdout",
     "output_type": "stream",
     "text": [
      "[2 5 4]\n",
      "\n",
      " [[1.  2. ]\n",
      " [0.5 2. ]]\n",
      "\n",
      " [ 0.  0. nan]\n"
     ]
    }
   ],
   "source": [
    "# fmax 求数组元素的最大值\n",
    "\n",
    "# 数值计算\n",
    "\n",
    "print(np.fmax([2, 3, 4], [1, 5, 2]))\n",
    "print(\"\\n\",np.fmax(np.eye(2), [0.5, 2]))\n",
    "print(\"\\n\",np.fmax([np.nan, 0, np.nan],[0, np.nan, np.nan]))"
   ]
  },
  {
   "cell_type": "code",
   "execution_count": 146,
   "metadata": {},
   "outputs": [
    {
     "name": "stdout",
     "output_type": "stream",
     "text": [
      "[1 3 2]\n",
      "\n",
      " [[0.5 0. ]\n",
      " [0.  1. ]]\n",
      "\n",
      " [ 0.  0. nan]\n"
     ]
    }
   ],
   "source": [
    "# fmin 求数组元素的最小值\n",
    "\n",
    "# 数值计算\n",
    "print(np.fmin([2, 3, 4], [1, 5, 2]))\n",
    "print(\"\\n\",np.fmin(np.eye(2), [0.5, 2]))\n",
    "print(\"\\n\",np.fmin([np.nan, 0, np.nan],[0, np.nan, np.nan]))"
   ]
  },
  {
   "cell_type": "code",
   "execution_count": 147,
   "metadata": {},
   "outputs": [
    {
     "name": "stdout",
     "output_type": "stream",
     "text": [
      "[-1  0 -1  1  0  1]\n",
      "[1 0 1 1 0 1]\n"
     ]
    }
   ],
   "source": [
    "# fmod 取余，余数可为负\n",
    "\n",
    "# 数值计算\n",
    "\n",
    "print(np.fmod([-3, -2, -1, 1, 2, 3], 2))\n",
    "\n",
    "print(np.remainder([-3, -2, -1, 1, 2, 3], 2))"
   ]
  },
  {
   "cell_type": "code",
   "execution_count": 148,
   "metadata": {},
   "outputs": [
    {
     "data": {
      "text/plain": [
       "'3.1415927'"
      ]
     },
     "execution_count": 148,
     "metadata": {},
     "output_type": "execute_result"
    }
   ],
   "source": [
    "# np.format_float_positional 获取给定数据类型的科学常数显示\n",
    "\n",
    "# 数值显示\n",
    "\n",
    "np.format_float_positional(np.float32(np.pi))"
   ]
  },
  {
   "cell_type": "code",
   "execution_count": 149,
   "metadata": {},
   "outputs": [
    {
     "data": {
      "text/plain": [
       "'3.1415927e+00'"
      ]
     },
     "execution_count": 149,
     "metadata": {},
     "output_type": "execute_result"
    }
   ],
   "source": [
    "# format_float_scientific 科学常数数值的显示操作\n",
    "\n",
    "# 数值显示\n",
    "np.format_float_scientific(np.float32(np.pi))"
   ]
  },
  {
   "cell_type": "code",
   "execution_count": 150,
   "metadata": {},
   "outputs": [],
   "source": [
    "# np.format_parser 获得数据类型的函数\n",
    "# 数值类型显示"
   ]
  },
  {
   "cell_type": "code",
   "execution_count": 151,
   "metadata": {},
   "outputs": [
    {
     "name": "stdout",
     "output_type": "stream",
     "text": [
      "[0.    0.5   0.5   0.75  0.5   0.625 0.75  0.875 0.5  ]\n",
      "[0 1 2 2 3 3 3 3 4]\n",
      "[0 1 2 3 4 5 6 7 8]\n",
      "[0. 1. 2. 3. 4. 5. 6. 7. 8.]\n"
     ]
    }
   ],
   "source": [
    "# np.frexp 具体见表达式,分解为2的指数与给定系数的乘积\n",
    "# 数值计算 数组生成\n",
    "x = np.arange(9)\n",
    "y1, y2 = np.frexp(x)\n",
    "print(y1)\n",
    "print(y2)\n",
    "print(x)\n",
    "print(y1 * 2**y2)"
   ]
  },
  {
   "cell_type": "code",
   "execution_count": 152,
   "metadata": {},
   "outputs": [
    {
     "name": "stdout",
     "output_type": "stream",
     "text": [
      "[b'b' b'c']\n"
     ]
    }
   ],
   "source": [
    "#frombuffer将data以流的形式读入转化成ndarray对象\n",
    "#第一参数为stream,第二参数为返回值的数据类型，第三参数指定从stream的第几位开始读入\n",
    " \n",
    "#data是字符串的时候，Python3默认str是Unicode类型，所以要转成bytestring在原str前加上b\n",
    "# 未知\n",
    "s =  b'abc'\n",
    "a = np.frombuffer(s,dtype='S1',offset=1)\n",
    "print(a)"
   ]
  },
  {
   "cell_type": "code",
   "execution_count": 153,
   "metadata": {},
   "outputs": [],
   "source": [
    "# fromfile从文本或二进制文件中的数据构造数组。"
   ]
  },
  {
   "cell_type": "code",
   "execution_count": 154,
   "metadata": {},
   "outputs": [
    {
     "data": {
      "text/plain": [
       "array([[ True, False, False],\n",
       "       [False,  True, False],\n",
       "       [False, False,  True]])"
      ]
     },
     "execution_count": 154,
     "metadata": {},
     "output_type": "execute_result"
    }
   ],
   "source": [
    "# fromfunction 通过在每个坐标上执行一个函数来构造一个数组。\n",
    "# 数组生成\n",
    "np.fromfunction(lambda i, j: i == j, (3, 3), dtype=int) #通过表达式获得数组"
   ]
  },
  {
   "cell_type": "code",
   "execution_count": 155,
   "metadata": {},
   "outputs": [
    {
     "name": "stdout",
     "output_type": "stream",
     "text": [
      "[0, 1, 4, 9, 16]\n"
     ]
    },
    {
     "data": {
      "text/plain": [
       "array([ 0.,  1.,  4.,  9., 16.])"
      ]
     },
     "execution_count": 155,
     "metadata": {},
     "output_type": "execute_result"
    }
   ],
   "source": [
    "# fromiter 从迭代器中生成数组\n",
    "# 数组生成\n",
    "iterable = list(x*x for x in range(5))\n",
    "print(iterable)\n",
    "iterable = (x*x for x in range(5))\n",
    "np.fromiter(iterable, float)"
   ]
  },
  {
   "cell_type": "code",
   "execution_count": 156,
   "metadata": {},
   "outputs": [
    {
     "data": {
      "text/plain": [
       "array(['0o12', '0o36', '0o144'], dtype=object)"
      ]
     },
     "execution_count": 156,
     "metadata": {},
     "output_type": "execute_result"
    }
   ],
   "source": [
    "# frompyfunc 把Python里的函数（可以是自写的）转化成ufunc，用法是frompyfunc(func, nin, nout)，其中func是需要转换的函数，nin是函数的输入参数的个数，nout是此函数的返回值的个数。\n",
    "# 注意无法保证返回的数据类型都完全一致,因此返回一个中间类型object，需要再次obj.astype(np.float64)之类将其元素类型强制调齐。\n",
    "# 函数运算 数组生成\n",
    "oct_array = np.frompyfunc(oct, 1, 1)\n",
    "oct_array(np.array((10, 30, 100)))"
   ]
  },
  {
   "cell_type": "code",
   "execution_count": 157,
   "metadata": {},
   "outputs": [],
   "source": [
    "# fromregex 使用正则表达式解析从文本文件构造数组。\n",
    "# 数组生成"
   ]
  },
  {
   "cell_type": "code",
   "execution_count": 158,
   "metadata": {},
   "outputs": [
    {
     "name": "stdout",
     "output_type": "stream",
     "text": [
      "[1 2]\n",
      "[1 2]\n"
     ]
    }
   ],
   "source": [
    "#np.fromstring 字符串转数组\n",
    "# 数组生成\n",
    "print(np.fromstring('1 2', dtype=int, sep=' '))\n",
    "print(np.fromstring('1, 2', dtype=int, sep=','))"
   ]
  },
  {
   "cell_type": "code",
   "execution_count": 159,
   "metadata": {},
   "outputs": [
    {
     "data": {
      "text/plain": [
       "array([[10, 10],\n",
       "       [10, 10]])"
      ]
     },
     "execution_count": 159,
     "metadata": {},
     "output_type": "execute_result"
    }
   ],
   "source": [
    "# np.full 给定矩阵填满给定数值\n",
    "# 数组生成\n",
    "np.full((2, 2), 10)"
   ]
  },
  {
   "cell_type": "code",
   "execution_count": 160,
   "metadata": {},
   "outputs": [
    {
     "name": "stdout",
     "output_type": "stream",
     "text": [
      "[1 1 1 1 1 1]\n",
      "[0.1 0.1 0.1 0.1 0.1 0.1]\n",
      "[0 0 0 0 0 0]\n"
     ]
    }
   ],
   "source": [
    "# full_like 返回与给定数组具有相同形状和类型的完整数组\n",
    "# 数组生成\n",
    "x = np.arange(6, dtype=int)\n",
    "\n",
    "print(np.full_like(x, 1))\n",
    "print(np.full_like(x, 0.1, dtype=np.double))\n",
    "print(np.full_like(x, 0.1))"
   ]
  },
  {
   "cell_type": "code",
   "execution_count": 161,
   "metadata": {},
   "outputs": [],
   "source": [
    "# fv 计算未来价值 金融用\n",
    "# 数值计算"
   ]
  },
  {
   "cell_type": "code",
   "execution_count": null,
   "metadata": {},
   "outputs": [],
   "source": []
  }
 ],
 "metadata": {
  "kernelspec": {
   "display_name": "Python3-deap(venv3)",
   "language": "python",
   "name": "venv3"
  },
  "language_info": {
   "codemirror_mode": {
    "name": "ipython",
    "version": 3
   },
   "file_extension": ".py",
   "mimetype": "text/x-python",
   "name": "python",
   "nbconvert_exporter": "python",
   "pygments_lexer": "ipython3",
   "version": "3.6.3"
  },
  "latex_envs": {
   "LaTeX_envs_menu_present": true,
   "autoclose": false,
   "autocomplete": true,
   "bibliofile": "biblio.bib",
   "cite_by": "apalike",
   "current_citInitial": 1,
   "eqLabelWithNumbers": true,
   "eqNumInitial": 1,
   "hotkeys": {
    "equation": "Ctrl-E",
    "itemize": "Ctrl-I"
   },
   "labels_anchors": false,
   "latex_user_defs": false,
   "report_style_numbering": false,
   "user_envs_cfg": false
  },
  "toc": {
   "base_numbering": 1,
   "nav_menu": {},
   "number_sections": true,
   "sideBar": true,
   "skip_h1_title": false,
   "title_cell": "Table of Contents",
   "title_sidebar": "Contents",
   "toc_cell": false,
   "toc_position": {},
   "toc_section_display": true,
   "toc_window_display": false
  },
  "varInspector": {
   "cols": {
    "lenName": 16,
    "lenType": 16,
    "lenVar": "60"
   },
   "kernels_config": {
    "python": {
     "delete_cmd_postfix": "",
     "delete_cmd_prefix": "del ",
     "library": "var_list.py",
     "varRefreshCmd": "print(var_dic_list())"
    },
    "r": {
     "delete_cmd_postfix": ") ",
     "delete_cmd_prefix": "rm(",
     "library": "var_list.r",
     "varRefreshCmd": "cat(var_dic_list()) "
    }
   },
   "types_to_exclude": [
    "module",
    "function",
    "builtin_function_or_method",
    "instance",
    "_Feature"
   ],
   "window_display": false
  }
 },
 "nbformat": 4,
 "nbformat_minor": 2
}
