{
 "cells": [
  {
   "cell_type": "code",
   "execution_count": 1,
   "metadata": {},
   "outputs": [],
   "source": [
    "import numpy as np\n",
    "import copy"
   ]
  },
  {
   "cell_type": "code",
   "execution_count": 1,
   "metadata": {},
   "outputs": [
    {
     "data": {
      "text/plain": [
       "'1  数值计算\\n2  数值索引\\n3  复数计算\\n4  函数运算\\n5  逻辑判断\\n6  类型转化\\n7  数组生成\\n8  结构变化\\n9  结构识别\\n10  代码申明\\n11  未知'"
      ]
     },
     "execution_count": 1,
     "metadata": {},
     "output_type": "execute_result"
    }
   ],
   "source": [
    "\"\"\"1  数值计算\n",
    "2  数值索引\n",
    "3  复数计算\n",
    "4  函数运算\n",
    "5  逻辑判断\n",
    "6  类型转化\n",
    "7  数组生成\n",
    "8  结构变化\n",
    "9  结构识别\n",
    "10  代码申明\n",
    "11  未知\"\"\""
   ]
  },
  {
   "cell_type": "code",
   "execution_count": 2,
   "metadata": {},
   "outputs": [
    {
     "data": {
      "text/plain": [
       "array([[[160],\n",
       "        [ 64]],\n",
       "\n",
       "       [[192],\n",
       "        [ 32]]], dtype=uint8)"
      ]
     },
     "execution_count": 2,
     "metadata": {},
     "output_type": "execute_result"
    }
   ],
   "source": [
    "# packbits 字节压缩算法，具体见官方说明\n",
    "# 结构变化 数值计算\n",
    "a = np.array([[[1,0,1],\n",
    "               [0,1,0]],\n",
    "              [[1,1,0],\n",
    "               [0,0,1]]])\n",
    "b = np.packbits(a, axis=-1)\n",
    "b"
   ]
  },
  {
   "cell_type": "code",
   "execution_count": 3,
   "metadata": {},
   "outputs": [
    {
     "name": "stdout",
     "output_type": "stream",
     "text": [
      "[3 2 1 2 3 4 5 4 3 2]\n",
      "[-1  0  1  2  3  4  5  6  7  8]\n",
      "[2 1 1 2 3 4 5 5 4 3]\n",
      "[0 1 1 2 3 4 5 5 6 7]\n",
      "[4 5 1 2 3 4 5 1 2 3]\n"
     ]
    }
   ],
   "source": [
    "# pad 填充用，具体见官方案例\n",
    "# 数组生成\n",
    "a = [1, 2, 3, 4, 5]\n",
    "print(np.pad(a, (2, 3), 'reflect'))\n",
    "print(np.pad(a, (2, 3), 'reflect', reflect_type='odd'))\n",
    "print(np.pad(a, (2, 3), 'symmetric'))\n",
    "print(np.pad(a, (2, 3), 'symmetric', reflect_type='odd'))\n",
    "print(np.pad(a, (2, 3), 'wrap'))"
   ]
  },
  {
   "cell_type": "code",
   "execution_count": 4,
   "metadata": {},
   "outputs": [
    {
     "name": "stdout",
     "output_type": "stream",
     "text": [
      "[-5  1  2  3  4 10  5]\n",
      "[-5  1  2  3  4  5 10]\n"
     ]
    }
   ],
   "source": [
    "# partition 根据已知顺序，按照给定的kth排序\n",
    "# partition(a, kth, axis=-1, kind='introselect', order=None)\n",
    "# 逻辑判断 数组生成\n",
    "a = np.array([3, 4, 2, 1,5,10,-5])\n",
    "print(np.partition(a, 3)) \n",
    "print(np.partition(a, (1, 5)))"
   ]
  },
  {
   "cell_type": "code",
   "execution_count": 5,
   "metadata": {},
   "outputs": [
    {
     "name": "stdout",
     "output_type": "stream",
     "text": [
      "3.5\n",
      "[6.5 4.5 2.5]\n",
      "[7. 2.]\n",
      "[[7.]\n",
      " [2.]]\n"
     ]
    }
   ],
   "source": [
    "# percentile 求取给定数组的百分位数，亦可是中位数（50/100）,可以沿轴。\n",
    "# percentile(a, q, axis=None, out=None, overwrite_input=False, interpolation='linear', keepdims=False)\n",
    "# 数值计算\n",
    "a = np.array([[10, 7, 4], [3, 2, 1]])\n",
    "print(np.percentile(a, 50)) # (3+4)/2 =3.5\n",
    "m = np.percentile(a, 50, axis=0)\n",
    "print(np.percentile(a, 50, axis=0)) # 0轴上取中位数\n",
    "print(np.percentile(a, 50, axis=1, keepdims=False))\n",
    "print(np.percentile(a, 50, axis=1, keepdims=True))"
   ]
  },
  {
   "cell_type": "code",
   "execution_count": 6,
   "metadata": {},
   "outputs": [
    {
     "data": {
      "text/plain": [
       "3.141592653589793"
      ]
     },
     "execution_count": 6,
     "metadata": {},
     "output_type": "execute_result"
    }
   ],
   "source": [
    "# pi 获得圆周率\n",
    "# 数值获取\n",
    "np.pi"
   ]
  },
  {
   "cell_type": "code",
   "execution_count": 7,
   "metadata": {},
   "outputs": [
    {
     "name": "stdout",
     "output_type": "stream",
     "text": [
      "[2.5 1.5 0.5 0.5 1.5 2.5]\n",
      "[-1. -1. -1.  1.  1.  1.]\n"
     ]
    }
   ],
   "source": [
    "# piecewise 多条件的运算，满足条件则按规则转化\n",
    "# 数组生成\n",
    "y = np.linspace(-2.5, 2.5, 6)\n",
    "print(np.piecewise(y, [y < 0, y >= 0], [lambda x: -x, lambda x: x]))\n",
    "print(np.piecewise(y, [y < 0, y >= 0], [-1, 1]))"
   ]
  },
  {
   "cell_type": "code",
   "execution_count": 8,
   "metadata": {},
   "outputs": [],
   "source": [
    "# pkgload 父包什么的，不明所以\n",
    "# 未知"
   ]
  },
  {
   "cell_type": "code",
   "execution_count": 9,
   "metadata": {},
   "outputs": [
    {
     "data": {
      "text/plain": [
       "array([[ 0,  1,  2],\n",
       "       [44, 55, 44]])"
      ]
     },
     "execution_count": 9,
     "metadata": {},
     "output_type": "execute_result"
    }
   ],
   "source": [
    "# place 将select打包，等于是直接选择符合条件的数据进行运算。\n",
    "# 数组生成 函数运算\n",
    "arr = np.arange(6).reshape(2, 3)\n",
    "np.place(arr, arr>2, [44, 55])\n",
    "arr"
   ]
  },
  {
   "cell_type": "code",
   "execution_count": 10,
   "metadata": {},
   "outputs": [],
   "source": [
    "# pmt 金融计算，计算贷款本金加利息的偿还额"
   ]
  },
  {
   "cell_type": "code",
   "execution_count": 11,
   "metadata": {},
   "outputs": [
    {
     "name": "stdout",
     "output_type": "stream",
     "text": [
      "[1. 0. 0. 0.]\n",
      "[ 1.    0.   -0.25  0.  ]\n"
     ]
    }
   ],
   "source": [
    "# poly 得到以给定元组为根，以最高次项的常数系数为1的多项式\n",
    "# 函数运算 数值计算\n",
    "print(np.poly((0, 0, 0)))\n",
    "print(np.poly((-1./2, 0, 1./2)))"
   ]
  },
  {
   "cell_type": "code",
   "execution_count": 12,
   "metadata": {},
   "outputs": [
    {
     "name": "stdout",
     "output_type": "stream",
     "text": [
      "   2\n",
      "1 x + 2 x + 3\n",
      "   2\n",
      "1 z + 2 z + 3\n",
      "   3     2\n",
      "1 x - 6 x + 11 x - 6\n"
     ]
    }
   ],
   "source": [
    "# poly1d 构建一维多项式的方法，同时该对象可以接受多项式的运算\n",
    "# 函数运算 数值计算\n",
    "p = np.poly1d([1, 2, 3])\n",
    "print(p)\n",
    "p = np.poly1d([1,2,3], variable='z')\n",
    "print(p)\n",
    "p = np.poly1d([1, 2, 3], True) # (x-1)(x-2)(x-3) = x^3 - 6x^2 + 11x -6\n",
    "print(p)"
   ]
  },
  {
   "cell_type": "code",
   "execution_count": 13,
   "metadata": {},
   "outputs": [
    {
     "name": "stdout",
     "output_type": "stream",
     "text": [
      " \n",
      "1 x + 2\n",
      "   2\n",
      "9 x + 5 x + 4\n",
      "   2\n",
      "9 x + 6 x + 6\n"
     ]
    }
   ],
   "source": [
    "# polyadd 多项式相加\n",
    "# 函数运算 数值计算\n",
    "p1 = np.poly1d([1, 2])\n",
    "p2 = np.poly1d([9, 5, 4])\n",
    "print(p1)\n",
    "print(p2)\n",
    "print(np.polyadd(p1, p2))"
   ]
  },
  {
   "cell_type": "code",
   "execution_count": 14,
   "metadata": {},
   "outputs": [
    {
     "name": "stdout",
     "output_type": "stream",
     "text": [
      "   3     2\n",
      "1 x + 1 x + 1 x + 1\n"
     ]
    },
    {
     "data": {
      "text/plain": [
       "17.0"
      ]
     },
     "execution_count": 14,
     "metadata": {},
     "output_type": "execute_result"
    }
   ],
   "source": [
    "# polyder 多项式指定阶的导数的值\n",
    "# 函数运算 数值计算\n",
    "p = np.poly1d([1,1,1,1]) # y = x^3 + x^2 + x^1 + 1\n",
    "print(p)\n",
    "p2 = np.polyder(p) # y = 3x^2 + 2x + 1\n",
    "p2(2.) # 3*2^2 + 2*2 + 1 = 17"
   ]
  },
  {
   "cell_type": "code",
   "execution_count": 15,
   "metadata": {},
   "outputs": [
    {
     "data": {
      "text/plain": [
       "(array([1.5 , 1.75]), array([0.25]))"
      ]
     },
     "execution_count": 15,
     "metadata": {},
     "output_type": "execute_result"
    }
   ],
   "source": [
    "# polydiv 多项式除法\n",
    "# 函数运算 数值计算\n",
    "x = np.array([3.0, 5.0, 2.0])\n",
    "y = np.array([2.0, 1.0])#(3x^2 + 5x + 2)/(2x + 1) = 1.5x + 1.75 , 余0.25\n",
    "np.polydiv(x, y)"
   ]
  },
  {
   "cell_type": "code",
   "execution_count": 16,
   "metadata": {},
   "outputs": [
    {
     "name": "stdout",
     "output_type": "stream",
     "text": [
      "[ 0.08703704 -0.81349206  1.69312169 -0.03968254]\n"
     ]
    }
   ],
   "source": [
    "# polyfit 根据点，拟合多项式曲线\n",
    "# 函数运算 数值计算\n",
    "x = np.array([0.0, 1.0, 2.0, 3.0,  4.0,  5.0])\n",
    "y = np.array([0.0, 0.8, 0.9, 0.1, -0.8, -1.0])\n",
    "z = np.polyfit(x, y, 3) # 根据已知点拟合一元三次方曲线\n",
    "print(z)"
   ]
  },
  {
   "cell_type": "code",
   "execution_count": 2,
   "metadata": {},
   "outputs": [
    {
     "data": {
      "text/plain": [
       "poly1d([0.01666667, 0.04166667, 0.16666667, 0.        , 0.        ,\n",
       "       0.        ])"
      ]
     },
     "execution_count": 2,
     "metadata": {},
     "output_type": "execute_result"
    }
   ],
   "source": [
    "# polyint 与多项式不定积分有关\n",
    "# 函数运算 数值计算\n",
    "p = np.poly1d([1,1,1])\n",
    "P = np.polyint(p)\n",
    "P = np.polyint(p, 3)\n",
    "P"
   ]
  },
  {
   "cell_type": "code",
   "execution_count": 19,
   "metadata": {},
   "outputs": [
    {
     "data": {
      "text/plain": [
       "array([ 9, 23, 38, 17,  3])"
      ]
     },
     "execution_count": 19,
     "metadata": {},
     "output_type": "execute_result"
    }
   ],
   "source": [
    "# polymul 一元多项式相乘\n",
    "# 函数运算 数值计算\n",
    "np.polymul([1, 2, 3], [9, 5, 1])  # (x^2+2x+3)*(9x^2+5x+1) == 9x4 + 23x3 + 38x2 + 17x1 + 3"
   ]
  },
  {
   "cell_type": "code",
   "execution_count": 20,
   "metadata": {},
   "outputs": [],
   "source": [
    "# np.polynomial不知道干啥用的\n",
    "# 未知"
   ]
  },
  {
   "cell_type": "code",
   "execution_count": 21,
   "metadata": {},
   "outputs": [
    {
     "data": {
      "text/plain": [
       "array([-1,  0,  2])"
      ]
     },
     "execution_count": 21,
     "metadata": {},
     "output_type": "execute_result"
    }
   ],
   "source": [
    "# polysub 多项式的系数相减，获得新的多项式的系数\n",
    "# 函数运算 数值计算\n",
    "np.polysub([2, 10, -2], [3, 10, -4]) #(2 x^2 + 10 x - 2) - (3 x^2 + 10 x -4) = (-x^2 + 2)"
   ]
  },
  {
   "cell_type": "code",
   "execution_count": 22,
   "metadata": {},
   "outputs": [
    {
     "name": "stdout",
     "output_type": "stream",
     "text": [
      "76\n",
      " \n",
      "76\n"
     ]
    }
   ],
   "source": [
    "# polyval ``p[0]*x**(N-1) + p[1]*x**(N-2) + ... + p[N-2]*x + p[N-1]`` 求多项式的y值\n",
    "# 函数运算 数值计算\n",
    "print(np.polyval([3,0,1], 5))  # 3 * 5**2 + 0 * 5**1 + 1\n",
    "print(np.polyval(np.poly1d([3,0,1]), np.poly1d(5)))"
   ]
  },
  {
   "cell_type": "code",
   "execution_count": 3,
   "metadata": {},
   "outputs": [
    {
     "data": {
      "text/plain": [
       "array([10, -1,  2])"
      ]
     },
     "execution_count": 3,
     "metadata": {},
     "output_type": "execute_result"
    }
   ],
   "source": [
    "# numpy.positive ##Returned array or scalar: y = +x. This is a scalar if x is a scalar.为啥没按描述给我结果\n",
    "# 未知\n",
    "np.positive([10,-1,2])"
   ]
  },
  {
   "cell_type": "code",
   "execution_count": 24,
   "metadata": {},
   "outputs": [
    {
     "name": "stdout",
     "output_type": "stream",
     "text": [
      "[  0   1   8  27  64 125]\n",
      "[ 0.  1.  8. 27. 16.  5.]\n",
      "[[ 0  1  8 27 16  5]\n",
      " [ 0  1  8 27 16  5]]\n"
     ]
    }
   ],
   "source": [
    "# power幂指数计算\n",
    "#  数值计算\n",
    "x1 = range(6)\n",
    "print(np.power(x1, 3))\n",
    "x2 = [1.0, 2.0, 3.0, 3.0, 2.0, 1.0]\n",
    "print(np.power(x1, x2))\n",
    "x2 = np.array([[1, 2, 3, 3, 2, 1], [1, 2, 3, 3, 2, 1]])\n",
    "print(np.power(x1, x2))"
   ]
  },
  {
   "cell_type": "code",
   "execution_count": 25,
   "metadata": {},
   "outputs": [],
   "source": [
    "# ppmt 根据贷款本金计算付款\n",
    "# 见rate，pv等"
   ]
  },
  {
   "cell_type": "code",
   "execution_count": 26,
   "metadata": {},
   "outputs": [
    {
     "data": {
      "text/plain": [
       "_Feature((2, 6, 0, 'alpha', 2), (3, 0, 0, 'alpha', 0), 65536)"
      ]
     },
     "execution_count": 26,
     "metadata": {},
     "output_type": "execute_result"
    }
   ],
   "source": [
    "# print_function 打印属性\n",
    "np.print_function"
   ]
  },
  {
   "cell_type": "code",
   "execution_count": 27,
   "metadata": {},
   "outputs": [
    {
     "name": "stdout",
     "output_type": "stream",
     "text": [
      "[0.67]\n"
     ]
    }
   ],
   "source": [
    "# printoptions 打印的格式的更改\n",
    "with np.printoptions(precision=2):\n",
    "    print((np.array([2.0])) / 3)"
   ]
  },
  {
   "cell_type": "code",
   "execution_count": 28,
   "metadata": {},
   "outputs": [
    {
     "name": "stdout",
     "output_type": "stream",
     "text": [
      "1.0\n",
      "2.0\n",
      "24.0\n",
      "[ 2. 12.]\n",
      "10\n"
     ]
    }
   ],
   "source": [
    "# product == prod 给定数组的所有元素乘积，或者按行按列的数组乘积\n",
    "# 数值计算\n",
    "print(np.prod([]))\n",
    "print(np.prod([1.,2.]))\n",
    "print(np.prod([[1.,2.],[3.,4.]]))\n",
    "print(np.prod([[1.,2.],[3.,4.]], axis=1))\n",
    "print(np.prod([1, 2], initial=5))"
   ]
  },
  {
   "cell_type": "code",
   "execution_count": 29,
   "metadata": {},
   "outputs": [
    {
     "data": {
      "text/plain": [
       "dtype('float64')"
      ]
     },
     "execution_count": 29,
     "metadata": {},
     "output_type": "execute_result"
    }
   ],
   "source": [
    "# promote_types 对数据格式做处理，返回最小维度数据类型\n",
    "np.promote_types('f4', 'f8')"
   ]
  },
  {
   "cell_type": "code",
   "execution_count": 30,
   "metadata": {},
   "outputs": [
    {
     "name": "stdout",
     "output_type": "stream",
     "text": [
      "[[0 1]\n",
      " [2 3]]\n",
      "[2 2]\n",
      "[1 1]\n"
     ]
    }
   ],
   "source": [
    "# ptp 沿轴获取最大最小值\n",
    "# 数值计算\n",
    "x = np.arange(4).reshape((2,2))\n",
    "print(x)\n",
    "print(np.ptp(x, axis=0))\n",
    "print(np.ptp(x, axis=1))"
   ]
  },
  {
   "cell_type": "code",
   "execution_count": 31,
   "metadata": {},
   "outputs": [
    {
     "name": "stdout",
     "output_type": "stream",
     "text": [
      "[0 1 2 3 4]\n",
      "[-44   1 -55   3   4]\n",
      "[ 0  1  2  3  4  5  6  7  8 -5]\n"
     ]
    },
    {
     "data": {
      "text/plain": [
       "array([ 0,  1,  2, -5,  4,  5,  6,  7,  8, -5])"
      ]
     },
     "execution_count": 31,
     "metadata": {},
     "output_type": "execute_result"
    }
   ],
   "source": [
    "# put 一维数组根据索引更改值,用v的值替换数组a中的ind（索引）的值。\n",
    "# Mode可以为raise/wrap/clip。Clip：如果给定的ind超过了数组的大小，那么替换最后一个元素。\n",
    "# 数组生成\n",
    "a = np.arange(5)\n",
    "print(a)\n",
    "np.put(a, [0, 2], [-44, -55])\n",
    "print(a)\n",
    "a = np.arange(10)\n",
    "np.put(a, 22, -5, mode='clip')\n",
    "print(a)\n",
    "np.put(a, 23, -5, mode='wrap') # 23%10 = 3\n",
    "a"
   ]
  },
  {
   "cell_type": "code",
   "execution_count": 32,
   "metadata": {},
   "outputs": [
    {
     "name": "stdout",
     "output_type": "stream",
     "text": [
      "最大值索引:\n",
      " [[1]\n",
      " [0]]\n",
      "根据最大值索引，修改后的数组:\n",
      " [[10 99 20]\n",
      " [99 40 50]]\n"
     ]
    }
   ],
   "source": [
    "# put_along_axis 根据同纬度数组修改索引\n",
    "# 数值索引 数组生成\n",
    "a = np.array([[10, 30, 20], [60, 40, 50]])\n",
    "ai = np.expand_dims(np.argmax(a, axis=1), axis=1)# 获取行中最大值索引\n",
    "print(\"最大值索引:\\n\",ai)\n",
    "np.put_along_axis(a, ai, 99, axis=1) #根据最大值索引替换原有数值\n",
    "print(\"根据最大值索引，修改后的数组:\\n\",a)"
   ]
  },
  {
   "cell_type": "code",
   "execution_count": 33,
   "metadata": {},
   "outputs": [
    {
     "name": "stdout",
     "output_type": "stream",
     "text": [
      "[[ 0  1  2]\n",
      " [ 9 16 25]]\n",
      "[  0   1 -33 -44 -33]\n"
     ]
    }
   ],
   "source": [
    "# putmask 用于满足条件的相应元素的计算\n",
    "# 数值计算\n",
    "x = np.arange(6).reshape(2, 3)\n",
    "np.putmask(x, x>2, x**2)\n",
    "print(x)\n",
    "x = np.arange(5)\n",
    "np.putmask(x, x>1, [-33, -44])\n",
    "print(x)"
   ]
  },
  {
   "cell_type": "code",
   "execution_count": 34,
   "metadata": {},
   "outputs": [],
   "source": [
    "# pv 用于银行计算\n",
    "# 同见 numpy.rate(nper, pmt, pv, fv[, when='end', guess=0.1, tol=1e-06, maxiter=100])"
   ]
  },
  {
   "cell_type": "code",
   "execution_count": 35,
   "metadata": {},
   "outputs": [
    {
     "data": {
      "text/plain": [
       "array([9.4, 2.8])"
      ]
     },
     "execution_count": 35,
     "metadata": {},
     "output_type": "execute_result"
    }
   ],
   "source": [
    "# quantile 计算中位数，比例由第二个值定，中位数为0.5\n",
    "# 数值计算\n",
    "a = np.array([[10, 7, 4], [3, 2, 1]])\n",
    "b = a.copy()\n",
    "np.quantile(b, 0.9, axis=1, overwrite_input=True)"
   ]
  },
  {
   "cell_type": "code",
   "execution_count": 36,
   "metadata": {},
   "outputs": [
    {
     "name": "stdout",
     "output_type": "stream",
     "text": [
      "[[1 2 3]\n",
      " [7 8 9]\n",
      " [4 5 6]\n",
      " [1 2 3]]\n"
     ]
    }
   ],
   "source": [
    "# r_ 按照列连接 c_按照行连接\n",
    "# 结构变化\n",
    "a = np.array([[1, 2, 3],[7,8,9]])\n",
    "b = np.array([[4,5,6],[1,2,3]])\n",
    "g=np.r_[a,b]\n",
    "print(g)"
   ]
  },
  {
   "cell_type": "code",
   "execution_count": 37,
   "metadata": {},
   "outputs": [
    {
     "data": {
      "text/plain": [
       "array([  0.,  45.,  90., 135., 180., 225., 270., 315., 360., 405., 450.,\n",
       "       495.])"
      ]
     },
     "execution_count": 37,
     "metadata": {},
     "output_type": "execute_result"
    }
   ],
   "source": [
    "# rad2deg 弧度转化为角度\n",
    "# 数值计算\n",
    "deg = np.arange(12.) * np.pi/4.\n",
    "np.rad2deg(deg)"
   ]
  },
  {
   "cell_type": "code",
   "execution_count": 38,
   "metadata": {},
   "outputs": [
    {
     "data": {
      "text/plain": [
       "array([0.        , 0.52359878, 1.04719755, 1.57079633, 2.0943951 ,\n",
       "       2.61799388, 3.14159265, 3.66519143, 4.1887902 , 4.71238898,\n",
       "       5.23598776, 5.75958653])"
      ]
     },
     "execution_count": 38,
     "metadata": {},
     "output_type": "execute_result"
    }
   ],
   "source": [
    "# np.radians 角度转化为弧度\n",
    "# 数值计算\n",
    "deg = np.arange(12.) * 30.\n",
    "np.radians(deg)"
   ]
  },
  {
   "cell_type": "code",
   "execution_count": 39,
   "metadata": {},
   "outputs": [
    {
     "name": "stdout",
     "output_type": "stream",
     "text": [
      "[[2 2]\n",
      " [3 3]\n",
      " [5 4]]\n",
      "\n",
      " [[5 7]\n",
      " [7 7]\n",
      " [7 6]]\n",
      "\n",
      " [6 5 5 6]\n"
     ]
    },
    {
     "name": "stderr",
     "output_type": "stream",
     "text": [
      "/home/mathartsys/venv3/lib/python3.6/site-packages/ipykernel_launcher.py:24: DeprecationWarning: This function is deprecated. Please call randint(1, 5 + 1) instead\n",
      "/home/mathartsys/venv3/lib/python3.6/site-packages/ipykernel_launcher.py:25: DeprecationWarning: This function is deprecated. Please call randint(5, 7 + 1) instead\n",
      "/home/mathartsys/venv3/lib/python3.6/site-packages/ipykernel_launcher.py:26: DeprecationWarning: This function is deprecated. Please call randint(5, 6 + 1) instead\n"
     ]
    }
   ],
   "source": [
    "# random 随机方法巨多\n",
    "\"\"\"\n",
    "    Utility functions\n",
    "    ==============================================================================\n",
    "    random_sample        Uniformly distributed floats over ``[0, 1)``.\n",
    "    random               Alias for `random_sample`.\n",
    "    bytes                Uniformly distributed random bytes.\n",
    "    random_integers      Uniformly distributed integers in a given range.\n",
    "    permutation          Randomly permute a sequence / generate a random sequence.\n",
    "    shuffle              Randomly permute a sequence in place.\n",
    "    seed                 Seed the random number generator.\n",
    "    choice               Random sample from 1-D array.\n",
    "    \n",
    "    ==================== =========================================================\n",
    "    \n",
    "    ==================== =========================================================\n",
    "    Compatibility functions\n",
    "    ==============================================================================\n",
    "    rand                 Uniformly distributed values.\n",
    "    randn                Normally distributed values.\n",
    "    ranf                 Uniformly distributed floating point numbers.\n",
    "    randint              Uniformly distributed integers in a given range.\n",
    "\"\"\"\n",
    "print(np.random.random_integers(5, size=(3,2)))\n",
    "print(\"\\n\",np.random.random_integers(5, 7, size=(3,2)))\n",
    "print(\"\\n\",np.random.random_integers(5, 6, 4))"
   ]
  },
  {
   "cell_type": "code",
   "execution_count": 40,
   "metadata": {},
   "outputs": [
    {
     "name": "stderr",
     "output_type": "stream",
     "text": [
      "/home/mathartsys/venv3/lib/python3.6/site-packages/ipykernel_launcher.py:3: VisibleDeprecationWarning: `rank` is deprecated; use the `ndim` attribute or function instead. To find the rank of a matrix see `numpy.linalg.matrix_rank`.\n",
      "  This is separate from the ipykernel package so we can avoid doing imports until\n"
     ]
    },
    {
     "data": {
      "text/plain": [
       "2"
      ]
     },
     "execution_count": 40,
     "metadata": {},
     "output_type": "execute_result"
    }
   ],
   "source": [
    "# rank获得数据维度\n",
    "# 结构识别\n",
    "arr = np.array([[2,0],[3,1]])\n",
    "np.rank(arr)"
   ]
  },
  {
   "cell_type": "code",
   "execution_count": 41,
   "metadata": {},
   "outputs": [],
   "source": [
    "# rate 用于银行计算\n",
    "# 根据已有的本金，还款期，未来价值，每月还款额 计算利率\n",
    "# numpy.rate(nper, pmt, pv, fv[, when='end', guess=0.1, tol=1e-06, maxiter=100])"
   ]
  },
  {
   "cell_type": "code",
   "execution_count": 42,
   "metadata": {},
   "outputs": [
    {
     "name": "stdout",
     "output_type": "stream",
     "text": [
      "[1 2 3 4 5 6]\n",
      "[1 4 2 5 3 6]\n",
      "[2 1 0]\n",
      "[2 1 0]\n"
     ]
    }
   ],
   "source": [
    "# ravel 降维数组\n",
    "# 结构变化\n",
    "x = np.array([[1, 2, 3], [4, 5, 6]])\n",
    "print(np.ravel(x))\n",
    "print(np.ravel(x, order='F'))\n",
    "a = np.arange(3)[::-1]; a\n",
    "print(a.ravel(order='C'))\n",
    "print(a.ravel(order='K'))"
   ]
  },
  {
   "cell_type": "code",
   "execution_count": 43,
   "metadata": {},
   "outputs": [
    {
     "data": {
      "text/plain": [
       "array([11,  1])"
      ]
     },
     "execution_count": 43,
     "metadata": {},
     "output_type": "execute_result"
    }
   ],
   "source": [
    "#ravel_multi_index\n",
    "# 未知\n",
    "arr = np.array([[2,0],[3,1]])\n",
    "np.ravel_multi_index(arr, (3,4))\n",
    "# （3，4）:\n",
    "# [[0,1,2,3],\n",
    "#  [4,5,6,7],\n",
    "#  [8,9,10,11]]\n",
    "# (2, 3): 3行，4列 为11"
   ]
  },
  {
   "cell_type": "code",
   "execution_count": 44,
   "metadata": {},
   "outputs": [
    {
     "name": "stdout",
     "output_type": "stream",
     "text": [
      "[1. 3. 5.]\n"
     ]
    },
    {
     "data": {
      "text/plain": [
       "array([9.+2.j, 8.+4.j, 7.+6.j])"
      ]
     },
     "execution_count": 44,
     "metadata": {},
     "output_type": "execute_result"
    }
   ],
   "source": [
    "# real 获得复数实部,可修改实部值\n",
    "# 复数计算\n",
    "a = np.array([1+2j, 3+4j, 5+6j])\n",
    "print(a.real)\n",
    "a.real = np.array([9, 8, 7])\n",
    "a"
   ]
  },
  {
   "cell_type": "code",
   "execution_count": 45,
   "metadata": {},
   "outputs": [
    {
     "name": "stdout",
     "output_type": "stream",
     "text": [
      "[2.1]\n",
      "[2.1+4.e-13j]\n"
     ]
    }
   ],
   "source": [
    "# real_if_close 对虚部的操作算子\n",
    "# 复数计算\n",
    "print(np.real_if_close([2.1 + 4e-14j], tol=1000))\n",
    "print(np.real_if_close([2.1 + 4e-13j], tol=1000))"
   ]
  },
  {
   "cell_type": "code",
   "execution_count": 46,
   "metadata": {},
   "outputs": [
    {
     "name": "stdout",
     "output_type": "stream",
     "text": [
      "[1. 3.]\n"
     ]
    },
    {
     "data": {
      "text/plain": [
       "array([1., 3.])"
      ]
     },
     "execution_count": 46,
     "metadata": {},
     "output_type": "execute_result"
    }
   ],
   "source": [
    "# rec 构造一个允许使用属性访问字段的ndarray。与recarray一致\n",
    "# 结构变化\n",
    "x = np.array([(1.0, 2), (3.0, 4)], dtype=[('x', float), ('y', int)])\n",
    "print(x[\"x\"]) # x.x会报错\n",
    "x2 = np.rec.array(x)\n",
    "x2.x"
   ]
  },
  {
   "cell_type": "code",
   "execution_count": 47,
   "metadata": {},
   "outputs": [
    {
     "name": "stdout",
     "output_type": "stream",
     "text": [
      "[1. 3.]\n"
     ]
    },
    {
     "data": {
      "text/plain": [
       "array([1., 3.])"
      ]
     },
     "execution_count": 47,
     "metadata": {},
     "output_type": "execute_result"
    }
   ],
   "source": [
    "# recarray 构造一个允许使用属性访问字段的ndarray。\n",
    "# 结构变化\n",
    "x = np.array([(1.0, 2), (3.0, 4)], dtype=[('x', float), ('y', int)])\n",
    "print(x[\"x\"]) # x.x会报错\n",
    "x = x.view(np.recarray)\n",
    "x.x"
   ]
  },
  {
   "cell_type": "code",
   "execution_count": 48,
   "metadata": {},
   "outputs": [
    {
     "name": "stdout",
     "output_type": "stream",
     "text": [
      "[(0, 1.1, 1.2) (1, 2.1, 2.2) (2, 3.1, 3.2)]\n"
     ]
    }
   ],
   "source": [
    "# recfromcsv 从文件中加载ASCII数据并以记录数组的形式返回。\n",
    "filename = 'data.csv'\n",
    "writer = open(filename,mode='w')\n",
    "writer.write('first column,second column,third column\\n')\n",
    "writer.write('0,1.1,1.2\\n1,2.1,2.2\\n2,3.1,3.2')\n",
    "writer.close()\n",
    "\n",
    "data = np.recfromcsv(filename)\n",
    "print (data)"
   ]
  },
  {
   "cell_type": "code",
   "execution_count": 49,
   "metadata": {},
   "outputs": [],
   "source": [
    "# np.recfromtxt 不知道干嘛用的\n",
    "# 未知"
   ]
  },
  {
   "cell_type": "code",
   "execution_count": 50,
   "metadata": {},
   "outputs": [
    {
     "name": "stdout",
     "output_type": "stream",
     "text": [
      "1\n",
      "0\n",
      "0.25\n"
     ]
    }
   ],
   "source": [
    "# reciprocal 倒数,int和float有大区别\n",
    "# 数值计算\n",
    "print(np.reciprocal(1))\n",
    "print(np.reciprocal(4))\n",
    "print(np.reciprocal(4.))"
   ]
  },
  {
   "cell_type": "code",
   "execution_count": 51,
   "metadata": {},
   "outputs": [],
   "source": [
    "# record\n",
    "# 一头雾水。。这玩意有什么用？\n",
    "# 未知"
   ]
  },
  {
   "cell_type": "code",
   "execution_count": 52,
   "metadata": {},
   "outputs": [
    {
     "name": "stdout",
     "output_type": "stream",
     "text": [
      "[0 7]\n",
      "[0 1 2 3 4 0 1]\n"
     ]
    }
   ],
   "source": [
    "# remainder 取余 ufunc\n",
    "# 数值计算\n",
    "print(np.remainder([4, 7], [2, 9]))\n",
    "print(np.remainder(np.arange(7), 5))"
   ]
  },
  {
   "cell_type": "code",
   "execution_count": 53,
   "metadata": {},
   "outputs": [
    {
     "name": "stdout",
     "output_type": "stream",
     "text": [
      "[[1 2]\n",
      " [1 2]\n",
      " [3 4]\n",
      " [3 4]\n",
      " [5 6]]\n",
      "\n",
      " [[1 1 1 2 2 2]\n",
      " [3 3 3 4 4 4]\n",
      " [5 5 5 6 6 6]]\n",
      "\n",
      " [1 1 2 2 3 3 4 4 5 5 6 6]\n",
      "\n",
      " [3 3]\n"
     ]
    }
   ],
   "source": [
    "# repeat\n",
    "# 数组生成\n",
    "x = np.array([[1,2],[3,4],[5,6]])\n",
    "print(np.repeat(x, [2, 2, 1], axis=0))\n",
    "print(\"\\n\",np.repeat(x, 3, axis=1))\n",
    "print(\"\\n\",np.repeat(x, 2))\n",
    "print(\"\\n\",np.repeat(3, 2))"
   ]
  },
  {
   "cell_type": "code",
   "execution_count": 54,
   "metadata": {},
   "outputs": [
    {
     "name": "stdout",
     "output_type": "stream",
     "text": [
      "  C_CONTIGUOUS : True\n",
      "  F_CONTIGUOUS : False\n",
      "  OWNDATA : False\n",
      "  WRITEABLE : True\n",
      "  ALIGNED : True\n",
      "  WRITEBACKIFCOPY : False\n",
      "  UPDATEIFCOPY : False\n",
      "  C_CONTIGUOUS : False\n",
      "  F_CONTIGUOUS : True\n",
      "  OWNDATA : True\n",
      "  WRITEABLE : True\n",
      "  ALIGNED : True\n",
      "  WRITEBACKIFCOPY : False\n",
      "  UPDATEIFCOPY : False\n"
     ]
    }
   ],
   "source": [
    "# np.require 定义数据所需要的权限，妈呀。。\n",
    "# 未知\n",
    "x = np.arange(6).reshape(2,3)\n",
    "print(x.flags)\n",
    "y = np.require(x, dtype=np.float32, requirements=['A', 'O', 'W', 'F'])\n",
    "print(y.flags)"
   ]
  },
  {
   "cell_type": "code",
   "execution_count": 55,
   "metadata": {},
   "outputs": [
    {
     "name": "stdout",
     "output_type": "stream",
     "text": [
      "[[0 1]\n",
      " [2 3]\n",
      " [4 5]]\n",
      "\n",
      " [[0 1 2]\n",
      " [3 4 5]]\n",
      "\n",
      " [[0 4 3]\n",
      " [2 1 5]]\n",
      "\n",
      " [[0 2 4]\n",
      " [1 3 5]]\n"
     ]
    }
   ],
   "source": [
    "# reshape order:C 是按照行顺序， F 是按照列顺序，A 就是按照数据在内存中存储的顺序来。\n",
    "# 结构变化\n",
    "a = np.arange(6).reshape((3, 2))\n",
    "print(a)\n",
    "print(\"\\n\",np.reshape(a, (2, 3))) # C-like index ordering\n",
    "print(\"\\n\",np.reshape(a, (2, 3), order='F')) # 按照 F 顺序打散后就是 0 2 4 1 3 5， 再按照 F顺序插入， 就是结果。\n",
    "print(\"\\n\",np.reshape(np.ravel(a), (2, 3), order='F'))#ravel打散 0 1 2 3 4 5,再按照 F顺序插入，就是结果。"
   ]
  },
  {
   "cell_type": "code",
   "execution_count": 4,
   "metadata": {},
   "outputs": [
    {
     "name": "stdout",
     "output_type": "stream",
     "text": [
      "[[0 1 2 3 0]\n",
      " [1 2 3 0 1]]\n",
      "------\n",
      " [[0 1 2 3]\n",
      " [0 1 2 3]]\n",
      "------\n",
      " [[0 1 2]\n",
      " [3 0 1]]\n",
      "------\n",
      " [[0 1 2 3]]\n"
     ]
    }
   ],
   "source": [
    "# resize 神奇的数据重塑工具。。。。\n",
    "# 数组生成\n",
    "a=np.array([[0,1],[2,3]])\n",
    "print(np.resize(a,(2,5)))\n",
    "print(\"------\\n\",np.resize(a,(2,4)))\n",
    "print(\"------\\n\",np.resize(a,(2,3)))\n",
    "print(\"------\\n\",np.resize(a,(1,4)))"
   ]
  },
  {
   "cell_type": "code",
   "execution_count": 57,
   "metadata": {},
   "outputs": [
    {
     "name": "stdout",
     "output_type": "stream",
     "text": [
      "complex128\n"
     ]
    },
    {
     "data": {
      "text/plain": [
       "dtype('float64')"
      ]
     },
     "execution_count": 57,
     "metadata": {},
     "output_type": "execute_result"
    }
   ],
   "source": [
    "#np.result_type 返回数据类型\n",
    "print(np.result_type('i4', 'c8'))\n",
    "np.result_type(3.0, -2)"
   ]
  },
  {
   "cell_type": "code",
   "execution_count": 58,
   "metadata": {},
   "outputs": [
    {
     "name": "stdout",
     "output_type": "stream",
     "text": [
      "1100100\n",
      "6\n",
      "101\n",
      "[5 2 1 0]\n"
     ]
    }
   ],
   "source": [
    "# right_shift 转化为二级制数，然后从右减少位数 && np.binary_repr转化为二进制数\n",
    "# 数值计算\n",
    "print(np.binary_repr(100)) \n",
    "print(np.right_shift(100, 4))\n",
    "print(np.binary_repr(5))\n",
    "print(np.right_shift(10, [1,2,3,4]))"
   ]
  },
  {
   "cell_type": "code",
   "execution_count": 59,
   "metadata": {},
   "outputs": [
    {
     "name": "stdout",
     "output_type": "stream",
     "text": [
      "[-2. -2. -1. -0.  0.  1.  2.  2.]\n"
     ]
    }
   ],
   "source": [
    "# rint 四舍五入取整\n",
    "# 数值计算\n",
    "a = np.array([-1.7, -1.5, -1.4, -0.2, 0.2, 1.2, 1.7, 2.1])\n",
    "print(np.rint(a))"
   ]
  },
  {
   "cell_type": "code",
   "execution_count": 60,
   "metadata": {},
   "outputs": [
    {
     "name": "stdout",
     "output_type": "stream",
     "text": [
      "[14 15  0  1  2  3  4  5  6  7  8  9 10 11 12 13]\n",
      "[[[ 0  1  2  3]\n",
      "  [ 4  5  6  7]]\n",
      "\n",
      " [[ 8  9 10 11]\n",
      "  [12 13 14 15]]]\n",
      "\n",
      "\n",
      "无轴 [[[15  0  1  2]\n",
      "  [ 3  4  5  6]]\n",
      "\n",
      " [[ 7  8  9 10]\n",
      "  [11 12 13 14]]]\n",
      "\n",
      "\n",
      "轴0 [[[ 8  9 10 11]\n",
      "  [12 13 14 15]]\n",
      "\n",
      " [[ 0  1  2  3]\n",
      "  [ 4  5  6  7]]]\n",
      "\n",
      "\n",
      "轴1 [[[ 4  5  6  7]\n",
      "  [ 0  1  2  3]]\n",
      "\n",
      " [[12 13 14 15]\n",
      "  [ 8  9 10 11]]]\n",
      "\n",
      "\n",
      "轴2 [[[ 3  0  1  2]\n",
      "  [ 7  4  5  6]]\n",
      "\n",
      " [[11  8  9 10]\n",
      "  [15 12 13 14]]]\n"
     ]
    }
   ],
   "source": [
    "# roll 数据变化（滚动）！！so nice\n",
    "# 数组生成\n",
    "x = np.arange(16)\n",
    "print(np.roll(x, 2))\n",
    "x2 = np.reshape(x, (2,2,4))\n",
    "print(x2)\n",
    "print(\"\\n\\n无轴\",np.roll(x2, 1))\n",
    "print(\"\\n\\n轴0\",np.roll(x2, 1, axis=0))\n",
    "print(\"\\n\\n轴1\",np.roll(x2, 1, axis=1))\n",
    "print(\"\\n\\n轴2\",np.roll(x2, 1, axis=2))"
   ]
  },
  {
   "cell_type": "code",
   "execution_count": 61,
   "metadata": {},
   "outputs": [
    {
     "name": "stdout",
     "output_type": "stream",
     "text": [
      "(3, 6, 4, 5)\n",
      "(5, 3, 4, 6)\n",
      "(3, 5, 6, 4)\n"
     ]
    }
   ],
   "source": [
    "# rollaxis &&下文的列表示维度\n",
    "# 数组生成\n",
    "a = np.ones((3,4,5,6))\n",
    "# print(a)\n",
    "print(np.rollaxis(a, 3, 1).shape) # 第三列移到index 1前\n",
    "print(np.rollaxis(a, 2).shape) # 第二列移到默认的index 0前\n",
    "print(np.rollaxis(a, 1, 4).shape)# 第二列移到默认的index 4前,即3"
   ]
  },
  {
   "cell_type": "code",
   "execution_count": 62,
   "metadata": {},
   "outputs": [
    {
     "name": "stdout",
     "output_type": "stream",
     "text": [
      "[-1.58669357e-03  5.23608879e-02  4.25616927e-01 -7.90556449e+00]\n",
      "           3           2\n",
      "-0.001587 x + 0.05236 x + 0.4256 x - 7.906\n",
      "[ 36.60958809 -13.60958809  10.        ]\n"
     ]
    },
    {
     "name": "stderr",
     "output_type": "stream",
     "text": [
      "/home/mathartsys/venv3/lib/python3.6/site-packages/ipykernel_launcher.py:3: RankWarning: Polyfit may be poorly conditioned\n",
      "  This is separate from the ipykernel package so we can avoid doing imports until\n"
     ]
    }
   ],
   "source": [
    "# root && poly 根据给定解，获得首系数为1的多项式 && poly1d 根据拟合的系数或者设定的系数，获得多项式表达式 \n",
    "#&& polyfit根据已有点，获得拟合的多项式。\n",
    "# 数值计算\n",
    "poly= np.polyfit([10,11,12],[0,1,2],3)\n",
    "p1 = np.poly1d(poly)\n",
    "print(poly) #获得拟合出的多项式的系数\n",
    "print(p1) #获得该多项式表达式\n",
    "print(np.roots(poly)) #获得多项式=0的解"
   ]
  },
  {
   "cell_type": "code",
   "execution_count": 63,
   "metadata": {},
   "outputs": [
    {
     "name": "stdout",
     "output_type": "stream",
     "text": [
      "[[2 4]\n",
      " [1 3]]\n",
      "[[4 3]\n",
      " [2 1]]\n",
      "\n",
      " \n",
      " [[[0 1]\n",
      "  [2 3]]\n",
      "\n",
      " [[4 5]\n",
      "  [6 7]]]\n",
      "\n",
      " (1,2) \n",
      " [[[1 3]\n",
      "  [0 2]]\n",
      "\n",
      " [[5 7]\n",
      "  [4 6]]]\n",
      "\n",
      " \n",
      " [[[3 2]\n",
      "  [1 0]]\n",
      "\n",
      " [[7 6]\n",
      "  [5 4]]]\n",
      "\n",
      " (0,1) \n",
      " [[[2 3]\n",
      "  [6 7]]\n",
      "\n",
      " [[0 1]\n",
      "  [4 5]]]\n",
      "\n",
      " \n",
      " [[[6 7]\n",
      "  [4 5]]\n",
      "\n",
      " [[2 3]\n",
      "  [0 1]]]\n"
     ]
    }
   ],
   "source": [
    "# rot90 旋转矩阵\n",
    "# 结构识别\n",
    "m = np.array([[1,2],[3,4]], int)\n",
    "print(np.rot90(m))\n",
    "print(np.rot90(m, 2))\n",
    "m = np.arange(8).reshape((2,2,2))\n",
    "print(\"\\n\",\"\\n\",m)\n",
    "print(\"\\n\",\"(1,2)\",\"\\n\",np.rot90(m, 1, (1,2)))\n",
    "print(\"\\n\",\"\\n\",np.rot90(m, 2, (1,2)))\n",
    "print(\"\\n\",\"(0,1)\",\"\\n\",np.rot90(m, 1, (0,1)))\n",
    "print(\"\\n\",\"\\n\",np.rot90(m, 2, (0,1)))"
   ]
  },
  {
   "cell_type": "code",
   "execution_count": 64,
   "metadata": {},
   "outputs": [
    {
     "name": "stdout",
     "output_type": "stream",
     "text": [
      "[ 0.4 11.6]\n",
      "[  0. 100.]\n",
      "[ 0. 10.]\n"
     ]
    }
   ],
   "source": [
    "# round = round_ = around decimals保留小数的位数\n",
    "# 数值计算\n",
    "print(np.around([0.37, 11.64], decimals=1))\n",
    "print(np.round([0.37, 111.64], decimals=-2))\n",
    "print(np.round_([0.37, 11.64], decimals=-1))"
   ]
  },
  {
   "cell_type": "code",
   "execution_count": 65,
   "metadata": {},
   "outputs": [
    {
     "data": {
      "text/plain": [
       "array([[1],\n",
       "       [2],\n",
       "       [3],\n",
       "       [2],\n",
       "       [3],\n",
       "       [4]])"
      ]
     },
     "execution_count": 65,
     "metadata": {},
     "output_type": "execute_result"
    }
   ],
   "source": [
    "# row_stack == vstack\n",
    "# 数组生成\n",
    "a = np.array([[1], [2], [3]])\n",
    "b = np.array([[2], [3], [4]])\n",
    "np.vstack((a,b))"
   ]
  },
  {
   "cell_type": "code",
   "execution_count": 66,
   "metadata": {},
   "outputs": [
    {
     "data": {
      "text/plain": [
       "array([2, 4])"
      ]
     },
     "execution_count": 66,
     "metadata": {},
     "output_type": "execute_result"
    }
   ],
   "source": [
    "# np.safe_eval 无用\n",
    "# np.array([0, 1, 2, 3, 4])[np.s_[2::2]] 切割array\n",
    "# 数组生成\n",
    "np.array([0, 1, 2, 3, 4])[np.s_[2::2]]"
   ]
  },
  {
   "cell_type": "code",
   "execution_count": 67,
   "metadata": {},
   "outputs": [],
   "source": [
    "# np.savez_compressed 保存压缩文件\n",
    "# np.savez 保存文件含多个array\n",
    "# np.save 保存文件单个array"
   ]
  },
  {
   "cell_type": "code",
   "execution_count": 68,
   "metadata": {},
   "outputs": [
    {
     "data": {
      "text/plain": [
       "'\\nsctype2char\\nsctypeDict\\nsctypeNA\\nsctypes\\n'"
      ]
     },
     "execution_count": 68,
     "metadata": {},
     "output_type": "execute_result"
    }
   ],
   "source": [
    "\"\"\"\n",
    "sctype2char\n",
    "sctypeDict\n",
    "sctypeNA\n",
    "sctypes\n",
    "\"\"\"\n",
    "#与格式有关"
   ]
  },
  {
   "cell_type": "code",
   "execution_count": 69,
   "metadata": {},
   "outputs": [
    {
     "name": "stdout",
     "output_type": "stream",
     "text": [
      "3\n",
      "3\n",
      "3\n",
      "4\n",
      "[0 5 1 2]\n"
     ]
    }
   ],
   "source": [
    "# searchsorted 查找位置 1-D 查找后方数字按大小应在列表中的位置的索引，列表需要有序\n",
    "#  数值索引\n",
    "print(np.searchsorted([1,2,3,4,5], 3.5))\n",
    "print(np.searchsorted([1,2,3,4,5], 3.5, side='right'))\n",
    "print(np.searchsorted([1,2,3,4,5], 4))\n",
    "print(np.searchsorted([1,2,3,4,5], 4, side='right'))\n",
    "print(np.searchsorted([1,2,3,4,5], [-10, 10, 2, 3]))"
   ]
  },
  {
   "cell_type": "code",
   "execution_count": 70,
   "metadata": {},
   "outputs": [
    {
     "data": {
      "text/plain": [
       "array([ 0,  1,  2,  9, 16, 25, 12, 14, 16, 18])"
      ]
     },
     "execution_count": 70,
     "metadata": {},
     "output_type": "execute_result"
    }
   ],
   "source": [
    "# select 按条件计算\n",
    "# 数值计算\n",
    "x = np.arange(10)\n",
    "condlist = [x<3, x<6, x>5]\n",
    "choicelist = [x, x**2,x*2]\n",
    "np.select(condlist, choicelist)"
   ]
  },
  {
   "cell_type": "code",
   "execution_count": 71,
   "metadata": {},
   "outputs": [],
   "source": [
    "# set_string_function 不懂 set_printoptions 不懂 set_numeric_ops 太危险别玩\n",
    "# 未知"
   ]
  },
  {
   "cell_type": "code",
   "execution_count": 72,
   "metadata": {},
   "outputs": [
    {
     "name": "stdout",
     "output_type": "stream",
     "text": [
      "8192\n",
      "8192\n"
     ]
    }
   ],
   "source": [
    "# np.setbufsize 设置numpy数据格式占用最大缓存，np.getbufsize() 查看当前设置\n",
    "print(np.getbufsize())\n",
    "print(np.setbufsize(8192))"
   ]
  },
  {
   "cell_type": "code",
   "execution_count": 73,
   "metadata": {},
   "outputs": [
    {
     "data": {
      "text/plain": [
       "array([1, 2])"
      ]
     },
     "execution_count": 73,
     "metadata": {},
     "output_type": "execute_result"
    }
   ],
   "source": [
    "# setdiff1d a,b交集在a集下的补集 和 setxor1d a,b交集在a,b并集下的补集\n",
    "# 数值计算\n",
    "a = np.array([1, 2, 3, 2, 4, 1])\n",
    "b = np.array([3, 4, 5, 6])\n",
    "np.setdiff1d(a, b)"
   ]
  },
  {
   "cell_type": "code",
   "execution_count": 74,
   "metadata": {},
   "outputs": [],
   "source": [
    "# seterrobj 设置定义浮点错误处理的对象 seterrcall，seterr 处理数字异常用\n",
    "# 未知"
   ]
  },
  {
   "cell_type": "code",
   "execution_count": 75,
   "metadata": {},
   "outputs": [
    {
     "name": "stdout",
     "output_type": "stream",
     "text": [
      "In file: /home/mathartsys/venv3/lib/python3.6/site-packages/numpy/lib/arraysetops.py\n",
      "\n",
      "def setxor1d(ar1, ar2, assume_unique=False):\n",
      "    \"\"\"\n",
      "    Find the set exclusive-or of two arrays.\n",
      "\n",
      "    Return the sorted, unique values that are in only one (not both) of the\n",
      "    input arrays.\n",
      "\n",
      "    Parameters\n",
      "    ----------\n",
      "    ar1, ar2 : array_like\n",
      "        Input arrays.\n",
      "    assume_unique : bool\n",
      "        If True, the input arrays are both assumed to be unique, which\n",
      "        can speed up the calculation.  Default is False.\n",
      "\n",
      "    Returns\n",
      "    -------\n",
      "    setxor1d : ndarray\n",
      "        Sorted 1D array of unique values that are in only one of the input\n",
      "        arrays.\n",
      "\n",
      "    Examples\n",
      "    --------\n",
      "    >>> a = np.array([1, 2, 3, 2, 4])\n",
      "    >>> b = np.array([2, 3, 5, 7, 5])\n",
      "    >>> np.setxor1d(a,b)\n",
      "    array([1, 4, 5, 7])\n",
      "\n",
      "    \"\"\"\n",
      "    if not assume_unique:\n",
      "        ar1 = unique(ar1)\n",
      "        ar2 = unique(ar2)\n",
      "\n",
      "    aux = np.concatenate((ar1, ar2))\n",
      "    if aux.size == 0:\n",
      "        return aux\n",
      "\n",
      "    aux.sort()\n",
      "    flag = np.concatenate(([True], aux[1:] != aux[:-1], [True]))\n",
      "    return aux[flag[1:] & flag[:-1]]\n",
      "\n"
     ]
    }
   ],
   "source": [
    "# setxor1d a,b交集在a,b并集下的补集 和 setdiff1d a,b交集在a集下的补集\n",
    "# 数值计算\n",
    "np.source(np.setxor1d)"
   ]
  },
  {
   "cell_type": "code",
   "execution_count": 76,
   "metadata": {},
   "outputs": [
    {
     "data": {
      "text/plain": [
       "(3, 3)"
      ]
     },
     "execution_count": 76,
     "metadata": {},
     "output_type": "execute_result"
    }
   ],
   "source": [
    "# shape\n",
    "#  结构识别\n",
    "np.shape(np.eye(3))"
   ]
  },
  {
   "cell_type": "code",
   "execution_count": 77,
   "metadata": {},
   "outputs": [
    {
     "name": "stdout",
     "output_type": "stream",
     "text": [
      "False\n",
      "True\n",
      "False\n"
     ]
    }
   ],
   "source": [
    "# may_share_memory 查看存储位置是否一致\n",
    "# 结构识别\n",
    "a = np.array([1,2])\n",
    "b = a\n",
    "c = copy.deepcopy(a)\n",
    "print(np.may_share_memory(np.array([1,2]), np.array([1,2])))\n",
    "print(np.may_share_memory(a, b))\n",
    "print(np.may_share_memory(a, c))"
   ]
  },
  {
   "cell_type": "code",
   "execution_count": 78,
   "metadata": {},
   "outputs": [
    {
     "data": {
      "text/plain": [
       "array([ 1, -2,  2], dtype=int16)"
      ]
     },
     "execution_count": 78,
     "metadata": {},
     "output_type": "execute_result"
    }
   ],
   "source": [
    "# short 转数据类型\n",
    "# 数据类型\n",
    "np.short(np.array([1, -2.3, 2.1]))"
   ]
  },
  {
   "cell_type": "code",
   "execution_count": 79,
   "metadata": {},
   "outputs": [
    {
     "name": "stdout",
     "output_type": "stream",
     "text": [
      "blas_mkl_info:\n",
      "  NOT AVAILABLE\n",
      "blis_info:\n",
      "  NOT AVAILABLE\n",
      "openblas_info:\n",
      "    libraries = ['openblas', 'openblas']\n",
      "    library_dirs = ['/usr/local/lib']\n",
      "    language = c\n",
      "    define_macros = [('HAVE_CBLAS', None)]\n",
      "blas_opt_info:\n",
      "    libraries = ['openblas', 'openblas']\n",
      "    library_dirs = ['/usr/local/lib']\n",
      "    language = c\n",
      "    define_macros = [('HAVE_CBLAS', None)]\n",
      "lapack_mkl_info:\n",
      "  NOT AVAILABLE\n",
      "openblas_lapack_info:\n",
      "    libraries = ['openblas', 'openblas']\n",
      "    library_dirs = ['/usr/local/lib']\n",
      "    language = c\n",
      "    define_macros = [('HAVE_CBLAS', None)]\n",
      "lapack_opt_info:\n",
      "    libraries = ['openblas', 'openblas']\n",
      "    library_dirs = ['/usr/local/lib']\n",
      "    language = c\n",
      "    define_macros = [('HAVE_CBLAS', None)]\n"
     ]
    }
   ],
   "source": [
    "# np.show_config() 查看配置\n",
    "\n",
    "np.show_config()"
   ]
  },
  {
   "cell_type": "code",
   "execution_count": 80,
   "metadata": {},
   "outputs": [
    {
     "data": {
      "text/plain": [
       "array([[ 1., -1.,  0.],\n",
       "       [-1.,  1.,  1.]])"
      ]
     },
     "execution_count": 80,
     "metadata": {},
     "output_type": "execute_result"
    }
   ],
   "source": [
    "# sign 判断正负和0\n",
    "# 逻辑判断\n",
    "np.sign(np.array([[100, -1000.0, 0],[-34,123,11]]))"
   ]
  },
  {
   "cell_type": "code",
   "execution_count": 81,
   "metadata": {},
   "outputs": [
    {
     "data": {
      "text/plain": [
       "array([False,  True, False])"
      ]
     },
     "execution_count": 81,
     "metadata": {},
     "output_type": "execute_result"
    }
   ],
   "source": [
    "# signbit 判断是不是浮点数\n",
    "# 逻辑判断\n",
    "np.signbit(np.array([1, -2.3, 2.1]))"
   ]
  },
  {
   "cell_type": "code",
   "execution_count": 82,
   "metadata": {},
   "outputs": [
    {
     "data": {
      "text/plain": [
       "numpy.signedinteger"
      ]
     },
     "execution_count": 82,
     "metadata": {},
     "output_type": "execute_result"
    }
   ],
   "source": [
    "# signedinteger 不知道干嘛用\n",
    "# 未知\n",
    "np.signedinteger"
   ]
  },
  {
   "cell_type": "code",
   "execution_count": 83,
   "metadata": {},
   "outputs": [
    {
     "name": "stdout",
     "output_type": "stream",
     "text": [
      "[-4. -3. -2. -1.  0.  1.  2.  3.  4.]\n"
     ]
    },
    {
     "data": {
      "text/plain": [
       "array([-3.89817183e-17,  3.89817183e-17, -3.89817183e-17,  3.89817183e-17,\n",
       "        1.00000000e+00,  3.89817183e-17, -3.89817183e-17,  3.89817183e-17,\n",
       "       -3.89817183e-17])"
      ]
     },
     "execution_count": 83,
     "metadata": {},
     "output_type": "execute_result"
    }
   ],
   "source": [
    "# sinc ， sin 见 ufunc\n",
    "# 数值计算\n",
    "x = np.linspace(-4, 4, 9)\n",
    "print(x)\n",
    "np.sinc(x)"
   ]
  },
  {
   "cell_type": "code",
   "execution_count": 84,
   "metadata": {},
   "outputs": [
    {
     "data": {
      "text/plain": [
       "array([1., 2., 3.], dtype=float32)"
      ]
     },
     "execution_count": 84,
     "metadata": {},
     "output_type": "execute_result"
    }
   ],
   "source": [
    "# single 整转浮点\n",
    "# 结构变化\n",
    "np.single([1,2,3])"
   ]
  },
  {
   "cell_type": "code",
   "execution_count": 85,
   "metadata": {},
   "outputs": [
    {
     "data": {
      "text/plain": [
       "array([1.+1.j, 2.+0.j, 3.+0.j], dtype=complex64)"
      ]
     },
     "execution_count": 85,
     "metadata": {},
     "output_type": "execute_result"
    }
   ],
   "source": [
    "# singlecomplex 实转复\n",
    "#  复数计算\n",
    "np.singlecomplex([1+1j,2,3])"
   ]
  },
  {
   "cell_type": "code",
   "execution_count": 86,
   "metadata": {},
   "outputs": [
    {
     "data": {
      "text/plain": [
       "array([0.        , 0.40287038, 0.86867096])"
      ]
     },
     "execution_count": 86,
     "metadata": {},
     "output_type": "execute_result"
    }
   ],
   "source": [
    "# sinh 见 tanh\n",
    "# 数值计算\n",
    "np.sinh((0, np.pi/8, np.pi/4))"
   ]
  },
  {
   "cell_type": "code",
   "execution_count": 87,
   "metadata": {},
   "outputs": [
    {
     "name": "stdout",
     "output_type": "stream",
     "text": [
      "<class 'int'>\n",
      "6\n",
      "2\n",
      "3\n"
     ]
    }
   ],
   "source": [
    "# size 类shape\n",
    "# 结构识别\n",
    "a = np.array([[1,2,3],[4,5,6]])\n",
    "print(type(np.size(a)))\n",
    "print(np.size(a))\n",
    "print(np.size(a,0))\n",
    "print(np.size(a,1))"
   ]
  },
  {
   "cell_type": "code",
   "execution_count": 88,
   "metadata": {},
   "outputs": [
    {
     "name": "stdout",
     "output_type": "stream",
     "text": [
      "True\n",
      "False\n"
     ]
    }
   ],
   "source": [
    "# sometrue & alltrue\n",
    "# 逻辑判断\n",
    "print(np.sometrue(np.array([1,1,0,0])))\n",
    "print(np.alltrue(np.array([1,1,0,0])))"
   ]
  },
  {
   "cell_type": "code",
   "execution_count": 89,
   "metadata": {},
   "outputs": [
    {
     "name": "stdout",
     "output_type": "stream",
     "text": [
      "[(b'Galahad', 1.7, 38) (b'Arthur', 1.8, 41) (b'Lancelot', 1.9, 38)]\n",
      "[(b'Galahad', 1.7, 38) (b'Lancelot', 1.9, 38) (b'Arthur', 1.8, 41)]\n"
     ]
    }
   ],
   "source": [
    "# sort 实数排序\n",
    "\n",
    "dtype = [('name', 'S10'), ('height', float), ('age', int)]\n",
    "values = [('Arthur', 1.8, 41), ('Lancelot', 1.9, 38), ('Galahad', 1.7, 38)]\n",
    "a = np.array(values, dtype=dtype)\n",
    "print(np.sort(a, order='height'))\n",
    "print(np.sort(a, order=['age', 'height']))"
   ]
  },
  {
   "cell_type": "code",
   "execution_count": 90,
   "metadata": {},
   "outputs": [
    {
     "data": {
      "text/plain": [
       "array([1.+0.j, 2.+0.j, 3.+0.j, 5.+0.j, 6.+0.j])"
      ]
     },
     "execution_count": 90,
     "metadata": {},
     "output_type": "execute_result"
    }
   ],
   "source": [
    "# np.sort_complex 对复数排序\n",
    "# 复数计算\n",
    "np.sort_complex([5, 3, 6, 2, 1])"
   ]
  },
  {
   "cell_type": "code",
   "execution_count": 91,
   "metadata": {},
   "outputs": [
    {
     "name": "stdout",
     "output_type": "stream",
     "text": [
      "In file: /home/mathartsys/venv3/lib/python3.6/site-packages/numpy/lib/function_base.py\n",
      "\n",
      "def interp(x, xp, fp, left=None, right=None, period=None):\n",
      "    \"\"\"\n",
      "    One-dimensional linear interpolation.\n",
      "\n",
      "    Returns the one-dimensional piecewise linear interpolant to a function\n",
      "    with given discrete data points (`xp`, `fp`), evaluated at `x`.\n",
      "\n",
      "    Parameters\n",
      "    ----------\n",
      "    x : array_like\n",
      "        The x-coordinates at which to evaluate the interpolated values.\n",
      "\n",
      "    xp : 1-D sequence of floats\n",
      "        The x-coordinates of the data points, must be increasing if argument\n",
      "        `period` is not specified. Otherwise, `xp` is internally sorted after\n",
      "        normalizing the periodic boundaries with ``xp = xp % period``.\n",
      "\n",
      "    fp : 1-D sequence of float or complex\n",
      "        The y-coordinates of the data points, same length as `xp`.\n",
      "\n",
      "    left : optional float or complex corresponding to fp\n",
      "        Value to return for `x < xp[0]`, default is `fp[0]`.\n",
      "\n",
      "    right : optional float or complex corresponding to fp\n",
      "        Value to return for `x > xp[-1]`, default is `fp[-1]`.\n",
      "\n",
      "    period : None or float, optional\n",
      "        A period for the x-coordinates. This parameter allows the proper\n",
      "        interpolation of angular x-coordinates. Parameters `left` and `right`\n",
      "        are ignored if `period` is specified.\n",
      "\n",
      "        .. versionadded:: 1.10.0\n",
      "\n",
      "    Returns\n",
      "    -------\n",
      "    y : float or complex (corresponding to fp) or ndarray\n",
      "        The interpolated values, same shape as `x`.\n",
      "\n",
      "    Raises\n",
      "    ------\n",
      "    ValueError\n",
      "        If `xp` and `fp` have different length\n",
      "        If `xp` or `fp` are not 1-D sequences\n",
      "        If `period == 0`\n",
      "\n",
      "    Notes\n",
      "    -----\n",
      "    Does not check that the x-coordinate sequence `xp` is increasing.\n",
      "    If `xp` is not increasing, the results are nonsense.\n",
      "    A simple check for increasing is::\n",
      "\n",
      "        np.all(np.diff(xp) > 0)\n",
      "\n",
      "    Examples\n",
      "    --------\n",
      "    >>> xp = [1, 2, 3]\n",
      "    >>> fp = [3, 2, 0]\n",
      "    >>> np.interp(2.5, xp, fp)\n",
      "    1.0\n",
      "    >>> np.interp([0, 1, 1.5, 2.72, 3.14], xp, fp)\n",
      "    array([ 3. ,  3. ,  2.5 ,  0.56,  0. ])\n",
      "    >>> UNDEF = -99.0\n",
      "    >>> np.interp(3.14, xp, fp, right=UNDEF)\n",
      "    -99.0\n",
      "\n",
      "    Plot an interpolant to the sine function:\n",
      "\n",
      "    >>> x = np.linspace(0, 2*np.pi, 10)\n",
      "    >>> y = np.sin(x)\n",
      "    >>> xvals = np.linspace(0, 2*np.pi, 50)\n",
      "    >>> yinterp = np.interp(xvals, x, y)\n",
      "    >>> import matplotlib.pyplot as plt\n",
      "    >>> plt.plot(x, y, 'o')\n",
      "    [<matplotlib.lines.Line2D object at 0x...>]\n",
      "    >>> plt.plot(xvals, yinterp, '-x')\n",
      "    [<matplotlib.lines.Line2D object at 0x...>]\n",
      "    >>> plt.show()\n",
      "\n",
      "    Interpolation with periodic x-coordinates:\n",
      "\n",
      "    >>> x = [-180, -170, -185, 185, -10, -5, 0, 365]\n",
      "    >>> xp = [190, -190, 350, -350]\n",
      "    >>> fp = [5, 10, 3, 4]\n",
      "    >>> np.interp(x, xp, fp, period=360)\n",
      "    array([7.5, 5., 8.75, 6.25, 3., 3.25, 3.5, 3.75])\n",
      "\n",
      "    Complex interpolation:\n",
      "\n",
      "    >>> x = [1.5, 4.0]\n",
      "    >>> xp = [2,3,5]\n",
      "    >>> fp = [1.0j, 0, 2+3j]\n",
      "    >>> np.interp(x, xp, fp)\n",
      "    array([ 0.+1.j ,  1.+1.5j])\n",
      "\n",
      "    \"\"\"\n",
      "\n",
      "    fp = np.asarray(fp)\n",
      "\n",
      "    if np.iscomplexobj(fp):\n",
      "        interp_func = compiled_interp_complex\n",
      "        input_dtype = np.complex128\n",
      "    else:\n",
      "        interp_func = compiled_interp\n",
      "        input_dtype = np.float64\n",
      "\n",
      "    if period is not None:\n",
      "        if period == 0:\n",
      "            raise ValueError(\"period must be a non-zero value\")\n",
      "        period = abs(period)\n",
      "        left = None\n",
      "        right = None\n",
      "\n",
      "        x = np.asarray(x, dtype=np.float64)\n",
      "        xp = np.asarray(xp, dtype=np.float64)\n",
      "        fp = np.asarray(fp, dtype=input_dtype)\n",
      "\n",
      "        if xp.ndim != 1 or fp.ndim != 1:\n",
      "            raise ValueError(\"Data points must be 1-D sequences\")\n",
      "        if xp.shape[0] != fp.shape[0]:\n",
      "            raise ValueError(\"fp and xp are not of the same length\")\n",
      "        # normalizing periodic boundaries\n",
      "        x = x % period\n",
      "        xp = xp % period\n",
      "        asort_xp = np.argsort(xp)\n",
      "        xp = xp[asort_xp]\n",
      "        fp = fp[asort_xp]\n",
      "        xp = np.concatenate((xp[-1:]-period, xp, xp[0:1]+period))\n",
      "        fp = np.concatenate((fp[-1:], fp, fp[0:1]))\n",
      "\n",
      "    return interp_func(x, xp, fp, left, right)\n",
      "\n"
     ]
    }
   ],
   "source": [
    "# np.source 返回用python写的方法\n",
    "np.source(np.interp) "
   ]
  },
  {
   "cell_type": "code",
   "execution_count": 92,
   "metadata": {},
   "outputs": [],
   "source": [
    "# np.spacing(2) no use"
   ]
  },
  {
   "cell_type": "code",
   "execution_count": 93,
   "metadata": {},
   "outputs": [
    {
     "data": {
      "text/plain": [
       "[array([0., 1., 2.]),\n",
       " array([3., 4.]),\n",
       " array([5.]),\n",
       " array([6., 7.]),\n",
       " array([], dtype=float64)]"
      ]
     },
     "execution_count": 93,
     "metadata": {},
     "output_type": "execute_result"
    }
   ],
   "source": [
    "# split拆分\n",
    "# 结构变化\n",
    "\"\"\"\n",
    "    array_split : Split an array into multiple sub-arrays of equal or\n",
    "                  near-equal size.  Does not raise an exception if\n",
    "                  an equal division cannot be made.\n",
    "    hsplit : Split array into multiple sub-arrays horizontally (column-wise).\n",
    "    vsplit : Split array into multiple sub-arrays vertically (row wise).\n",
    "    dsplit : Split array into multiple sub-arrays along the 3rd axis (depth).\n",
    "    concatenate : Join a sequence of arrays along an existing axis.\n",
    "    stack : Join a sequence of arrays along a new axis.\n",
    "    hstack : Stack arrays in sequence horizontally (column wise).\n",
    "    vstack : Stack arrays in sequence vertically (row wise).\n",
    "    dstack : Stack arrays in sequence depth wise (along third dimension)\n",
    "\"\"\"\n",
    "x = np.arange(8.0)\n",
    "np.split(x, [3, 5, 6, 10])"
   ]
  },
  {
   "cell_type": "code",
   "execution_count": 94,
   "metadata": {},
   "outputs": [
    {
     "name": "stdout",
     "output_type": "stream",
     "text": [
      "[[[0.        ]\n",
      "  [1.        ]\n",
      "  [1.41421356]]]\n"
     ]
    }
   ],
   "source": [
    "# sqrt 根号 见ufunc\n",
    "# 数值计算\n",
    "x = np.array([[[0], [1], [2]]])\n",
    "print(np.sqrt(x))"
   ]
  },
  {
   "cell_type": "code",
   "execution_count": 95,
   "metadata": {},
   "outputs": [
    {
     "name": "stdout",
     "output_type": "stream",
     "text": [
      "[[[0]\n",
      "  [1]\n",
      "  [4]]]\n"
     ]
    }
   ],
   "source": [
    "# square 平方 见ufunc\n",
    "# 数值计算\n",
    "x = np.array([[[0], [1], [2]]])\n",
    "print(np.square(x))"
   ]
  },
  {
   "cell_type": "code",
   "execution_count": 96,
   "metadata": {},
   "outputs": [
    {
     "name": "stdout",
     "output_type": "stream",
     "text": [
      "(1, 3, 1)\n",
      "(3, 1)\n",
      "(1, 3)\n"
     ]
    }
   ],
   "source": [
    "# squeeze\n",
    "# 结构变化\n",
    "x = np.array([[[0], [1], [2]]])\n",
    "print(x.shape)\n",
    "print(np.squeeze(x, axis=0).shape)\n",
    "# print(np.squeeze(x, axis=1).shape)\n",
    "print(np.squeeze(x, axis=2).shape)"
   ]
  },
  {
   "cell_type": "code",
   "execution_count": 97,
   "metadata": {},
   "outputs": [
    {
     "data": {
      "text/plain": [
       "array([[1, 2, 3],\n",
       "       [2, 3, 4]])"
      ]
     },
     "execution_count": 97,
     "metadata": {},
     "output_type": "execute_result"
    }
   ],
   "source": [
    "# stack\n",
    "# 结构变化\n",
    "a = np.array([1, 2, 3])\n",
    "b = np.array([2, 3, 4])\n",
    "np.stack((a, b))"
   ]
  },
  {
   "cell_type": "code",
   "execution_count": 98,
   "metadata": {},
   "outputs": [
    {
     "data": {
      "text/plain": [
       "1.4142135623730951"
      ]
     },
     "execution_count": 98,
     "metadata": {},
     "output_type": "execute_result"
    }
   ],
   "source": [
    "# std\n",
    "# (各项-均值)的平方求和后再除以N 的平方根,标准差\n",
    "# 数值计算\n",
    "a = np.array([[2, 4], [4, 6]])\n",
    "np.std(a)"
   ]
  },
  {
   "cell_type": "code",
   "execution_count": 99,
   "metadata": {},
   "outputs": [],
   "source": [
    "# np.str,np.string_,str0,str_"
   ]
  },
  {
   "cell_type": "code",
   "execution_count": 100,
   "metadata": {},
   "outputs": [
    {
     "data": {
      "text/plain": [
       "array([0, 0, 0, 0, 0])"
      ]
     },
     "execution_count": 100,
     "metadata": {},
     "output_type": "execute_result"
    }
   ],
   "source": [
    "# subtract 减法 见ufunc\n",
    "# 数值计算\n",
    "A = np.array([1,2,3,4,5])\n",
    "B = np.array([1,2,3,4,5])\n",
    "np.subtract(A,B)"
   ]
  },
  {
   "cell_type": "code",
   "execution_count": 101,
   "metadata": {},
   "outputs": [
    {
     "name": "stdout",
     "output_type": "stream",
     "text": [
      "[0 6]\n",
      "15\n"
     ]
    }
   ],
   "source": [
    "# sum\n",
    "# 数值计算\n",
    "print(np.sum([[0, 1], [0, 5]], axis=0))\n",
    "\n",
    "print(np.sum([10], initial=5))"
   ]
  },
  {
   "cell_type": "code",
   "execution_count": 5,
   "metadata": {},
   "outputs": [
    {
     "name": "stdout",
     "output_type": "stream",
     "text": [
      "[[ 0  1  2]\n",
      " [ 3  4  5]\n",
      " [ 6  7  8]\n",
      " [ 9 10 11]]\n"
     ]
    },
    {
     "data": {
      "text/plain": [
       "array([[ 0,  3,  6,  9],\n",
       "       [ 1,  4,  7, 10],\n",
       "       [ 2,  5,  8, 11]])"
      ]
     },
     "execution_count": 5,
     "metadata": {},
     "output_type": "execute_result"
    }
   ],
   "source": [
    "# swapaxes\n",
    "# 结构变化\n",
    "x = np.arange(12).reshape(4,3)\n",
    "print(x)\n",
    "np.swapaxes(x,1,0)"
   ]
  },
  {
   "cell_type": "code",
   "execution_count": 102,
   "metadata": {},
   "outputs": [
    {
     "name": "stdout",
     "output_type": "stream",
     "text": [
      "[[['0' '1' '2' '3']\n",
      "  ['20' '30' '40' '50']]\n",
      "\n",
      " [['-4' '-5' '-6' '-7']\n",
      "  ['-60' '-70' '-80' '-90']]\n",
      "\n",
      " [['a' 'aa' 'aaa' 'aaaa']\n",
      "  ['b' 'bb' 'bbb' 'bbbb']]] \n",
      " (3, 2, 4)\n",
      "\n",
      " \n",
      " [[['0' '-4' 'a']\n",
      "  ['20' '-60' 'b']]\n",
      "\n",
      " [['1' '-5' 'aa']\n",
      "  ['30' '-70' 'bb']]\n",
      "\n",
      " [['2' '-6' 'aaa']\n",
      "  ['40' '-80' 'bbb']]\n",
      "\n",
      " [['3' '-7' 'aaaa']\n",
      "  ['50' '-90' 'bbbb']]] \n",
      " (4, 2, 3)\n",
      "\n",
      " \n",
      " [[['0' '1' '2' '3']\n",
      "  ['-4' '-5' '-6' '-7']\n",
      "  ['a' 'aa' 'aaa' 'aaaa']]\n",
      "\n",
      " [['20' '30' '40' '50']\n",
      "  ['-60' '-70' '-80' '-90']\n",
      "  ['b' 'bb' 'bbb' 'bbbb']]] \n",
      " (2, 3, 4)\n"
     ]
    }
   ],
   "source": [
    "# swapaxes 内部矩阵变换，维度交换\n",
    "# 数组生成 结构变化\n",
    "x = np.array([[[0,1,2,3],[20,30,40,50]],[[-4,-5,-6,-7],[-60,-70,-80,-90]],[[\"a\",\"aa\",\"aaa\",\"aaaa\"],[\"b\",\"bb\",\"bbb\",\"bbbb\"]]])\n",
    "print(x,\"\\n\", x.shape)\n",
    "print(\"\\n\",\"\\n\",np.swapaxes(x,0,2),\"\\n\", np.swapaxes(x,0,2).shape)# ==np.swapaxes(x,2,0)\n",
    "print(\"\\n\",\"\\n\",np.swapaxes(x,0,1),\"\\n\", np.swapaxes(x,0,1).shape)"
   ]
  },
  {
   "cell_type": "code",
   "execution_count": 103,
   "metadata": {},
   "outputs": [
    {
     "data": {
      "text/plain": [
       "'3.6.3 (default, May 14 2018, 15:21:42) \\n[GCC 4.8.5 20150623 (Red Hat 4.8.5-28)]'"
      ]
     },
     "execution_count": 103,
     "metadata": {},
     "output_type": "execute_result"
    }
   ],
   "source": [
    "# np.sys 系统sys方法调用\n",
    "np.sys.version"
   ]
  },
  {
   "cell_type": "code",
   "execution_count": 104,
   "metadata": {},
   "outputs": [
    {
     "data": {
      "text/plain": [
       "array([[4, 3],\n",
       "       [5, 7]])"
      ]
     },
     "execution_count": 104,
     "metadata": {},
     "output_type": "execute_result"
    }
   ],
   "source": [
    "# take 按给定索引生成数组\n",
    "# 数组生成\n",
    "a = [4, 3, 5, 7, 6, 8]\n",
    "np.take(a, [[0, 1], [2, 3]])"
   ]
  },
  {
   "cell_type": "code",
   "execution_count": 105,
   "metadata": {},
   "outputs": [
    {
     "name": "stdout",
     "output_type": "stream",
     "text": [
      "[[10 40]\n",
      " [60 30]]\n",
      "[[10 30]\n",
      " [40 60]]\n"
     ]
    }
   ],
   "source": [
    "# take_along_axis 按照给定数组映射的索引重排序\n",
    "# 数组生成\n",
    "a = np.array([[10, 30], [60, 40]])\n",
    "ai = np.argsort(a, axis=1)\n",
    "print(np.take_along_axis(a, ai, axis=0))\n",
    "print(np.take_along_axis(a, ai, axis=1))"
   ]
  },
  {
   "cell_type": "code",
   "execution_count": 106,
   "metadata": {},
   "outputs": [
    {
     "data": {
      "text/plain": [
       "array([0.        , 0.41421356, 1.        ])"
      ]
     },
     "execution_count": 106,
     "metadata": {},
     "output_type": "execute_result"
    }
   ],
   "source": [
    "# tan 见ufunc\n",
    "# 数值计算\n",
    "np.tan((0, np.pi/8, np.pi/4))"
   ]
  },
  {
   "cell_type": "code",
   "execution_count": 107,
   "metadata": {},
   "outputs": [
    {
     "data": {
      "text/plain": [
       "array([0.        , 0.37368475, 0.6557942 ])"
      ]
     },
     "execution_count": 107,
     "metadata": {},
     "output_type": "execute_result"
    }
   ],
   "source": [
    "# np.sinh(x)/np.cosh(x) or -1j * np.tan(1j*x)\n",
    "# 数值计算\n",
    "np.tanh((0, np.pi/8, np.pi/4))"
   ]
  },
  {
   "cell_type": "code",
   "execution_count": 108,
   "metadata": {},
   "outputs": [
    {
     "name": "stdout",
     "output_type": "stream",
     "text": [
      "[[[1 2]\n",
      "  [3 0]]\n",
      "\n",
      " [[2 0]\n",
      "  [3 0]]\n",
      "\n",
      " [[1 0]\n",
      "  [3 2]]]\n",
      "[[1.33333333 0.66666667]\n",
      " [3.         0.66666667]]\n",
      "(2, 2, 2)\n",
      "(2, 2)\n",
      "[[['abb' 'cdd']\n",
      "  ['aaabbbb' 'cccdddd']]\n",
      "\n",
      " [['aaaaabbbbbb' 'cccccdddddd']\n",
      "  ['aaaaaaabbbbbbbb' 'cccccccdddddddd']]]\n"
     ]
    }
   ],
   "source": [
    "# tensordot \n",
    "# 实现多维数组求平均的动作（每一个二维平面对应位的平均）\n",
    "# 数值计算\n",
    "X = np.random.randint(0, 5, [3, 2, 2])\n",
    "print(X)\n",
    "print(\"==================/n\",np.tensordot(X, [1/3, 1/3, 1/3], axes=([0], [0])))\n",
    "# 多维数组\n",
    "a = np.array(range(1, 9))\n",
    "a.shape = (2, 2, 2)\n",
    "print(a.shape)\n",
    "A = np.array(('a', 'b', 'c', 'd'), dtype=object)\n",
    "A.shape = (2, 2)\n",
    "print(A.shape)\n",
    "print(np.tensordot(a, A, (2, 1)))"
   ]
  },
  {
   "cell_type": "code",
   "execution_count": 109,
   "metadata": {},
   "outputs": [
    {
     "name": "stdout",
     "output_type": "stream",
     "text": [
      "Pass None\n"
     ]
    },
    {
     "data": {
      "text/plain": [
       "'\\nassert_almost_equal 如果两个数字的近似程度没有达到指定精度，就抛出异常\\nassert_approx_equal 如果两个数字的近似程度没有达到指定有效数字，就抛出异常\\nassert_array_almost_equal 如果两个数组中元素的近似程度没有达到指定精度，就抛出异常\\nassert_array_equal 如果两个数组对象不相同，就抛出异常\\nassert_array_less 两个数组必须形状一致，并且第一个数组的元素严格小于第二个数组的元素，否则就抛出异常\\nassert_equal 如果两个对象不相同，就抛出异常\\nassert_raises 若用填写的参数调用函数没有抛出指定的异常，则测试不通过\\nassert_warns 若没有抛出指定的警告，则测试不通过\\nassert_string_equal 断言两个字符串变量完全相同\\nassert_allclose 如果两个对象的近似程度超出了指定的容差限，就抛出异常\\n\\nhttps://blog.csdn.net/m0_37264397/article/details/79010234\\n'"
      ]
     },
     "execution_count": 109,
     "metadata": {},
     "output_type": "execute_result"
    }
   ],
   "source": [
    "# numpy.testing包中有很多实用的工具函数考虑了浮点数比较的问题，可以测试前提是否成立。include test\n",
    "print (\"Pass\", np.testing.assert_string_equal(\"NumPy\", \"NumPy\"))\n",
    "\"\"\"\n",
    "assert_almost_equal 如果两个数字的近似程度没有达到指定精度，就抛出异常\n",
    "assert_approx_equal 如果两个数字的近似程度没有达到指定有效数字，就抛出异常\n",
    "assert_array_almost_equal 如果两个数组中元素的近似程度没有达到指定精度，就抛出异常\n",
    "assert_array_equal 如果两个数组对象不相同，就抛出异常\n",
    "assert_array_less 两个数组必须形状一致，并且第一个数组的元素严格小于第二个数组的元素，否则就抛出异常\n",
    "assert_equal 如果两个对象不相同，就抛出异常\n",
    "assert_raises 若用填写的参数调用函数没有抛出指定的异常，则测试不通过\n",
    "assert_warns 若没有抛出指定的警告，则测试不通过\n",
    "assert_string_equal 断言两个字符串变量完全相同\n",
    "assert_allclose 如果两个对象的近似程度超出了指定的容差限，就抛出异常\n",
    "\n",
    "https://blog.csdn.net/m0_37264397/article/details/79010234\n",
    "\"\"\""
   ]
  },
  {
   "cell_type": "code",
   "execution_count": 110,
   "metadata": {},
   "outputs": [
    {
     "name": "stdout",
     "output_type": "stream",
     "text": [
      "[0 1 2 0 1 2]\n",
      "[[0 1 2 0 1 2]\n",
      " [0 1 2 0 1 2]]\n",
      "[[[0 1 2 0 1 2]]\n",
      "\n",
      " [[0 1 2 0 1 2]]]\n"
     ]
    }
   ],
   "source": [
    "# tile 数组广播\n",
    "# 数值生成\n",
    "a = np.array([0, 1, 2])\n",
    "print(np.tile(a, 2))\n",
    "\n",
    "print(np.tile(a, (2, 2)))\n",
    "\n",
    "print(np.tile(a, (2, 1, 2)))"
   ]
  },
  {
   "cell_type": "code",
   "execution_count": 111,
   "metadata": {},
   "outputs": [
    {
     "data": {
      "text/plain": [
       "numpy.datetime64('2005-02-25')"
      ]
     },
     "execution_count": 111,
     "metadata": {},
     "output_type": "execute_result"
    }
   ],
   "source": [
    "# timedelta64 输入时间\n",
    "\n",
    "np.datetime64('2005-02-25')"
   ]
  },
  {
   "cell_type": "code",
   "execution_count": 112,
   "metadata": {},
   "outputs": [
    {
     "name": "stdout",
     "output_type": "stream",
     "text": [
      "求迹 3.0\n"
     ]
    },
    {
     "data": {
      "text/plain": [
       "(2, 3)"
      ]
     },
     "execution_count": 112,
     "metadata": {},
     "output_type": "execute_result"
    }
   ],
   "source": [
    "# trace\n",
    "# 数值计算\n",
    "print(\"求迹\",np.trace(np.eye(3)))\n",
    "np.trace(np.arange(24).reshape((2,2,2,3))).shape"
   ]
  },
  {
   "cell_type": "code",
   "execution_count": 113,
   "metadata": {},
   "outputs": [
    {
     "data": {
      "text/plain": [
       "389047"
      ]
     },
     "execution_count": 113,
     "metadata": {},
     "output_type": "execute_result"
    }
   ],
   "source": [
    "# np.tracemalloc_domain\n",
    "# 未知\n",
    "np.tracemalloc_domain # 内存分配？"
   ]
  },
  {
   "cell_type": "code",
   "execution_count": 114,
   "metadata": {},
   "outputs": [
    {
     "name": "stdout",
     "output_type": "stream",
     "text": [
      "[[0 1]\n",
      " [2 3]]\n",
      "[[0 2]\n",
      " [1 3]]\n",
      "(1, 2, 3)\n"
     ]
    },
    {
     "data": {
      "text/plain": [
       "(2, 1, 3)"
      ]
     },
     "execution_count": 114,
     "metadata": {},
     "output_type": "execute_result"
    }
   ],
   "source": [
    "# transpose 转秩\n",
    "# 结构变化\n",
    "x = np.arange(4).reshape((2,2))\n",
    "print(x)\n",
    "print(np.transpose(x))\n",
    "\n",
    "x = np.ones((1, 2, 3))\n",
    "print(x.shape)\n",
    "np.transpose(x, (1, 0, 2)).shape # 1和2的维度对调"
   ]
  },
  {
   "cell_type": "code",
   "execution_count": 115,
   "metadata": {},
   "outputs": [
    {
     "name": "stdout",
     "output_type": "stream",
     "text": [
      "ex.1 3.5\n",
      "ex.2 8.0\n",
      "ex.3 8.0\n",
      "[[0 1 2]\n",
      " [3 4 5]]\n",
      "ex.4 [1.5 2.5 3.5]\n",
      "ex.5 [2. 8.]\n"
     ]
    }
   ],
   "source": [
    "# np.trapz\n",
    "# 数值计算\n",
    "print(\"ex.1\",np.trapz([1,6]))## 直角梯形的积分！(1+6)*(6-1)/2\n",
    "print(\"ex.2\",np.trapz([1,3], x=[4,8]))## 直角梯形的积分！(1+3)*(8-4)/2\n",
    "print(\"ex.3\",np.trapz([1,3], dx=4))## 直角梯形的积分！(1+3)*4/2\n",
    "a = np.arange(6).reshape(2, 3)\n",
    "print(a)\n",
    "print(\"ex.4\",np.trapz(a, axis=0))## 直角梯形的积分！[(0+3)*(3-0)/2,(1+4)*(4-1)/2,(2+5)*(5-2)/2]\n",
    "print(\"ex.5\",np.trapz(a, axis=1))## 直角梯形的积分！[(0+1)*(1-0)/2+(1+2)*(2-1)/2,(3+4)*(4-3)/2+(4+5)*(5-4)/2]"
   ]
  },
  {
   "cell_type": "code",
   "execution_count": 6,
   "metadata": {},
   "outputs": [
    {
     "name": "stdout",
     "output_type": "stream",
     "text": [
      "[[0. 0. 0. 0. 0.]\n",
      " [1. 0. 0. 0. 0.]\n",
      " [1. 1. 0. 0. 0.]]\n",
      "-----------\n",
      " [[1. 1. 1. 0. 0.]\n",
      " [1. 1. 1. 1. 0.]\n",
      " [1. 1. 1. 1. 1.]]\n"
     ]
    }
   ],
   "source": [
    "# tri\n",
    "# 下三角矩阵填写\n",
    "# 数组生成\n",
    "print(np.tri(3, 5, -1))\n",
    "print(\"-----------\\n\",np.tri(3, 5, 2))"
   ]
  },
  {
   "cell_type": "code",
   "execution_count": 117,
   "metadata": {},
   "outputs": [],
   "source": [
    "# tril,tril_indices 与 triu,triu_indices"
   ]
  },
  {
   "cell_type": "code",
   "execution_count": 118,
   "metadata": {},
   "outputs": [
    {
     "name": "stdout",
     "output_type": "stream",
     "text": [
      "k=2 (array([0, 0, 0, 1, 1, 1, 1]), array([0, 1, 2, 0, 1, 2, 3]))\n",
      "[[-1 -1 -1  4]\n",
      " [-1 -1 -1 -1]]\n",
      "k=0 (array([0, 1, 1]), array([0, 0, 1]))\n",
      "[[-1  2  3  4]\n",
      " [-1 -1  3  4]]\n"
     ]
    }
   ],
   "source": [
    "# np.tril_indices_from\n",
    "# 数值索引\n",
    "a = np.array([[1, 2, 3, 4],[1, 2, 3, 4]])\n",
    "print(\"k=2\",np.tril_indices_from(a,k=2))\n",
    "ui1 = np.tril_indices_from(a,k=2)\n",
    "a[ui1] = -1\n",
    "print(a)\n",
    "a = np.array([[1, 2, 3, 4],[1, 2, 3, 4]])\n",
    "print(\"k=0\",np.tril_indices_from(a,k=0))\n",
    "ui2 = np.tril_indices_from(a,k=0)\n",
    "a[ui2] = -1\n",
    "print(a)"
   ]
  },
  {
   "cell_type": "code",
   "execution_count": 119,
   "metadata": {},
   "outputs": [
    {
     "name": "stdout",
     "output_type": "stream",
     "text": [
      "raw [0 0 0 1 2 3 0 2 1 0]\n",
      "fb [1 2 3 0 2 1]\n",
      "f [1 2 3 0 2 1 0]\n",
      "b [0 0 0 1 2 3 0 2 1]\n"
     ]
    }
   ],
   "source": [
    "# 只能对一位数组去0，默认为fb即两头去0，f为front，b为back\n",
    "# 数组生成\n",
    "a = np.array([0, 0, 0, 1, 2, 3, 0, 2, 1, 0])\n",
    "print(\"raw\",a)\n",
    "print(\"fb\",np.trim_zeros(a))\n",
    "print(\"f\",np.trim_zeros(a,\"f\"))\n",
    "print(\"b\",np.trim_zeros(a,\"b\"))"
   ]
  },
  {
   "cell_type": "code",
   "execution_count": 120,
   "metadata": {},
   "outputs": [
    {
     "name": "stdout",
     "output_type": "stream",
     "text": [
      "4 [[ 0  0  0  0  4  5]\n",
      " [ 0  0  0  0  0 11]\n",
      " [ 0  0  0  0  0  0]\n",
      " [ 0  0  0  0  0  0]]\n",
      "0 [[ 0  1  2  3  4  5]\n",
      " [ 0  7  8  9 10 11]\n",
      " [ 0  0 14 15 16 17]\n",
      " [ 0  0  0 21 22 23]]\n",
      "-2 [[ 0  1  2  3  4  5]\n",
      " [ 6  7  8  9 10 11]\n",
      " [12 13 14 15 16 17]\n",
      " [ 0 19 20 21 22 23]]\n"
     ]
    }
   ],
   "source": [
    "print(\"4\",np.triu(np.arange(24).reshape(4, 6), 4))\n",
    "print(\"0\",np.triu(np.arange(24).reshape(4, 6), 0))\n",
    "print(\"-2\",np.triu(np.arange(24).reshape(4, 6), -2))"
   ]
  },
  {
   "cell_type": "code",
   "execution_count": 121,
   "metadata": {},
   "outputs": [
    {
     "name": "stdout",
     "output_type": "stream",
     "text": [
      "a[iu1] [ 0  1  2  3  6  7  8 12 13 18]\n",
      "[[-1 -1 -1 -1  4]\n",
      " [ 5 -1 -1 -1  9]\n",
      " [10 11 -1 -1 14]\n",
      " [15 16 17 -1 19]\n",
      " [20 21 22 23 24]]\n",
      "a[iu2] [ 1  2  3  7  8 13]\n",
      "[[ 0 -1 -1 -1  4]\n",
      " [ 5  6 -1 -1  9]\n",
      " [10 11 12 -1 14]\n",
      " [15 16 17 18 19]\n",
      " [20 21 22 23 24]]\n",
      "a[iu3] [1 2 7]\n",
      "[[ 0 -1 -1  3  4]\n",
      " [ 5  6 -1  8  9]\n",
      " [10 11 12 13 14]\n",
      " [15 16 17 18 19]\n",
      " [20 21 22 23 24]]\n"
     ]
    }
   ],
   "source": [
    "# 数组生成\n",
    "iu1 = np.triu_indices(4)\n",
    "#(array([0, 0, 0, 0, 1, 1, 1, 2, 2, 3]), array([0, 1, 2, 3, 1, 2, 3, 2, 3, 3])) 第一个组array代表所在行，第二组array映射为所在行的所在列\n",
    "# [1,1,1,1]\n",
    "# [0,1,1,1]\n",
    "# [0,0,1,1]\n",
    "# [0,0,0,1]\n",
    "iu2 = np.triu_indices(4, 1)\n",
    "# 从左往右各行减1\n",
    "#(array([0, 0, 0, 1, 1, 2]), array([1, 2, 3, 2, 3, 3]))\n",
    "# [0,1,1,1]\n",
    "# [0,0,1,1]\n",
    "# [0,0,0,1]\n",
    "# [0,0,0,0]\n",
    "iu3 = np.triu_indices(4, 1, 3)\n",
    "# 从右往左各行减4-3\n",
    "#(array([0, 0, 0, 1, 1, 2]), array([1, 2, 3, 2, 3, 3]))\n",
    "# [0,1,1,0]\n",
    "# [0,0,1,0]\n",
    "# [0,0,0,0]\n",
    "# [0,0,0,0]\n",
    "a = np.arange(25).reshape(5, 5)\n",
    "print(\"a[iu1]\",a[iu1])\n",
    "a[iu1] = -1\n",
    "print(a)\n",
    "a = np.arange(25).reshape(5, 5)\n",
    "print(\"a[iu2]\",a[iu2])\n",
    "a[iu2] = -1\n",
    "print(a)\n",
    "a = np.arange(25).reshape(5, 5)\n",
    "print(\"a[iu3]\",a[iu3])\n",
    "a[iu3] = -1\n",
    "print(a)"
   ]
  },
  {
   "cell_type": "code",
   "execution_count": 8,
   "metadata": {},
   "outputs": [
    {
     "name": "stdout",
     "output_type": "stream",
     "text": [
      "k=2 (array([0, 0, 1]), array([2, 3, 3]))\n",
      "-----------------\n",
      " [3 4 4]\n",
      "-----------------\n",
      " [[ 1  2 -1 -1]\n",
      " [ 1  2  3 -1]]\n",
      "---------k=0--------\n",
      " (array([0, 0, 0, 0, 1, 1, 1]), array([0, 1, 2, 3, 1, 2, 3]))\n",
      "-----------------\n",
      " [ 1  2 -1 -1  2  3 -1]\n",
      "-----------------\n",
      " [[-1 -1 -1 -1]\n",
      " [ 1 -1 -1 -1]]\n"
     ]
    }
   ],
   "source": [
    "a = np.array([[1, 2, 3, 4],[1, 2, 3, 4]])\n",
    "# [1,(2, 3, 4)]\n",
    "# [1, 2,(3, 4)]\n",
    "iu1 = np.triu_indices_from(a,k=2)# k==1代表从index=1开始取\n",
    "print(\"k=2\",iu1)\n",
    "print(\"-----------------\\n\",a[iu1])\n",
    "a[iu1] = -1\n",
    "print(\"-----------------\\n\",a)\n",
    "\n",
    "iu1 = np.triu_indices_from(a,k=0)# k==1代表从index=1开始取\n",
    "print(\"---------k=0--------\\n\",iu1)\n",
    "print(\"-----------------\\n\",a[iu1])\n",
    "a[iu1] = -1\n",
    "print(\"-----------------\\n\",a)"
   ]
  },
  {
   "cell_type": "code",
   "execution_count": 123,
   "metadata": {},
   "outputs": [],
   "source": [
    "#trunc==ufunc==true_divide\n",
    "# 数值计算"
   ]
  },
  {
   "cell_type": "code",
   "execution_count": 124,
   "metadata": {},
   "outputs": [
    {
     "data": {
      "text/plain": [
       "{'Character': 'c',\n",
       " 'Integer': 'bhilqp',\n",
       " 'UnsignedInteger': 'BHILQP',\n",
       " 'Float': 'efdg',\n",
       " 'Complex': 'FDG',\n",
       " 'AllInteger': 'bBhHiIlLqQpP',\n",
       " 'AllFloat': 'efdgFDG',\n",
       " 'Datetime': 'Mm',\n",
       " 'All': '?bhilqpBHILQPefdgFDGSUVOMm'}"
      ]
     },
     "execution_count": 124,
     "metadata": {},
     "output_type": "execute_result"
    }
   ],
   "source": [
    "#np.typeNA,np.typeDict，\n",
    "## 数据类型对应的XX码？？？\n",
    "# 未知\n",
    "np.typecodes"
   ]
  },
  {
   "cell_type": "code",
   "execution_count": 125,
   "metadata": {},
   "outputs": [
    {
     "data": {
      "text/plain": [
       "'long long integer'"
      ]
     },
     "execution_count": 125,
     "metadata": {},
     "output_type": "execute_result"
    }
   ],
   "source": [
    "# 获得numpy数据类型缩写的具体数据类型描述\n",
    "np.typename(\"q\")"
   ]
  },
  {
   "cell_type": "markdown",
   "metadata": {},
   "source": [
    "### np.ufunc 矩阵计算，可以自己定义，但内置计算方法是基于C封装的，速度最快"
   ]
  },
  {
   "cell_type": "code",
   "execution_count": 126,
   "metadata": {},
   "outputs": [
    {
     "name": "stdout",
     "output_type": "stream",
     "text": [
      "6\n",
      "[5 7 9]\n",
      "[ 6 15]\n",
      "[5 7 9]\n"
     ]
    },
    {
     "data": {
      "text/plain": [
       "'\\nreduce和accumulate可以对双参函数进行运算\\n\\n其它双参运算函数：\\na + b    add(a,b)\\na - b    subtract(a,b)\\na * b    multiply(a,b)\\na / b    divide(a,b)\\na ** b   power(a,b) 幂运算\\na % b    remainder(a,b) 取余\\n'"
      ]
     },
     "execution_count": 126,
     "metadata": {},
     "output_type": "execute_result"
    }
   ],
   "source": [
    "a1=np.add.reduce([1,2,3])                  #1+2+3=6\n",
    "print(a1)\n",
    "a2=np.add.reduce([[1,2,3],[4,5,6]])        #[1+4,2+5,3+6]=[5,7,9]\n",
    "print(a2)\n",
    "a3=np.add.reduce([[1,2,3],[4,5,6]],axis=1) #[1+2+3,4+5+6]=[6,15]\n",
    "print(a3)\n",
    "a4=np.add.reduce([[1,2,3],[4,5,6]],axis=0) #[14,2+5,3+6]=[5,7,9]\n",
    "print(a4)\n",
    "\n",
    "\"\"\"\n",
    "reduce和accumulate可以对双参函数进行运算\n",
    "\n",
    "其它双参运算函数：\n",
    "a + b    add(a,b)\n",
    "a - b    subtract(a,b)\n",
    "a * b    multiply(a,b)\n",
    "a / b    divide(a,b)\n",
    "a ** b   power(a,b) 幂运算\n",
    "a % b    remainder(a,b) 取余\n",
    "\"\"\""
   ]
  },
  {
   "cell_type": "code",
   "execution_count": 127,
   "metadata": {},
   "outputs": [
    {
     "name": "stdout",
     "output_type": "stream",
     "text": [
      "1.单参数运算 [-1 -2  3  4]\n",
      "2.双参数运算 [2 3 5 4]\n",
      "3.双参数运算 [2 4 3 4]\n"
     ]
    }
   ],
   "source": [
    "## at\n",
    "# 数值计算\n",
    "a = np.array([1, 2, 3, 4])\n",
    "np.negative.at(a, [0, 1])\n",
    "print(\"1.单参数运算\",a)\n",
    "\n",
    "a = np.array([1, 2, 3, 4])\n",
    "np.add.at(a, [0, 1, 2, 2], 1)# 对a中索引为[0, 1, 2, 2]中的数值加上1.\n",
    "print(\"2.双参数运算\",a)\n",
    "\n",
    "a = np.array([1, 2, 3, 4])\n",
    "b = np.array([1, 2])\n",
    "np.add.at(a, [0, 1], b)\n",
    "print(\"3.双参数运算\",a)# 对a中索引为[0, 1]中的数值,对应加上[1, 2]."
   ]
  },
  {
   "cell_type": "code",
   "execution_count": 25,
   "metadata": {},
   "outputs": [
    {
     "name": "stdout",
     "output_type": "stream",
     "text": [
      "[10  5 20 15]\n",
      "10\n",
      "5\n",
      "20\n",
      "15\n",
      "raw_data [[ 0.  1.  2.  3.]\n",
      " [ 4.  5.  6.  7.]\n",
      " [ 8.  9. 10. 11.]\n",
      " [12. 13. 14. 15.]]\n",
      "example_2 [[12. 15. 18. 21.]\n",
      " [12. 13. 14. 15.]\n",
      " [ 4.  5.  6.  7.]\n",
      " [ 8.  9. 10. 11.]\n",
      " [24. 28. 32. 36.]]\n",
      "example_3,axis=0 [[  0.  45. 120. 231.]\n",
      " [ 12.  13.  14.  15.]]\n",
      "example_3,axis=1 [[   0.    3.]\n",
      " [ 120.    7.]\n",
      " [ 720.   11.]\n",
      " [2184.   15.]]\n"
     ]
    }
   ],
   "source": [
    "## reduceat\n",
    "# 数值计算\n",
    "B = np.arange(9)\n",
    "B3 = np.add.reduceat(B,[0,5,2,7])\n",
    "print (B3)\n",
    "# [10 5 20 15]\n",
    "# 解析：第一步用到索引值列表中的0和5，实际上就是对数组中索引值在0到5之间的元素进行reduce操作。\n",
    "print (np.add.reduce(B[0:5]))\n",
    "# 第二步用到索引值5和2。由于2比5小，所以直接返回索引值为5的元素\n",
    "print (np.add.reduce(B[5]))\n",
    "# 第三步用到索引值2和7。这一步是对索引值在2到7之间的数组元素进行reduce操作\n",
    "print (np.add.reduce(B[2:7]))\n",
    "# 第四步用到索引值7。这一步是对索引值从7开始直到数组末端的元素进行reduce操作\n",
    "print (np.add.reduce(B[7:]))\n",
    "\n",
    "x = np.linspace(0, 15, 16).reshape(4,4)\n",
    "print(\"raw_data\",x)\n",
    "print(\"example_2\",np.add.reduceat(x, [0, 3, 1, 2, 0]))\n",
    "print(\"example_3,axis=0\",np.multiply.reduceat(x, [0, 3], axis=0))\n",
    "print(\"example_3,axis=1\",np.multiply.reduceat(x, [0, 3], axis=1))"
   ]
  },
  {
   "cell_type": "code",
   "execution_count": 129,
   "metadata": {},
   "outputs": [
    {
     "name": "stdout",
     "output_type": "stream",
     "text": [
      "[1 3 6]\n",
      "[[ 1  2  3]\n",
      " [ 5  7  9]\n",
      " [12 15 18]]\n",
      "[[ 1  3  6]\n",
      " [ 4  9 15]\n",
      " [ 7 15 24]]\n"
     ]
    }
   ],
   "source": [
    "## accumulate\n",
    "# 数值计算\n",
    "b1=np.add.accumulate([1,2,3])                          #[1,1+2,1+2+3]=[1,3,6]\n",
    "print(b1)\n",
    "b2=np.add.accumulate([[1,2,3],[4,5,6],[7,8,9]],axis=0) #\n",
    "print(b2)\n",
    "b3=np.add.accumulate([[1,2,3],[4,5,6],[7,8,9]],axis=1) \n",
    "print(b3)"
   ]
  },
  {
   "cell_type": "code",
   "execution_count": 10,
   "metadata": {
    "scrolled": true
   },
   "outputs": [
    {
     "name": "stdout",
     "output_type": "stream",
     "text": [
      "[ 4 10 18]\n",
      "--------outer--------\n",
      " [[ 4  5  6]\n",
      " [ 8 10 12]\n",
      " [12 15 18]]\n",
      "----------------\n",
      " (2, 3, 1, 4) \n",
      "----------------\n",
      " [[[[ 1  2  3  4]]\n",
      "\n",
      "  [[ 2  4  6  8]]\n",
      "\n",
      "  [[ 3  6  9 12]]]\n",
      "\n",
      "\n",
      " [[[ 4  8 12 16]]\n",
      "\n",
      "  [[ 5 10 15 20]]\n",
      "\n",
      "  [[ 6 12 18 24]]]]\n"
     ]
    }
   ],
   "source": [
    "## outer\n",
    "# 数值计算\n",
    "print(np.multiply([1, 2, 3], [4, 5, 6]))\n",
    "print(\"--------outer--------\\n\",np.multiply.outer([1, 2, 3], [4, 5, 6]))\n",
    "\n",
    "A = np.array([[1, 2, 3], [4, 5, 6]])\n",
    "B = np.array([[1, 2, 3, 4]])\n",
    "C = np.multiply.outer(A, B)\n",
    "print(\"----------------\\n\",C.shape,\"\\n----------------\\n\",C)"
   ]
  },
  {
   "cell_type": "code",
   "execution_count": 131,
   "metadata": {},
   "outputs": [],
   "source": [
    "## identity,nargs,nin,nout,ntypes,signature,types\n",
    "## np.add.nin 输入的参数\n",
    "## np.add.nout 输出的参数\n",
    "## np.add.signature 输入输出的矩阵维度变化"
   ]
  },
  {
   "cell_type": "code",
   "execution_count": 132,
   "metadata": {},
   "outputs": [
    {
     "name": "stdout",
     "output_type": "stream",
     "text": [
      "A+B =  [ 2  4  6  8 10]\n",
      "A*B =  [ 1  4  9 16 25]\n"
     ]
    }
   ],
   "source": [
    "A = np.array([1,2,3,4,5])\n",
    "B = np.array([1,2,3,4,5])\n",
    "print('A+B = ',np.add(A,B))\n",
    "print('A*B = ',np.multiply(A,B))"
   ]
  },
  {
   "cell_type": "code",
   "execution_count": 133,
   "metadata": {},
   "outputs": [
    {
     "data": {
      "text/plain": [
       "array([0, 0, 0, 0, 0])"
      ]
     },
     "execution_count": 133,
     "metadata": {},
     "output_type": "execute_result"
    }
   ],
   "source": [
    "A = np.array([1,2,3,4,5])\n",
    "B = np.array([1,2,3,4,5])\n",
    "np.subtract(A,B)"
   ]
  },
  {
   "cell_type": "markdown",
   "metadata": {},
   "source": [
    "#### 以上为ufunc"
   ]
  },
  {
   "cell_type": "code",
   "execution_count": 134,
   "metadata": {},
   "outputs": [
    {
     "data": {
      "text/plain": [
       "numpy.str_"
      ]
     },
     "execution_count": 134,
     "metadata": {},
     "output_type": "execute_result"
    }
   ],
   "source": [
    "np.ubyte\n",
    "np.uint\n",
    "np.uint0\n",
    "np.uint16\n",
    "np.uint32\n",
    "np.uint64\n",
    "np.uint8\n",
    "np.uintc\n",
    "np.uint\n",
    "np.ulonglong\n",
    "np.unicode#数据格式\n",
    "np.unicode_"
   ]
  },
  {
   "cell_type": "code",
   "execution_count": 11,
   "metadata": {},
   "outputs": [
    {
     "name": "stdout",
     "output_type": "stream",
     "text": [
      "[-2 -1  0  1  2]\n",
      "----------------\n",
      " [1 2 3 4 6]\n"
     ]
    }
   ],
   "source": [
    "# union1d\n",
    "# 数组生成\n",
    "from functools import reduce\n",
    "\n",
    "print(np.union1d([-1, 0, 1], [-2, 0, 2]))\n",
    "print(\"----------------\\n\",reduce(np.union1d, ([1, 3, 4, 3], [3, 1, 2, 1], [6, 3, 4, 2])))"
   ]
  },
  {
   "cell_type": "code",
   "execution_count": 136,
   "metadata": {},
   "outputs": [
    {
     "name": "stdout",
     "output_type": "stream",
     "text": [
      "[1 2 3]\n",
      "[1 2 3]\n",
      "axis=0 [[1 0 0]\n",
      " [2 3 4]]\n",
      "axis=1 [[0 0 1]\n",
      " [0 0 1]\n",
      " [3 4 2]]\n",
      "u,indices ['a' 'b' 'c'] [0 1 3]\n",
      "['a' 'b' 'c']\n",
      "u [1 2 3 4 6]\n"
     ]
    },
    {
     "data": {
      "text/plain": [
       "array([1, 2, 6, 4, 2, 3, 2])"
      ]
     },
     "execution_count": 136,
     "metadata": {},
     "output_type": "execute_result"
    }
   ],
   "source": [
    "# unique\n",
    "# 数组生成\n",
    "print(np.unique([1, 1, 2, 2, 3, 3]))\n",
    "a = np.array([[1, 1], [2, 3]])\n",
    "print(np.unique(a))\n",
    "a = np.array([[1, 0, 0], [1, 0, 0], [2, 3, 4]])\n",
    "print(\"axis=0\",np.unique(a, axis=0))\n",
    "a = np.array([[1, 0, 0], [1, 0, 0], [2, 3, 4]])\n",
    "print(\"axis=1\",np.unique(a, axis=1))\n",
    "\n",
    "a = np.array(['a', 'b', 'b', 'c', 'a'])\n",
    "u,indices = np.unique(a, return_index=True)\n",
    "print(\"u,indices\",u,indices)\n",
    "print(a[indices])\n",
    "\n",
    "a = np.array([1, 2, 6, 4, 2, 3, 2])\n",
    "u, indices = np.unique(a, return_inverse=True)\n",
    "print(\"u\",u)\n",
    "u[indices]"
   ]
  },
  {
   "cell_type": "code",
   "execution_count": 137,
   "metadata": {},
   "outputs": [
    {
     "name": "stdout",
     "output_type": "stream",
     "text": [
      "[[ 2]\n",
      " [ 7]\n",
      " [23]]\n"
     ]
    },
    {
     "data": {
      "text/plain": [
       "array([[0, 0, 0, 0, 0, 0, 1, 0],\n",
       "       [0, 0, 0, 0, 0, 1, 1, 1],\n",
       "       [0, 0, 0, 1, 0, 1, 1, 1]], dtype=uint8)"
      ]
     },
     "execution_count": 137,
     "metadata": {},
     "output_type": "execute_result"
    }
   ],
   "source": [
    "# unpackbits 相当有意思，数值转化为二进制\n",
    "a = np.array([[2], [7], [23]], dtype=np.uint8)\n",
    "print(a)\n",
    "b = np.unpackbits(a, axis=1)\n",
    "b #转化为二进制"
   ]
  },
  {
   "cell_type": "code",
   "execution_count": 138,
   "metadata": {},
   "outputs": [
    {
     "data": {
      "text/plain": [
       "(array([3, 6, 6]), array([4, 5, 1]))"
      ]
     },
     "execution_count": 138,
     "metadata": {},
     "output_type": "execute_result"
    }
   ],
   "source": [
    "np.unravel_index(indices=[22, 41, 37], dims=(7,6))\n",
    "# 首先构造一个数组arr1=np.array(range(7*6)).reshape((7,6));返回indices中的元素值在数组arr1中对应值的索引位置。\n",
    "# [3,6, 6]分别对应[22, 41, 37]在第1维中的位置，[4,5, 1]分别对应[22,41, 37]在2维中的位置。"
   ]
  },
  {
   "cell_type": "code",
   "execution_count": 139,
   "metadata": {},
   "outputs": [
    {
     "data": {
      "text/plain": [
       "numpy.unsignedinteger"
      ]
     },
     "execution_count": 139,
     "metadata": {},
     "output_type": "execute_result"
    }
   ],
   "source": [
    "np.unsignedinteger#无符号，双精度整数"
   ]
  },
  {
   "cell_type": "code",
   "execution_count": 140,
   "metadata": {},
   "outputs": [
    {
     "data": {
      "text/plain": [
       "array([2.67      , 5.36318531, 4.91318531, 5.70318531, 6.28318531,\n",
       "       6.28318531, 8.88496162, 9.62637061])"
      ]
     },
     "execution_count": 140,
     "metadata": {},
     "output_type": "execute_result"
    }
   ],
   "source": [
    "# unwrap 傅里叶变换有关（2pi）\n",
    "# 数值计算\n",
    "phase = np.array([2.67, -0.92, -1.37, -0.58, 0, 0,78, -2.94])\n",
    "np.unwrap(phase)"
   ]
  },
  {
   "cell_type": "code",
   "execution_count": 141,
   "metadata": {},
   "outputs": [
    {
     "data": {
      "text/plain": [
       "numpy.uint16"
      ]
     },
     "execution_count": 141,
     "metadata": {},
     "output_type": "execute_result"
    }
   ],
   "source": [
    "np.ushort#短整型"
   ]
  },
  {
   "cell_type": "code",
   "execution_count": 12,
   "metadata": {},
   "outputs": [
    {
     "name": "stdout",
     "output_type": "stream",
     "text": [
      "[[  1   1   1   1]\n",
      " [  8   4   2   1]\n",
      " [ 27   9   3   1]\n",
      " [125  25   5   1]]\n",
      "----------------\n",
      " [[ 1  1  1]\n",
      " [ 4  2  1]\n",
      " [ 9  3  1]\n",
      " [25  5  1]]\n",
      "----------------\n",
      " [[ 1  1  1]\n",
      " [ 1  2  4]\n",
      " [ 1  3  9]\n",
      " [ 1  5 25]]\n"
     ]
    }
   ],
   "source": [
    "# vander 数组生成\n",
    "\n",
    "x = np.array([1, 2, 3, 5])\n",
    "N = 3#默认为4\n",
    "print(np.vander(x))\n",
    "print(\"----------------\\n\",np.vander(x,N))\n",
    "print(\"----------------\\n\",np.vander(x, N, increasing=True))"
   ]
  },
  {
   "cell_type": "code",
   "execution_count": 143,
   "metadata": {},
   "outputs": [
    {
     "name": "stdout",
     "output_type": "stream",
     "text": [
      "[[2.66666667 2.66666667]]\n",
      "[[0.25]\n",
      " [0.25]\n",
      " [0.25]]\n",
      "2.9166666666666665\n"
     ]
    }
   ],
   "source": [
    "## var = mean(abs(x - x.mean())**2)\n",
    "# 数值计算\n",
    "X = np.array([[1, 2], [3, 4], [5, 6]])\n",
    "print (np.var(X, axis=0, keepdims=True))\n",
    "print (np.var(X, axis=1, keepdims=True))\n",
    "print (np.var(X))"
   ]
  },
  {
   "cell_type": "code",
   "execution_count": 144,
   "metadata": {},
   "outputs": [
    {
     "name": "stdout",
     "output_type": "stream",
     "text": [
      "1 (70-8j)\n",
      "2 (70+8j)\n",
      "1 30\n",
      "2 30\n"
     ]
    }
   ],
   "source": [
    "# vdot\n",
    "# 数值计算\n",
    "a = np.array([1+2j,3+4j])\n",
    "b = np.array([5+6j,7+8j])\n",
    "print(\"1\",np.vdot(a,b))\n",
    "print(\"2\",np.vdot(b,a))\n",
    "\n",
    "a = np.array([[1, 4], [5, 6]])\n",
    "b = np.array([[4, 1], [2, 2]])\n",
    "# 1*4 + 4*1 + 5*2 + 6*2\n",
    "print(\"1\",np.vdot(a,b))\n",
    "print(\"2\",np.vdot(b,a))"
   ]
  },
  {
   "cell_type": "markdown",
   "metadata": {},
   "source": [
    "### np.vectorize"
   ]
  },
  {
   "cell_type": "code",
   "execution_count": 145,
   "metadata": {},
   "outputs": [
    {
     "name": "stdout",
     "output_type": "stream",
     "text": [
      "[3 4 1 2]\n",
      "[3 6]\n"
     ]
    }
   ],
   "source": [
    "def myfunc(a, b):\n",
    "    if a > b:\n",
    "        return a - b\n",
    "    else:\n",
    "        return a + b\n",
    "\n",
    "vfunc = np.vectorize(myfunc)\n",
    "\n",
    "print(vfunc([1, 2, 3, 4], 2))\n",
    "\n",
    "\n",
    "def mypolyval(p, x):\n",
    "    _p = list(p)\n",
    "    res = _p.pop(0)\n",
    "    while _p:\n",
    "        res = res*x + _p.pop(0)\n",
    "    return res\n",
    "vpolyval = np.vectorize(mypolyval, excluded=['p'])#用excluded可以用来防止对某些参数矢量化\n",
    "print(vpolyval(p=[1, 2, 3], x=[0, 1]))"
   ]
  },
  {
   "cell_type": "code",
   "execution_count": 146,
   "metadata": {},
   "outputs": [
    {
     "data": {
      "text/plain": [
       "<module 'numpy.version' from '/home/mathartsys/venv3/lib/python3.6/site-packages/numpy/version.py'>"
      ]
     },
     "execution_count": 146,
     "metadata": {},
     "output_type": "execute_result"
    }
   ],
   "source": [
    "np.version"
   ]
  },
  {
   "cell_type": "code",
   "execution_count": 147,
   "metadata": {},
   "outputs": [
    {
     "name": "stdout",
     "output_type": "stream",
     "text": [
      "<class 'numpy.ndarray'>\n",
      "<class 'numpy.void'>\n",
      "('John', [6., 7.])\n",
      "John\n",
      "b'\\x00\\x00\\x00\\x00\\x00\\x00\\x00\\x00\\x00\\x00'\n",
      "()\n"
     ]
    }
   ],
   "source": [
    "# void\n",
    "# 未知\n",
    "dt = np.dtype([('name', np.str_, 16), ('grades', np.float64, (2,))])\n",
    "x = np.array([('Sarah', (8.0, 7.0)), ('John', (6.0, 7.0))], dtype=dt)\n",
    "print(type(x))\n",
    "print(type(x[1]))\n",
    "print(x[1])\n",
    "print(x[1][\"name\"])\n",
    "x2 = np.void0(10)\n",
    "print(x2)\n",
    "x3 = np.void(10)\n",
    "print(x3.shape)"
   ]
  },
  {
   "cell_type": "code",
   "execution_count": 148,
   "metadata": {},
   "outputs": [],
   "source": [
    "#'all', 'any', 'argmax', 'argmin', 'argsort', 'astype', 'base', 'byteswap', 'choose', 'clip', 'compress', 'conj', 'conjugate', 'copy', 'cumprod', 'cumsum', 'data', 'diagonal', 'dtype', 'dump', 'dumps', 'fill', 'flags', 'flat', 'flatten', 'getfield', 'imag', 'item', 'itemset', 'itemsize', 'max', 'mean', 'min', 'nbytes', 'ndim', 'newbyteorder', 'nonzero', 'prod', 'ptp', 'put', 'ravel', 'real', 'repeat', 'reshape', 'resize', 'round', 'searchsorted', 'setfield', 'setflags', 'shape', 'size', 'sort', 'squeeze', 'std', 'strides', 'sum', 'swapaxes', 'take', 'tobytes', 'tofile', 'tolist', 'tostring', 'trace', 'transpose', 'var', 'view', 'argpartition', 'ctypes', 'dot', 'partition'\n",
    "#'all', 'any', 'argmax', 'argmin', 'argsort', 'astype', 'base', 'byteswap', 'choose', 'clip', 'compress', 'conj', 'conjugate', 'copy', 'cumprod', 'cumsum', 'data', 'diagonal', 'dtype', 'dump', 'dumps', 'fill', 'flags', 'flat', 'flatten', 'getfield', 'imag', 'item', 'itemset', 'itemsize', 'max', 'mean', 'min', 'nbytes', 'ndim', 'newbyteorder', 'nonzero', 'prod', 'ptp', 'put', 'ravel', 'real', 'repeat', 'reshape', 'resize', 'round', 'searchsorted', 'setfield', 'setflags', 'shape', 'size', 'sort', 'squeeze', 'std', 'strides', 'sum', 'swapaxes', 'take', 'tobytes', 'tofile', 'tolist', 'tostring', 'trace', 'transpose', 'var', 'view'"
   ]
  },
  {
   "cell_type": "code",
   "execution_count": 149,
   "metadata": {},
   "outputs": [
    {
     "name": "stdout",
     "output_type": "stream",
     "text": [
      "[[ 0.  1.  2.  3.]\n",
      " [ 4.  5.  6.  7.]\n",
      " [ 8.  9. 10. 11.]\n",
      " [12. 13. 14. 15.]]\n",
      "[array([[0., 1., 2., 3.]]), array([[ 4.,  5.,  6.,  7.],\n",
      "       [ 8.,  9., 10., 11.]]), array([[12., 13., 14., 15.]])]\n",
      "[array([[0., 1., 2., 3.]]), array([[ 4.,  5.,  6.,  7.],\n",
      "       [ 8.,  9., 10., 11.]]), array([[12., 13., 14., 15.]])]\n",
      "[array([[0., 1., 2., 3.],\n",
      "       [4., 5., 6., 7.]]), array([[ 8.,  9., 10., 11.],\n",
      "       [12., 13., 14., 15.]])]\n",
      "[array([[0., 1., 2., 3.],\n",
      "       [4., 5., 6., 7.]]), array([[ 8.,  9., 10., 11.],\n",
      "       [12., 13., 14., 15.]])]\n"
     ]
    }
   ],
   "source": [
    "# vsplit\n",
    "# 结构变化\n",
    "x = np.arange(16.0).reshape(4, 4)\n",
    "print(x)\n",
    "print(np.vsplit(x, np.array([1,3])))# 先切至row==1，再切至row==3,剩下的自成一派。没有则为空。\n",
    "print(np.split(x, [1,3], axis=0))\n",
    "print(np.vsplit(x, 2))\n",
    "print(np.split(x, 2, axis=0))"
   ]
  },
  {
   "cell_type": "code",
   "execution_count": 150,
   "metadata": {},
   "outputs": [
    {
     "name": "stdout",
     "output_type": "stream",
     "text": [
      "[[1 2 3]\n",
      " [2 3 4]]\n",
      "[[1 2 3]\n",
      " [2 3 4]]\n"
     ]
    }
   ],
   "source": [
    "a = np.array([1, 2, 3])\n",
    "b = np.array([2, 3, 4])\n",
    "print(np.vstack((a,b)))\n",
    "print(np.stack((a,b),axis = 0))"
   ]
  },
  {
   "cell_type": "code",
   "execution_count": 151,
   "metadata": {},
   "outputs": [
    {
     "data": {
      "text/plain": [
       "<module 'warnings' from '/home/mathartsys/venv3/lib/python3.6/warnings.py'>"
      ]
     },
     "execution_count": 151,
     "metadata": {},
     "output_type": "execute_result"
    }
   ],
   "source": [
    "# warnings\n",
    "# 未知\n",
    "np.warnings# 跳过"
   ]
  },
  {
   "cell_type": "code",
   "execution_count": 152,
   "metadata": {},
   "outputs": [
    {
     "name": "stdout",
     "output_type": "stream",
     "text": [
      "[[1 8]\n",
      " [3 4]]\n",
      "(array([0, 0, 1]), array([0, 1, 0]))\n"
     ]
    }
   ],
   "source": [
    "# [[True,False], [True,False]]，分别对应最后输出结果的四个值。第一个值从[1,9]中选，因为条件为True，所以是选1\n",
    "# 第二个值从[2,8]中选，因为条件为False，所以选8，后面以此类推。\n",
    "print(np.where([[True, False], [True, True]],\n",
    "         [[1, 2], [3, 4]],\n",
    "         [[9, 8], [7, 6]]))\n",
    "\n",
    "# [[1, 2], [1, 0]]，值大于0的位置，(array([0, 0, 1]), array([0, 1, 0]))\n",
    "# 两个array对应[0,0],[0,1],[1,0]\n",
    "print(np.where([[1, 2], [1, 0]]))"
   ]
  },
  {
   "cell_type": "code",
   "execution_count": 153,
   "metadata": {},
   "outputs": [
    {
     "name": "stdout",
     "output_type": "stream",
     "text": [
      "Name            Shape               Bytes            Type\n",
      "==============================================================\n",
      "\n",
      "a               10                  80               int64\n",
      "b               20                  160              float64\n",
      "_2              2 x 2 x 1           4                uint8\n",
      "m               2 x 2 x 2           64               int64\n",
      "y               2 x 3               24               float32\n",
      "arr             2 x 2               32               int64\n",
      "_9              2 x 3               48               int64\n",
      "x               4 x 4               128              float64\n",
      "z               4                   32               float64\n",
      "_19             5                   40               int64\n",
      "_21             3                   24               int64\n",
      "_23             3                   24               int64\n",
      "_31             10                  80               int64\n",
      "ai              2 x 2               32               int64\n",
      "_35             2                   16               float64\n",
      "g               4 x 3               96               int64\n",
      "deg             12                  96               float64\n",
      "_37             12                  96               float64\n",
      "_38             12                  96               float64\n",
      "_43             2                   16               int64\n",
      "_44             3                   48               complex128\n",
      "_46             2                   16               float64\n",
      "_47             2                   16               float64\n",
      "data            3                   72               record192\n",
      "poly            4                   32               float64\n",
      "_65             6 x 1               48               int64\n",
      "_66             2                   16               int64\n",
      "_70             10                  80               int64\n",
      "_73             2                   16               int64\n",
      "c               2                   16               int64\n",
      "_78             3                   6                int16\n",
      "_80             2 x 3               48               float64\n",
      "_81             3                   3                bool\n",
      "_83             9                   72               float64\n",
      "_84             3                   12               float32\n",
      "_85             3                   24               complex64\n",
      "_86             3                   24               float64\n",
      "_90             5                   80               complex128\n",
      "_97             2 x 3               48               int64\n",
      "A               5                   40               int64\n",
      "B               5                   40               int64\n",
      "_100            5                   40               int64\n",
      "_104            2 x 2               32               int64\n",
      "_106            3                   24               float64\n",
      "_107            3                   24               float64\n",
      "X               3 x 2               48               int64\n",
      "a2              3                   24               int64\n",
      "a3              2                   16               int64\n",
      "a4              3                   24               int64\n",
      "b1              3                   24               int64\n",
      "b2              3 x 3               72               int64\n",
      "b3              3 x 3               72               int64\n",
      "C               2 x 3 x 1 x 4       192              int64\n",
      "_133            5                   40               int64\n",
      "u               5                   40               int64\n",
      "indices         7                   56               int64\n",
      "_136            7                   56               int64\n",
      "_137            3 x 8               24               uint8\n",
      "phase           8                   64               float64\n",
      "_140            8                   64               float64\n",
      "\n",
      "Upper bound on total bytes  =       2881\n"
     ]
    }
   ],
   "source": [
    "a = np.arange(10)\n",
    "b = np.ones(20)\n",
    "np.who()# 所有在kernal里的numpy数据。"
   ]
  },
  {
   "cell_type": "code",
   "execution_count": 154,
   "metadata": {},
   "outputs": [
    {
     "data": {
      "text/plain": [
       "array([[0, 0, 0],\n",
       "       [0, 0, 0]])"
      ]
     },
     "execution_count": 154,
     "metadata": {},
     "output_type": "execute_result"
    }
   ],
   "source": [
    "# zeros_like\n",
    "# 数组生成\n",
    "x = np.arange(6)\n",
    "x = x.reshape((2, 3))\n",
    "\n",
    "np.zeros_like(x)"
   ]
  }
 ],
 "metadata": {
  "kernelspec": {
   "display_name": "Python3-deap(venv3)",
   "language": "python",
   "name": "venv3"
  },
  "language_info": {
   "codemirror_mode": {
    "name": "ipython",
    "version": 3
   },
   "file_extension": ".py",
   "mimetype": "text/x-python",
   "name": "python",
   "nbconvert_exporter": "python",
   "pygments_lexer": "ipython3",
   "version": "3.6.3"
  },
  "latex_envs": {
   "LaTeX_envs_menu_present": true,
   "autoclose": false,
   "autocomplete": true,
   "bibliofile": "biblio.bib",
   "cite_by": "apalike",
   "current_citInitial": 1,
   "eqLabelWithNumbers": true,
   "eqNumInitial": 1,
   "hotkeys": {
    "equation": "Ctrl-E",
    "itemize": "Ctrl-I"
   },
   "labels_anchors": false,
   "latex_user_defs": false,
   "report_style_numbering": false,
   "user_envs_cfg": false
  },
  "toc": {
   "base_numbering": 1,
   "nav_menu": {},
   "number_sections": true,
   "sideBar": true,
   "skip_h1_title": false,
   "title_cell": "Table of Contents",
   "title_sidebar": "Contents",
   "toc_cell": false,
   "toc_position": {},
   "toc_section_display": true,
   "toc_window_display": false
  },
  "varInspector": {
   "cols": {
    "lenName": 16,
    "lenType": 16,
    "lenVar": "60"
   },
   "kernels_config": {
    "python": {
     "delete_cmd_postfix": "",
     "delete_cmd_prefix": "del ",
     "library": "var_list.py",
     "varRefreshCmd": "print(var_dic_list())"
    },
    "r": {
     "delete_cmd_postfix": ") ",
     "delete_cmd_prefix": "rm(",
     "library": "var_list.r",
     "varRefreshCmd": "cat(var_dic_list()) "
    }
   },
   "types_to_exclude": [
    "module",
    "function",
    "builtin_function_or_method",
    "instance",
    "_Feature"
   ],
   "window_display": false
  }
 },
 "nbformat": 4,
 "nbformat_minor": 2
}
