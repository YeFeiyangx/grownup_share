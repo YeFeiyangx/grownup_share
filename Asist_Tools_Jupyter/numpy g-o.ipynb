{
 "cells": [
  {
   "cell_type": "code",
   "execution_count": 1,
   "metadata": {},
   "outputs": [],
   "source": [
    "import numpy as np\n",
    "import copy\n",
    "import matplotlib.pyplot as plt"
   ]
  },
  {
   "cell_type": "markdown",
   "metadata": {},
   "source": [
    "### 数值计算\n",
    "### 数值索引\n",
    "### 复数计算\n",
    "\n",
    "### 函数运算\n",
    "### 逻辑判断\n",
    "### 类型转化\n",
    "### 数组生成\n",
    "### 结构变化\n",
    "### 结构识别\n",
    "### 代码申明\n",
    "### 未知"
   ]
  },
  {
   "cell_type": "code",
   "execution_count": 2,
   "metadata": {},
   "outputs": [
    {
     "name": "stdout",
     "output_type": "stream",
     "text": [
      "4\n",
      "5\n",
      "[20  1  2  1  4  5]\n"
     ]
    }
   ],
   "source": [
    "# gcd 返回的最大公约数\n",
    "# 数值计算\n",
    "print(np.gcd(12, 20))\n",
    "\n",
    "print(np.gcd.reduce([15, 25, 35]))\n",
    "\n",
    "print(np.gcd(np.arange(6), 20)) # 0与X的最大公约数是X"
   ]
  },
  {
   "cell_type": "code",
   "execution_count": 3,
   "metadata": {},
   "outputs": [],
   "source": [
    "# np.generic 用于numpy标量类型的基类"
   ]
  },
  {
   "cell_type": "code",
   "execution_count": 4,
   "metadata": {},
   "outputs": [],
   "source": [
    "# np.genfromtxt 从文本文件加载数据，按指定处理缺失值。"
   ]
  },
  {
   "cell_type": "code",
   "execution_count": 5,
   "metadata": {},
   "outputs": [
    {
     "name": "stdout",
     "output_type": "stream",
     "text": [
      "[   1.   10.  100. 1000.]\n",
      "[  1.  10. 100.]\n",
      "[  1.           5.62341325  31.6227766  177.827941  ]\n",
      "[   1.            5.62341325   31.6227766   177.827941   1000.        ]\n",
      "[  1.   2.   4.   8.  16.  32.  64. 128. 256.]\n"
     ]
    }
   ],
   "source": [
    "# np.geomspace 返回在对数尺度上均匀间隔的数字(几何级数)。\n",
    "# 数组生成\n",
    "print(np.geomspace(1, 1000, num=4))\n",
    "\n",
    "print(np.geomspace(1, 1000, num=3, endpoint=False)) #endpoint=False 最后一个数不显示，实际上num = 3+1，显示前三个\n",
    "\n",
    "print(np.geomspace(1, 1000, num=4, endpoint=False))\n",
    "print(np.geomspace(1, 1000, num=5))\n",
    "print(np.geomspace(1, 256, num=9))"
   ]
  },
  {
   "cell_type": "code",
   "execution_count": 6,
   "metadata": {},
   "outputs": [],
   "source": [
    "# np.get_array_wrap Find the wrapper for the array with the highest priority.\n",
    "# 未知"
   ]
  },
  {
   "cell_type": "code",
   "execution_count": 7,
   "metadata": {},
   "outputs": [],
   "source": [
    "# get_include() 与文件读取的名字有关\n",
    "# 未知"
   ]
  },
  {
   "cell_type": "code",
   "execution_count": 8,
   "metadata": {},
   "outputs": [
    {
     "data": {
      "text/plain": [
       "{'edgeitems': 3,\n",
       " 'threshold': 1000,\n",
       " 'floatmode': 'maxprec',\n",
       " 'precision': 8,\n",
       " 'suppress': False,\n",
       " 'linewidth': 75,\n",
       " 'nanstr': 'nan',\n",
       " 'infstr': 'inf',\n",
       " 'sign': '-',\n",
       " 'formatter': None,\n",
       " 'legacy': False}"
      ]
     },
     "execution_count": 8,
     "metadata": {},
     "output_type": "execute_result"
    }
   ],
   "source": [
    "# get_printoptions() 返回当前打印的选项\n",
    "# 未知\n",
    "np.get_printoptions()"
   ]
  },
  {
   "cell_type": "code",
   "execution_count": 9,
   "metadata": {},
   "outputs": [],
   "source": [
    "# np.getbufsize 不知道怎么用\n",
    "# 未知"
   ]
  },
  {
   "cell_type": "code",
   "execution_count": 10,
   "metadata": {},
   "outputs": [
    {
     "data": {
      "text/plain": [
       "{'divide': 'warn', 'over': 'warn', 'under': 'ignore', 'invalid': 'warn'}"
      ]
     },
     "execution_count": 10,
     "metadata": {},
     "output_type": "execute_result"
    }
   ],
   "source": [
    "# np.geterr() 获取处理浮点错误的当前方法。\n",
    "# 未知\n",
    "np.geterr()"
   ]
  },
  {
   "cell_type": "code",
   "execution_count": 11,
   "metadata": {},
   "outputs": [],
   "source": [
    "# np.geterrcall 返回浮点错误上使用的当前回调函数\n",
    "# 未知\n",
    "np.geterrcall() #未设置处理程序，所以默认值为none"
   ]
  },
  {
   "cell_type": "code",
   "execution_count": 12,
   "metadata": {},
   "outputs": [
    {
     "data": {
      "text/plain": [
       "[8192, 521, None]"
      ]
     },
     "execution_count": 12,
     "metadata": {},
     "output_type": "execute_result"
    }
   ],
   "source": [
    "# geterrobj 求梯度 Return the current object that defines floating-point error handling.\n",
    "# 未知\n",
    "np.geterrobj()# 获取默认值"
   ]
  },
  {
   "cell_type": "code",
   "execution_count": 13,
   "metadata": {},
   "outputs": [
    {
     "name": "stdout",
     "output_type": "stream",
     "text": [
      "[1.  1.5 2.5 3.5 4.5 5. ]\n",
      "x [0 1 2 3 4 5]\n",
      "[1.  1.5 2.5 3.5 4.5 5. ]\n",
      "[0.5  0.75 1.25 1.75 2.25 2.5 ]\n",
      "\n",
      "\n",
      " [array([[ 2.,  2., -1.],\n",
      "       [ 2.,  2., -1.]]), array([[1. , 2.5, 4. ],\n",
      "       [1. , 1. , 1. ]])]\n"
     ]
    }
   ],
   "source": [
    "# gradient 求数组的梯度 二维没懂\n",
    "# 求取梯度\n",
    "# 数值计算\n",
    "f = np.array([1, 2, 4, 7, 11, 16], dtype=float)\n",
    "print(np.gradient(f))#对于1维的数组：两个边界的元素直接用后一个减去前一个值，得到梯度，即b-a；对于中间的元素，取相邻两个元素差的一半，即(c-a) / 2。\n",
    "x = np.arange(f.size)\n",
    "print(\"x\",x)\n",
    "print(np.gradient(f, x))\n",
    "print(np.gradient(f, 2))\n",
    "\n",
    "print(\"\\n\\n\",np.gradient(np.array([[1, 2, 6], [3, 4, 5]], dtype=np.float)))"
   ]
  },
  {
   "cell_type": "code",
   "execution_count": 14,
   "metadata": {},
   "outputs": [
    {
     "name": "stdout",
     "output_type": "stream",
     "text": [
      "[ True  True]\n",
      "[ True False]\n",
      "[ True False]\n"
     ]
    }
   ],
   "source": [
    "# greater 比较数组大小\n",
    "# 逻辑判断\n",
    "print(np.greater([4,2],[2,1]))\n",
    "print(np.greater([4,2],[2,2]))\n",
    "print(np.greater([4,2],2))"
   ]
  },
  {
   "cell_type": "code",
   "execution_count": 15,
   "metadata": {},
   "outputs": [
    {
     "data": {
      "text/plain": [
       "array([ True,  True, False])"
      ]
     },
     "execution_count": 15,
     "metadata": {},
     "output_type": "execute_result"
    }
   ],
   "source": [
    "# greater_equal 比较数组对应元素的大小\n",
    "# 逻辑判断\n",
    "np.greater_equal([4, 2, 1], [2, 2, 2])\n",
    "np.greater_equal([4, 2, 1], 2)"
   ]
  },
  {
   "cell_type": "code",
   "execution_count": 16,
   "metadata": {},
   "outputs": [
    {
     "data": {
      "text/plain": [
       "array([2., 4.], dtype=float16)"
      ]
     },
     "execution_count": 16,
     "metadata": {},
     "output_type": "execute_result"
    }
   ],
   "source": [
    "# half 变为浮点数\n",
    "# 类型判断\n",
    "np.half((2,4))"
   ]
  },
  {
   "cell_type": "code",
   "execution_count": 17,
   "metadata": {},
   "outputs": [],
   "source": [
    "# hamming 汉明窗。。看客自行脑补\n",
    "# 未知"
   ]
  },
  {
   "cell_type": "code",
   "execution_count": 18,
   "metadata": {},
   "outputs": [],
   "source": [
    "# hanning 汉宁窗。。看客自行脑补\n",
    "# 未知"
   ]
  },
  {
   "cell_type": "code",
   "execution_count": 19,
   "metadata": {},
   "outputs": [
    {
     "data": {
      "text/plain": [
       "array([0. , 0.5, 1. ])"
      ]
     },
     "execution_count": 19,
     "metadata": {},
     "output_type": "execute_result"
    }
   ],
   "source": [
    "# np.heaviside 用于数据做判断\n",
    "# 数值计算 逻辑判断\n",
    "np.heaviside([-1.5, 0, 2.0], 0.5) # 小于0为0，等于0为0.5，大于0为1"
   ]
  },
  {
   "cell_type": "code",
   "execution_count": 20,
   "metadata": {},
   "outputs": [],
   "source": [
    "# histogram2d histogram 2维直方图和1维直方图"
   ]
  },
  {
   "cell_type": "code",
   "execution_count": 21,
   "metadata": {},
   "outputs": [
    {
     "name": "stdout",
     "output_type": "stream",
     "text": [
      "(5, 8, 4) 6 9 5\n",
      "[[[0. 0. 0. 0.]\n",
      "  [0. 0. 0. 0.]\n",
      "  [1. 0. 0. 0.]\n",
      "  [0. 0. 0. 0.]\n",
      "  [0. 1. 0. 0.]\n",
      "  [0. 0. 0. 0.]\n",
      "  [0. 0. 0. 0.]\n",
      "  [0. 0. 0. 0.]]\n",
      "\n",
      " [[0. 0. 0. 0.]\n",
      "  [0. 0. 0. 0.]\n",
      "  [0. 1. 0. 0.]\n",
      "  [0. 0. 0. 0.]\n",
      "  [0. 0. 0. 0.]\n",
      "  [0. 0. 0. 0.]\n",
      "  [0. 0. 0. 0.]\n",
      "  [1. 0. 0. 0.]]\n",
      "\n",
      " [[0. 0. 0. 0.]\n",
      "  [1. 0. 0. 0.]\n",
      "  [0. 0. 0. 0.]\n",
      "  [0. 0. 0. 0.]\n",
      "  [0. 0. 0. 0.]\n",
      "  [0. 0. 0. 0.]\n",
      "  [0. 0. 0. 0.]\n",
      "  [0. 0. 0. 0.]]\n",
      "\n",
      " [[0. 0. 0. 0.]\n",
      "  [0. 0. 0. 0.]\n",
      "  [0. 0. 0. 1.]\n",
      "  [0. 0. 0. 0.]\n",
      "  [1. 0. 0. 0.]\n",
      "  [0. 0. 0. 0.]\n",
      "  [0. 0. 0. 0.]\n",
      "  [0. 0. 0. 0.]]\n",
      "\n",
      " [[0. 0. 1. 0.]\n",
      "  [0. 0. 0. 0.]\n",
      "  [0. 0. 0. 0.]\n",
      "  [0. 0. 0. 0.]\n",
      "  [0. 1. 1. 0.]\n",
      "  [0. 0. 0. 0.]\n",
      "  [0. 0. 0. 0.]\n",
      "  [0. 0. 0. 0.]]] [array([-2.03094422, -1.31447144, -0.59799867,  0.11847411,  0.83494688,\n",
      "        1.55141965]), array([-1.8689351 , -1.36279397, -0.85665285, -0.35051172,  0.15562941,\n",
      "        0.66177054,  1.16791167,  1.6740528 ,  2.18019393]), array([-0.9613016 , -0.29389461,  0.37351239,  1.04091938,  1.70832638])]\n"
     ]
    }
   ],
   "source": [
    "# histigramdd 计算一些数据的多维直方图 没搞懂，应该是将图用数据表现\n",
    "r = np.random.randn(10,3)\n",
    "H, edges = np.histogramdd(r, bins = (5, 8, 4))\n",
    "print(H.shape, edges[0].size, edges[1].size, edges[2].size)\n",
    "print(H,edges)"
   ]
  },
  {
   "cell_type": "code",
   "execution_count": 22,
   "metadata": {},
   "outputs": [
    {
     "name": "stdout",
     "output_type": "stream",
     "text": [
      "[[ 0.  1.  2.  3.]\n",
      " [ 4.  5.  6.  7.]\n",
      " [ 8.  9. 10. 11.]\n",
      " [12. 13. 14. 15.]]\n",
      "\n",
      "\n",
      " [array([[ 0.],\n",
      "       [ 4.],\n",
      "       [ 8.],\n",
      "       [12.]]), array([[ 1.],\n",
      "       [ 5.],\n",
      "       [ 9.],\n",
      "       [13.]]), array([[ 2.,  3.],\n",
      "       [ 6.,  7.],\n",
      "       [10., 11.],\n",
      "       [14., 15.]]), array([], shape=(4, 0), dtype=float64)]\n"
     ]
    }
   ],
   "source": [
    "# hsplit 按列拆分\n",
    "# 结构变化 数组生成\n",
    "x = np.arange(16.0).reshape(4, 4)\n",
    "print(x)\n",
    "print(\"\\n\\n\",np.hsplit(x, np.array([1, 2, 6]))) # 拆0-1列，1-2列，2-6列，（最多到4，最后补[]列）"
   ]
  },
  {
   "cell_type": "code",
   "execution_count": 23,
   "metadata": {},
   "outputs": [
    {
     "name": "stdout",
     "output_type": "stream",
     "text": [
      "[1 2 3 2 3 4]\n",
      "[[1 2]\n",
      " [2 3]\n",
      " [3 4]]\n"
     ]
    }
   ],
   "source": [
    "# hstack 按行合并 vstack 按列合并\n",
    "# 数组生成 结构变化\n",
    "a = np.array((1,2,3))\n",
    "b = np.array((2,3,4))\n",
    "print(np.hstack((a,b)))\n",
    "\n",
    "a = np.array([[1],[2],[3]])\n",
    "b = np.array([[2],[3],[4]])\n",
    "print(np.hstack((a,b)))"
   ]
  },
  {
   "cell_type": "code",
   "execution_count": 24,
   "metadata": {},
   "outputs": [
    {
     "data": {
      "text/plain": [
       "array([[5., 5., 5.],\n",
       "       [5., 5., 5.],\n",
       "       [5., 5., 5.]])"
      ]
     },
     "execution_count": 24,
     "metadata": {},
     "output_type": "execute_result"
    }
   ],
   "source": [
    "# hypot 获取两个数组的对应数值的按“勾股定理”计算后的新同纬数组\n",
    "# 数值计算 数组生成\n",
    "np.hypot(3*np.ones((3, 3)), 4*np.ones((3, 3)))"
   ]
  },
  {
   "cell_type": "code",
   "execution_count": 25,
   "metadata": {},
   "outputs": [],
   "source": [
    "# i0  贝塞尔函数。。。有点高级，不懂。\n",
    "# 未知"
   ]
  },
  {
   "cell_type": "code",
   "execution_count": 26,
   "metadata": {},
   "outputs": [
    {
     "name": "stdout",
     "output_type": "stream",
     "text": [
      "[[1. 0. 0.]\n",
      " [0. 1. 0.]\n",
      " [0. 0. 1.]]\n"
     ]
    }
   ],
   "source": [
    "# identity 获得单位矩阵\n",
    "# 数组生成\n",
    "print(np.identity(3))"
   ]
  },
  {
   "cell_type": "code",
   "execution_count": 27,
   "metadata": {},
   "outputs": [],
   "source": [
    "# iinfo 给定整数类型的编译语言上限的限制"
   ]
  },
  {
   "cell_type": "code",
   "execution_count": 28,
   "metadata": {},
   "outputs": [
    {
     "name": "stdout",
     "output_type": "stream",
     "text": [
      "[2. 4. 6.]\n",
      "[1. +8.j 3.+10.j 5.+12.j]\n"
     ]
    },
    {
     "data": {
      "text/plain": [
       "1.0"
      ]
     },
     "execution_count": 28,
     "metadata": {},
     "output_type": "execute_result"
    }
   ],
   "source": [
    "# imag 对复数的虚部进行操作，可以获得复数的虚部，也可以对复数的虚部进行更改\n",
    "# 复数计算\n",
    "a = np.array([1+2j, 3+4j, 5+6j])\n",
    "print(a.imag)\n",
    "\n",
    "a.imag = np.array([8, 10, 12]) # 修改复数a的虚部\n",
    "print(a)\n",
    "\n",
    "np.imag(1 + 1j) # 直接获得某个数的虚部"
   ]
  },
  {
   "cell_type": "code",
   "execution_count": 29,
   "metadata": {},
   "outputs": [
    {
     "name": "stdout",
     "output_type": "stream",
     "text": [
      "[ True False  True False  True]\n",
      "[0 2 0]\n",
      "[ True False  True False  True]\n",
      "[0 2 0]\n",
      "[False  True False  True False]\n",
      "[1 5]\n"
     ]
    }
   ],
   "source": [
    "# np.in1d 判断数组间的数值型数据是否相等\n",
    "# 逻辑判断\n",
    "# numpy.in1d(ar1, ar2, assume_unique=False, invert=False)[source]\n",
    "test = np.array([0, 1, 2, 5, 0])\n",
    "states = [0, 2]\n",
    "mask = np.in1d(test, states)\n",
    "print(mask)\n",
    "print(test[mask])\n",
    "mask = np.in1d(test, states,assume_unique=True) # If True, the input arrays are both assumed to be unique, which can speed up the calculation. Default is False.\n",
    "print(mask)# assume_unique 意义不明\n",
    "print(test[mask])\n",
    "mask = np.in1d(test, states, invert=True)\n",
    "print(mask)\n",
    "print(test[mask])"
   ]
  },
  {
   "cell_type": "code",
   "execution_count": 30,
   "metadata": {},
   "outputs": [
    {
     "name": "stdout",
     "output_type": "stream",
     "text": [
      "[2 4]\n"
     ]
    }
   ],
   "source": [
    "# index_exp = s_ 对元祖进行切片\n",
    "# 数组生成\n",
    "print(np.array([0, 1, 2, 3, 4])[np.s_[2::2]])"
   ]
  },
  {
   "cell_type": "code",
   "execution_count": 31,
   "metadata": {},
   "outputs": [
    {
     "name": "stdout",
     "output_type": "stream",
     "text": [
      "(2, 2, 3)\n",
      "[[[0 0 0]\n",
      "  [1 1 1]]\n",
      "\n",
      " [[0 1 2]\n",
      "  [0 1 2]]]\n",
      "------------------\n",
      "\n",
      " [[0 0 0]\n",
      " [1 1 1]]\n",
      "------------------\n",
      "\n",
      " [[0 1 2]\n",
      " [0 1 2]]\n",
      "------------------\n",
      "\n",
      " [[ 0  1  2  3]\n",
      " [ 4  5  6  7]\n",
      " [ 8  9 10 11]\n",
      " [12 13 14 15]\n",
      " [16 17 18 19]]\n",
      "------------------\n",
      "\n",
      " [[0 1 2]\n",
      " [4 5 6]]\n"
     ]
    }
   ],
   "source": [
    "# indices 返回一个表示网格索引的数组。第一部分表示行网格，第二部分表示列网格。\n",
    "# \n",
    "grid = np.indices((2, 3))\n",
    "print(grid.shape)\n",
    "print(grid)\n",
    "print(\"------------------\\n\\n\",grid[0])        # row indices\n",
    "\n",
    "\n",
    "print(\"------------------\\n\\n\",grid[1])       # column indices\n",
    "\n",
    "x = np.arange(20).reshape(5, 4)\n",
    "print(\"------------------\\n\\n\",x)\n",
    "row, col = np.indices((2, 3))\n",
    "print(\"------------------\\n\\n\",x[row, col])"
   ]
  },
  {
   "cell_type": "code",
   "execution_count": 32,
   "metadata": {},
   "outputs": [],
   "source": [
    "# np.inexact 不知道何用\n",
    "# 未知"
   ]
  },
  {
   "cell_type": "code",
   "execution_count": 33,
   "metadata": {},
   "outputs": [],
   "source": [
    "# np.inf 无穷大数"
   ]
  },
  {
   "cell_type": "code",
   "execution_count": 34,
   "metadata": {},
   "outputs": [],
   "source": [
    "# np.info 或许输入函数的用法\n",
    "# np.info(np.polyval) == help(np.polyval)\n",
    "# 未知"
   ]
  },
  {
   "cell_type": "code",
   "execution_count": 35,
   "metadata": {},
   "outputs": [],
   "source": [
    "# infty 数据类型"
   ]
  },
  {
   "cell_type": "code",
   "execution_count": 36,
   "metadata": {},
   "outputs": [
    {
     "name": "stdout",
     "output_type": "stream",
     "text": [
      "[[1 1 2 3 1]\n",
      " [2 1 2 3 2]\n",
      " [3 1 2 3 3]]\n",
      "[[1 1 1]\n",
      " [2 2 2]\n",
      " [3 3 3]]\n",
      "[[1 1 1]\n",
      " [2 2 2]\n",
      " [3 3 3]]\n",
      "[1 1 5 6 2 2 3 3]\n",
      "[1 1 5 2 6 2 3 3]\n"
     ]
    }
   ],
   "source": [
    "# insert数组中插入元素\n",
    "# 结构变化 \n",
    "a = np.array([[1, 1], [2, 2], [3, 3]])\n",
    "print(np.insert(a, 1, [[1],[2],[3]], axis=1))\n",
    "print(np.insert(a, 1, [1,2,3], axis=1))\n",
    "print(np.insert(a, [1], [[1],[2],[3]], axis=1))\n",
    "b = a.flatten()\n",
    "print(np.insert(b, [2, 2], [5, 6]))\n",
    "print(np.insert(b, [2, 3], [5, 6])) # 在原有数据索引上操作"
   ]
  },
  {
   "cell_type": "code",
   "execution_count": 37,
   "metadata": {},
   "outputs": [
    {
     "name": "stdout",
     "output_type": "stream",
     "text": [
      "2\n",
      "[[ 14  38  62]\n",
      " [ 86 110 134]]\n"
     ]
    }
   ],
   "source": [
    "# inner 获取指定数组间的对应乘积之和\n",
    "# 数值计算\n",
    "a = np.array([1,2,3])\n",
    "b = np.array([0,1,0])\n",
    "print(np.inner(a, b))\n",
    "a = np.arange(24).reshape((2,3,4))\n",
    "b = np.arange(4)\n",
    "print(np.inner(a, b)) # 0*0+1*1+2*2+3*3 = 14; 0*4+1*5+2*6+3*7 = 38; 0*8+1*9+2*10+3*11 = 62; "
   ]
  },
  {
   "cell_type": "code",
   "execution_count": 38,
   "metadata": {},
   "outputs": [
    {
     "name": "stdout",
     "output_type": "stream",
     "text": [
      "[[1 1]\n",
      " [2 2]\n",
      " [3 3]]\n",
      "----------------\n",
      " [1 5 1 2 2 3 3]\n",
      "----------------\n",
      " [[1 1 5]\n",
      " [2 2 5]\n",
      " [3 3 5]]\n"
     ]
    }
   ],
   "source": [
    "# insert\n",
    "# 数组生成\n",
    "a = np.array([[1, 1], [2, 2], [3, 3]])\n",
    "print(a)\n",
    "print(\"----------------\\n\",np.insert(a, 1, 5)) # 将原数组flatten，在index = 1 插入 5.\n",
    "print(\"----------------\\n\",np.insert(a, 2, 5, axis=1)) # 原数组不变，在每一行的索引为2处插入5"
   ]
  },
  {
   "cell_type": "code",
   "execution_count": 39,
   "metadata": {},
   "outputs": [
    {
     "data": {
      "text/plain": [
       "\" 'int',\\n 'int0',\\n 'int16',\\n 'int32',\\n 'int64',\\n 'int8',\""
      ]
     },
     "execution_count": 39,
     "metadata": {},
     "output_type": "execute_result"
    }
   ],
   "source": [
    "# intc C中的整型\n",
    "# 数值类型\n",
    "# https://blog.csdn.net/pipisorry/article/details/39215089\n",
    "\"\"\" 'int',\n",
    " 'int0',\n",
    " 'int16',\n",
    " 'int32',\n",
    " 'int64',\n",
    " 'int8',\"\"\""
   ]
  },
  {
   "cell_type": "code",
   "execution_count": 40,
   "metadata": {},
   "outputs": [],
   "source": [
    "# integer 数值类型"
   ]
  },
  {
   "cell_type": "code",
   "execution_count": 41,
   "metadata": {},
   "outputs": [
    {
     "name": "stdout",
     "output_type": "stream",
     "text": [
      "1.0\n",
      "[1.  2.8 2. ]\n"
     ]
    },
    {
     "data": {
      "image/png": "[encoded data removed]",
      "text/plain": [
       "<Figure size 432x288 with 1 Axes>"
      ]
     },
     "metadata": {},
     "output_type": "display_data"
    }
   ],
   "source": [
    "# np.interp 插值函数,向给定的数组对中插入值\n",
    "# 数值计算 数组生成\n",
    "xp = [1, 2, 3]\n",
    "fp = [3, 2, 0]\n",
    "print(np.interp(2.5, xp, fp))\n",
    "print(np.interp([2.5,1.2,2], xp, fp))\n",
    "import matplotlib.pyplot as plt\n",
    "plt.plot([1,1.2, 2, 2.5, 3], [3,2.8, 2,1, 0], '-x')\n",
    "plt.show()"
   ]
  },
  {
   "cell_type": "code",
   "execution_count": 42,
   "metadata": {},
   "outputs": [
    {
     "name": "stdout",
     "output_type": "stream",
     "text": [
      "[1 3]\n",
      "[3]\n",
      "[0 2 4] [1 0 2]\n",
      "[1 2 4] [1 2 4] [1 2 4]\n"
     ]
    }
   ],
   "source": [
    "# np.intersect1d 获取两个数组共有的元素\n",
    "# 逻辑判断\n",
    "print(np.intersect1d([1, 3, 4, 3], [3, 1, 2, 1]))\n",
    "from functools import reduce\n",
    "print(reduce(np.intersect1d, ([1, 3, 4, 3], [3, 1, 2, 1], [6, 3, 4, 2])))\n",
    "x = np.array([1, 1, 2, 3, 4])\n",
    "y = np.array([2, 1, 4, 6])\n",
    "xy, x_ind, y_ind = np.intersect1d(x, y, return_indices=True)\n",
    "print(x_ind, y_ind)\n",
    "print(xy, x[x_ind], y[y_ind])"
   ]
  },
  {
   "cell_type": "code",
   "execution_count": 43,
   "metadata": {},
   "outputs": [],
   "source": [
    "# intp 数值类型"
   ]
  },
  {
   "cell_type": "code",
   "execution_count": 44,
   "metadata": {},
   "outputs": [
    {
     "name": "stdout",
     "output_type": "stream",
     "text": [
      "[-14]\n",
      "11110010\n"
     ]
    },
    {
     "data": {
      "text/plain": [
       "array([242], dtype=uint8)"
      ]
     },
     "execution_count": 44,
     "metadata": {},
     "output_type": "execute_result"
    }
   ],
   "source": [
    "# invert 计算按位反转，或者按位不计算，按元素计算。\n",
    "\n",
    "print(np.invert(np.array([13], dtype=np.int8)))\n",
    "\n",
    "print(np.binary_repr(-14, width=8))\n",
    "np.invert(np.array([13], dtype=np.uint8))"
   ]
  },
  {
   "cell_type": "code",
   "execution_count": 45,
   "metadata": {},
   "outputs": [],
   "source": [
    "# np.ipmt 计算支付的利息部分"
   ]
  },
  {
   "cell_type": "code",
   "execution_count": 46,
   "metadata": {},
   "outputs": [],
   "source": [
    "# irr 金融应用，返回收益率"
   ]
  },
  {
   "cell_type": "code",
   "execution_count": 47,
   "metadata": {},
   "outputs": [],
   "source": [
    "# np.is_busday 是否是节假日的判断函数"
   ]
  },
  {
   "cell_type": "code",
   "execution_count": 48,
   "metadata": {},
   "outputs": [],
   "source": [
    "# np.isclose 判断两个对象是否公差一致"
   ]
  },
  {
   "cell_type": "code",
   "execution_count": 49,
   "metadata": {},
   "outputs": [],
   "source": [
    "# iscomplex 逐一判断是否是虚数"
   ]
  },
  {
   "cell_type": "code",
   "execution_count": 50,
   "metadata": {},
   "outputs": [
    {
     "data": {
      "text/plain": [
       "True"
      ]
     },
     "execution_count": 50,
     "metadata": {},
     "output_type": "execute_result"
    }
   ],
   "source": [
    "# iscomplexobj 判断一个对象是否是虚实复合\n",
    "# 逻辑判断\n",
    "np.iscomplexobj([3, 1+0j, True])"
   ]
  },
  {
   "cell_type": "code",
   "execution_count": 51,
   "metadata": {},
   "outputs": [],
   "source": [
    "# isfinite 判断一个数是否是无穷 是则0，相反的功能室是  np.isinf\n",
    "# 逻辑判断"
   ]
  },
  {
   "cell_type": "code",
   "execution_count": 52,
   "metadata": {},
   "outputs": [],
   "source": [
    "# isfortran 判断一个数据类型是否是fortran\n",
    "# 逻辑判断"
   ]
  },
  {
   "cell_type": "code",
   "execution_count": 53,
   "metadata": {},
   "outputs": [
    {
     "name": "stdout",
     "output_type": "stream",
     "text": [
      "[[0 2]\n",
      " [4 6]]\n",
      "1\n",
      " [[False  True]\n",
      " [ True False]]\n",
      "[2 4]\n",
      "2\n",
      " (array([0, 1]), array([1, 0]))\n",
      "3\n",
      " [[ True False]\n",
      " [False  True]]\n",
      "[0 6]\n",
      "4\n",
      " [[False False]\n",
      " [False False]]\n",
      "[[False  True]\n",
      " [ True False]]\n"
     ]
    }
   ],
   "source": [
    "# isin\n",
    "# 逻辑判断\n",
    "element = 2*np.arange(4).reshape((2, 2))\n",
    "print(element)\n",
    "test_elements = [1, 2, 4, 8]\n",
    "mask = np.isin(element, test_elements)\n",
    "print(\"1\\n\",mask)\n",
    "print(element[mask])\n",
    "print(\"2\\n\",np.nonzero(mask))\n",
    "mask = np.isin(element, test_elements, invert=True)\n",
    "print(\"3\\n\",mask)\n",
    "print(element[mask])\n",
    "\n",
    "test_set = {1, 2, 4, 8}\n",
    "print(\"4\\n\",np.isin(element, test_set))\n",
    "print(np.isin(element, list(test_set)))"
   ]
  },
  {
   "cell_type": "code",
   "execution_count": 54,
   "metadata": {},
   "outputs": [],
   "source": [
    "# isinf 判断一个数是否是无穷 是则1，相反的功能室是  np.isfinite\n",
    "# 逻辑判断"
   ]
  },
  {
   "cell_type": "code",
   "execution_count": 55,
   "metadata": {},
   "outputs": [
    {
     "name": "stdout",
     "output_type": "stream",
     "text": [
      "True\n",
      "False\n",
      "[ True False False]\n"
     ]
    },
    {
     "name": "stderr",
     "output_type": "stream",
     "text": [
      "/home/mathartsys/venv3/lib/python3.6/site-packages/ipykernel_launcher.py:7: RuntimeWarning: invalid value encountered in log\n",
      "  import sys\n",
      "/home/mathartsys/venv3/lib/python3.6/site-packages/ipykernel_launcher.py:7: RuntimeWarning: divide by zero encountered in log\n",
      "  import sys\n"
     ]
    }
   ],
   "source": [
    "# isnan 判断一个数是否是nan\n",
    "# 逻辑判断\n",
    "print(np.isnan(np.nan))\n",
    "\n",
    "print(np.isnan(np.inf))\n",
    "\n",
    "print(np.isnan([np.log(-1.),1.,np.log(0)]))"
   ]
  },
  {
   "cell_type": "code",
   "execution_count": 56,
   "metadata": {},
   "outputs": [
    {
     "name": "stdout",
     "output_type": "stream",
     "text": [
      "True\n",
      "False\n",
      "[ True False]\n"
     ]
    }
   ],
   "source": [
    "# np.isnat 只能用于确定时间数据类型，是否是NaT\n",
    "# 逻辑判断 结构识别\n",
    "print(np.isnat(np.datetime64(\"NaT\")))\n",
    "\n",
    "print(np.isnat(np.datetime64(\"2016-01-01\")))\n",
    "\n",
    "print(np.isnat(np.array([\"NaT\", \"2016-01-01\"], dtype=\"datetime64[ns]\")))"
   ]
  },
  {
   "cell_type": "code",
   "execution_count": 57,
   "metadata": {},
   "outputs": [],
   "source": [
    "# isneginf 判断负无穷用的函数"
   ]
  },
  {
   "cell_type": "code",
   "execution_count": 58,
   "metadata": {},
   "outputs": [],
   "source": [
    "# isposinf 判断正无穷用的函数"
   ]
  },
  {
   "cell_type": "code",
   "execution_count": 59,
   "metadata": {},
   "outputs": [
    {
     "data": {
      "text/plain": [
       "array([False,  True,  True,  True,  True, False])"
      ]
     },
     "execution_count": 59,
     "metadata": {},
     "output_type": "execute_result"
    }
   ],
   "source": [
    "#np.isreal 逐一判断是否是实数\n",
    "# 逻辑判断\n",
    "np.isreal([1+1j, 1+0j, 4.5, 3, 2, 2j])"
   ]
  },
  {
   "cell_type": "code",
   "execution_count": 60,
   "metadata": {},
   "outputs": [
    {
     "data": {
      "text/plain": [
       "False"
      ]
     },
     "execution_count": 60,
     "metadata": {},
     "output_type": "execute_result"
    }
   ],
   "source": [
    "# isrealobj 判断数据类型是否是实数类型\n",
    "# 逻辑判断\n",
    "np.isrealobj([3, 1+0j, True])"
   ]
  },
  {
   "cell_type": "code",
   "execution_count": 61,
   "metadata": {},
   "outputs": [
    {
     "name": "stdout",
     "output_type": "stream",
     "text": [
      "True\n",
      "False\n"
     ]
    }
   ],
   "source": [
    "# isscalar 判断一个对象是否是数值\n",
    "# 逻辑判断\n",
    "print(np.isscalar(3.1))\n",
    "print(np.isscalar([3.1]))"
   ]
  },
  {
   "cell_type": "code",
   "execution_count": 62,
   "metadata": {},
   "outputs": [
    {
     "name": "stdout",
     "output_type": "stream",
     "text": [
      "True\n",
      "False\n",
      "False\n"
     ]
    }
   ],
   "source": [
    "# issctype 判断一个数据类型是否是一个标量数据类型\n",
    "# 逻辑判断\n",
    "print(np.issctype(np.int32))\n",
    "print(np.issctype(list))\n",
    "print(np.issctype(1.1))"
   ]
  },
  {
   "cell_type": "code",
   "execution_count": 63,
   "metadata": {},
   "outputs": [
    {
     "name": "stdout",
     "output_type": "stream",
     "text": [
      "False\n"
     ]
    }
   ],
   "source": [
    "# issubclass_ 判断一个类是否是第二个类的子类\n",
    "# 逻辑判断\n",
    "print(np.issubclass_(np.int32, int))"
   ]
  },
  {
   "cell_type": "code",
   "execution_count": 64,
   "metadata": {},
   "outputs": [
    {
     "name": "stdout",
     "output_type": "stream",
     "text": [
      "False\n",
      "False\n"
     ]
    }
   ],
   "source": [
    "# issubdtype 判断两个位置的数据类型的等级\n",
    "# 逻辑判断\n",
    "print(np.issubdtype(np.float64, np.float32))\n",
    "print(np.issubdtype(np.float32, np.float64))"
   ]
  },
  {
   "cell_type": "code",
   "execution_count": 65,
   "metadata": {},
   "outputs": [
    {
     "data": {
      "text/plain": [
       "True"
      ]
     },
     "execution_count": 65,
     "metadata": {},
     "output_type": "execute_result"
    }
   ],
   "source": [
    "# issubsctype 判断两个位置的数据类型是否一致\n",
    "# 逻辑判断\n",
    "np.issubsctype(np.array([1]), int)"
   ]
  },
  {
   "cell_type": "code",
   "execution_count": 66,
   "metadata": {},
   "outputs": [
    {
     "name": "stdout",
     "output_type": "stream",
     "text": [
      "True\n",
      "False\n"
     ]
    }
   ],
   "source": [
    "# np.iterable 判断对象是否可以被迭代\n",
    "# 逻辑判断\n",
    "print(np.iterable([1, 2, 3]))\n",
    "print(np.iterable(2))"
   ]
  },
  {
   "cell_type": "code",
   "execution_count": 67,
   "metadata": {},
   "outputs": [
    {
     "name": "stdout",
     "output_type": "stream",
     "text": [
      "ixgrid\n",
      " (array([[0],\n",
      "       [1],\n",
      "       [2]]), array([[2, 4]]))\n",
      "(3, 1) (1, 2)\n",
      "a[ixgrid]\n",
      " [[ 2  4]\n",
      " [ 7  9]\n",
      " [12 14]]\n",
      "ixgrid\n",
      " (array([[0],\n",
      "       [2]]), array([[2, 4]]))\n",
      "a[ixgrid]\n",
      " [[ 2  4]\n",
      " [12 14]]\n",
      "ixgrid\n",
      " (array([[0],\n",
      "       [1]]), array([[2, 4]]))\n",
      "a[ixgrid]\n",
      " [[2 4]\n",
      " [7 9]]\n"
     ]
    }
   ],
   "source": [
    "# np.ix_ 按给定索引，或者对应数组位置的布尔值，获得对应的值\n",
    "# 数值索引 \n",
    "a = np.arange(15).reshape(3, 5)\n",
    "ixgrid = np.ix_([0, 1, 2], [2, 4])\n",
    "print(\"ixgrid\\n\",ixgrid)\n",
    "print(ixgrid[0].shape, ixgrid[1].shape)\n",
    "print(\"a[ixgrid]\\n\",a[ixgrid])\n",
    "ixgrid = np.ix_([True,False, True], [2, 4])\n",
    "print(\"ixgrid\\n\",ixgrid)\n",
    "print(\"a[ixgrid]\\n\",a[ixgrid])\n",
    "ixgrid = np.ix_([True, True], [False, False, True, False, True])\n",
    "print(\"ixgrid\\n\",ixgrid)\n",
    "print(\"a[ixgrid]\\n\",a[ixgrid])"
   ]
  },
  {
   "cell_type": "code",
   "execution_count": 68,
   "metadata": {},
   "outputs": [],
   "source": [
    "# kaiser 使用贝塞尔函数形成的锥形。\n",
    "# 未知"
   ]
  },
  {
   "cell_type": "code",
   "execution_count": 69,
   "metadata": {},
   "outputs": [
    {
     "name": "stdout",
     "output_type": "stream",
     "text": [
      "[  5   6   7  50  60  70 500 600 700]\n",
      "[  5  50 500   6  60 600   7  70 700]\n",
      "[[1. 1. 0. 0.]\n",
      " [1. 1. 0. 0.]\n",
      " [0. 0. 1. 1.]\n",
      " [0. 0. 1. 1.]]\n"
     ]
    }
   ],
   "source": [
    "# kron 以 前部分输入为单元，提供有规则输入的有序数组\n",
    "# 数组生成\n",
    "print(np.kron([1,10,100], [5,6,7]))\n",
    "print(np.kron([5,6,7], [1,10,100]))\n",
    "print(np.kron(np.eye(2), np.ones((2,2))))"
   ]
  },
  {
   "cell_type": "code",
   "execution_count": 70,
   "metadata": {},
   "outputs": [
    {
     "name": "stdout",
     "output_type": "stream",
     "text": [
      "60\n",
      "60\n",
      "120\n",
      "[ 0 20 20 60 20 20]\n"
     ]
    }
   ],
   "source": [
    "# lcm 求取最小公倍数\n",
    "# 数值计算\n",
    "print(np.lcm(12, 20))\n",
    "\n",
    "print(np.lcm.reduce([3, 12, 20]))\n",
    "\n",
    "print(np.lcm.reduce([40, 12, 20]))\n",
    "\n",
    "print(np.lcm(np.arange(6), 20)) # 求以这个数组的每个最小公倍数"
   ]
  },
  {
   "cell_type": "code",
   "execution_count": 71,
   "metadata": {},
   "outputs": [
    {
     "name": "stdout",
     "output_type": "stream",
     "text": [
      "[20. 40. 80.]\n"
     ]
    }
   ],
   "source": [
    "# ldexp 值为x1 * 2**x2 取有序数组的函数\n",
    "# 数值计算\n",
    "print(np.ldexp(5, [2,3,4])) # 5*2^2 + 5*2^3 + 5*2^4"
   ]
  },
  {
   "cell_type": "code",
   "execution_count": 72,
   "metadata": {},
   "outputs": [
    {
     "name": "stdout",
     "output_type": "stream",
     "text": [
      "101\n",
      "20\n",
      "10100\n"
     ]
    }
   ],
   "source": [
    "# left_shift 二进制扩张,通过左移位数实现\n",
    "# 数值计算\n",
    "print(np.binary_repr(5))\n",
    "print(np.left_shift(5, 2))\n",
    "print(np.binary_repr(20))"
   ]
  },
  {
   "cell_type": "code",
   "execution_count": 73,
   "metadata": {},
   "outputs": [
    {
     "data": {
      "text/plain": [
       "array([ True, False])"
      ]
     },
     "execution_count": 73,
     "metadata": {},
     "output_type": "execute_result"
    }
   ],
   "source": [
    "# less 小于\n",
    "# 逻辑判断\n",
    "np.less([1, 2], [2, 2])"
   ]
  },
  {
   "cell_type": "code",
   "execution_count": 74,
   "metadata": {},
   "outputs": [
    {
     "data": {
      "text/plain": [
       "array([False,  True,  True])"
      ]
     },
     "execution_count": 74,
     "metadata": {},
     "output_type": "execute_result"
    }
   ],
   "source": [
    "# less_equal 小于等于\n",
    "# 逻辑判断\n",
    "np.less_equal([4, 2, 1], [2, 2, 2])"
   ]
  },
  {
   "cell_type": "code",
   "execution_count": 75,
   "metadata": {},
   "outputs": [
    {
     "name": "stdout",
     "output_type": "stream",
     "text": [
      "[1 2 0]\n",
      "[2 0 4 6 5 3 1]\n",
      "[(1, 0), (1, 9), (3, 0), (4, 1), (4, 2), (4, 4), (5, 4)]\n"
     ]
    }
   ],
   "source": [
    "# lexsort 给定多个排序件，返回一个整数索引的排序\n",
    "# 数值索引 多维排序\n",
    "surnames =    ('Hertz',    'Galilei', 'Hertz')\n",
    "first_names = ('Heinrich', 'Galileo', 'Gustav')\n",
    "ind = np.lexsort((first_names, surnames))\n",
    "print(ind)\n",
    "a = [1,5,1,4,3,4,4] # First column\n",
    "b = [9,4,0,4,0,2,1] # Second column\n",
    "ind = np.lexsort((b,a)) # Sort by a, then by b\n",
    "print(ind)\n",
    "print([(a[i],b[i]) for i in ind])"
   ]
  },
  {
   "cell_type": "code",
   "execution_count": 76,
   "metadata": {},
   "outputs": [],
   "source": [
    "# lib下有许多子类"
   ]
  },
  {
   "cell_type": "code",
   "execution_count": 77,
   "metadata": {},
   "outputs": [
    {
     "data": {
      "text/plain": [
       "'DESCRIPTION\\n    Core Linear Algebra Tools\\n    -------------------------\\n    Linear algebra basics:\\n    \\n    - norm            Vector or matrix norm 求范数\\n    - inv             Inverse of a square matrix 求逆矩阵\\n    - solve           Solve a linear system of equations 解线性方程组\\n    - det             Determinant of a square matrix 正方矩阵的行列式\\n    - lstsq           Solve linear least-squares problem 解线性最小二乘问题\\n    - pinv            Pseudo-inverse (Moore-Penrose) calculated using a singular\\n                      value decomposition 用奇异值计算值分解\\n    - matrix_power    Integer power of a square matrix 方阵的整数次幂\\n    \\n    Eigenvalues and decompositions:特征值 分解\\n    \\n    - eig             Eigenvalues and vectors of a square matrix 特征值和一个方阵的向量\\n    - eigh            Eigenvalues and eigenvectors of a Hermitian matrix 厄米矩阵的特征值和特征向量\\n    - eigvals         Eigenvalues of a square matrix 方阵的特征值\\n    - eigvalsh        Eigenvalues of a Hermitian matrix 厄米矩阵的特征值\\n    - qr              QR decomposition of a matrix 矩阵的QR分解\\n    - svd             Singular value decomposition of a matrix 矩阵的奇异值分解\\n    - cholesky        Cholesky decomposition of a matrix 矩阵的切列斯基分解\\n    \\n    Tensor operations:\\n    \\n    - tensorsolve     Solve a linear tensor equation 解一个线性张量方程\\n    - tensorinv       Calculate an inverse of a tensor 计算张量的逆\\n    \\n    Exceptions:\\n    \\n    - LinAlgError     Indicates a failed linear algebra operation 表示线性代数运算失败'"
      ]
     },
     "execution_count": 77,
     "metadata": {},
     "output_type": "execute_result"
    }
   ],
   "source": [
    "# linalg 一系列附带矩阵计算的方法\n",
    "\n",
    "\"\"\"DESCRIPTION\n",
    "    Core Linear Algebra Tools\n",
    "    -------------------------\n",
    "    Linear algebra basics:\n",
    "    \n",
    "    - norm            Vector or matrix norm 求范数\n",
    "    - inv             Inverse of a square matrix 求逆矩阵\n",
    "    - solve           Solve a linear system of equations 解线性方程组\n",
    "    - det             Determinant of a square matrix 正方矩阵的行列式\n",
    "    - lstsq           Solve linear least-squares problem 解线性最小二乘问题\n",
    "    - pinv            Pseudo-inverse (Moore-Penrose) calculated using a singular\n",
    "                      value decomposition 用奇异值计算值分解\n",
    "    - matrix_power    Integer power of a square matrix 方阵的整数次幂\n",
    "    \n",
    "    Eigenvalues and decompositions:特征值 分解\n",
    "    \n",
    "    - eig             Eigenvalues and vectors of a square matrix 特征值和一个方阵的向量\n",
    "    - eigh            Eigenvalues and eigenvectors of a Hermitian matrix 厄米矩阵的特征值和特征向量\n",
    "    - eigvals         Eigenvalues of a square matrix 方阵的特征值\n",
    "    - eigvalsh        Eigenvalues of a Hermitian matrix 厄米矩阵的特征值\n",
    "    - qr              QR decomposition of a matrix 矩阵的QR分解\n",
    "    - svd             Singular value decomposition of a matrix 矩阵的奇异值分解\n",
    "    - cholesky        Cholesky decomposition of a matrix 矩阵的切列斯基分解\n",
    "    \n",
    "    Tensor operations:\n",
    "    \n",
    "    - tensorsolve     Solve a linear tensor equation 解一个线性张量方程\n",
    "    - tensorinv       Calculate an inverse of a tensor 计算张量的逆\n",
    "    \n",
    "    Exceptions:\n",
    "    \n",
    "    - LinAlgError     Indicates a failed linear algebra operation 表示线性代数运算失败\"\"\""
   ]
  },
  {
   "cell_type": "code",
   "execution_count": 78,
   "metadata": {},
   "outputs": [
    {
     "name": "stdout",
     "output_type": "stream",
     "text": [
      "[2.   2.25 2.5  2.75 3.  ]\n",
      "[2.  2.2 2.4 2.6 2.8]\n",
      "(array([2.  , 2.25, 2.5 , 2.75, 3.  ]), 0.25)\n"
     ]
    }
   ],
   "source": [
    "# linspace 生成序列数组\n",
    "\n",
    "# 数组生成\n",
    "print(np.linspace(2.0, 3.0, num=5))\n",
    "\n",
    "print(np.linspace(2.0, 3.0, num=5, endpoint=False))\n",
    "\n",
    "print(np.linspace(2.0, 3.0, num=5, retstep=True))"
   ]
  },
  {
   "cell_type": "code",
   "execution_count": 79,
   "metadata": {},
   "outputs": [],
   "source": [
    "# little_endian 与布尔值有关\n",
    "# 未知"
   ]
  },
  {
   "cell_type": "code",
   "execution_count": 80,
   "metadata": {},
   "outputs": [],
   "source": [
    "# loadtxt，load,loads 从文本加载数据"
   ]
  },
  {
   "cell_type": "code",
   "execution_count": 81,
   "metadata": {},
   "outputs": [
    {
     "name": "stdout",
     "output_type": "stream",
     "text": [
      "-166.09640474436813 -164.77447664948076 -164.28904982231052\n",
      "3.4999999999999914e-50\n",
      "-115.12925464970229 -114.21296391782813 -113.87649168120691\n",
      "5.245177661946259e-35\n"
     ]
    },
    {
     "data": {
      "text/plain": [
       "2.302585092994046"
      ]
     },
     "execution_count": 81,
     "metadata": {},
     "output_type": "execute_result"
    }
   ],
   "source": [
    "# logaddexp2, logaddexp,log2, log,log10,log1p 对数求值\n",
    "# 数值计算\n",
    "prob1 = np.log2(1e-50) # 以2为底10^(-50)次方的对数\n",
    "prob2 = np.log2(2.5e-50) # 以2为底2.5*10^(-50)次方的对数\n",
    "prob12 = np.logaddexp2(prob1, prob2) # Calculates log2(2**x1 + 2**x2)\n",
    "print(prob1, prob2, prob12)\n",
    "print(2**prob12)\n",
    "prob1 = np.log(1e-50) # 以e为底10^(-50)次方的对数\n",
    "prob2 = np.log(2.5e-50) # 以e为底2.5*10^(-50)次方的对数\n",
    "prob12 = np.logaddexp(prob1, prob2) # Calculates log(exp(x1) + exp(x2))\n",
    "print(prob1, prob2, prob12)\n",
    "print(2**prob12)\n",
    "np.log1p(9)#Calculates log(1 + 9) == log(10) "
   ]
  },
  {
   "cell_type": "code",
   "execution_count": 82,
   "metadata": {},
   "outputs": [
    {
     "name": "stdout",
     "output_type": "stream",
     "text": [
      "True\n",
      "[False  True  True False]\n",
      "[ True False False False  True]\n",
      "[[ True False]\n",
      " [False  True]]\n"
     ]
    }
   ],
   "source": [
    "# 逻辑运算\n",
    "# logical_xor，logical_or，logical_not，logical_and\n",
    "print(np.logical_xor(True, False))\n",
    "print(np.logical_xor([True, True, False, False], [True, False, True, False]))\n",
    "x = np.arange(5)\n",
    "print(np.logical_xor(x < 1, x > 3))\n",
    "print(np.logical_xor(0, np.eye(2)))"
   ]
  },
  {
   "cell_type": "code",
   "execution_count": 83,
   "metadata": {},
   "outputs": [
    {
     "name": "stdout",
     "output_type": "stream",
     "text": [
      "[ 10.          21.5443469   46.41588834 100.        ]\n",
      "[100.         177.827941   316.22776602 562.34132519]\n",
      "[4.         5.0396842  6.34960421 8.        ]\n"
     ]
    }
   ],
   "source": [
    "# logspace 返回在对数刻度上均匀间隔的数字,生成以10为底，对数的数列\n",
    "# 数组生成\n",
    "# logspace(start, stop, num=50, endpoint=True, base=10.0, dtype=None)\n",
    "print(np.logspace(1, 2, num=4))\n",
    "print(np.logspace(2.0, 3.0, num=4, endpoint=False))\n",
    "print(np.logspace(2.0, 3.0, num=4, base=2.0)) # base=2 表示以2为底"
   ]
  },
  {
   "cell_type": "code",
   "execution_count": 84,
   "metadata": {},
   "outputs": [],
   "source": [
    "# long 和数据类型有关"
   ]
  },
  {
   "cell_type": "code",
   "execution_count": 85,
   "metadata": {},
   "outputs": [],
   "source": [
    "# longcomplex 和数据类型有关"
   ]
  },
  {
   "cell_type": "code",
   "execution_count": 86,
   "metadata": {},
   "outputs": [],
   "source": [
    "# longdouble 和数据类型有关"
   ]
  },
  {
   "cell_type": "code",
   "execution_count": 87,
   "metadata": {},
   "outputs": [],
   "source": [
    "# longfloat 和数据类型有关"
   ]
  },
  {
   "cell_type": "code",
   "execution_count": 88,
   "metadata": {},
   "outputs": [],
   "source": [
    "# longlong 和数据类型有关"
   ]
  },
  {
   "cell_type": "code",
   "execution_count": 89,
   "metadata": {},
   "outputs": [
    {
     "name": "stdout",
     "output_type": "stream",
     "text": [
      "Search results for 'binary representation'\n",
      "------------------------------------------\n",
      "numpy.binary_repr\n",
      "    Return the binary representation of the input number as a string.\n",
      "numpy.core.setup_common.long_double_representation\n",
      "    Given a binary dump as given by GNU od -b, look for long double\n",
      "numpy.base_repr\n",
      "    Return a string representation of a number in the given base system.\n",
      "numpy.lookfor\n",
      "    Do a keyword search on docstrings.\n",
      "numpy.bitwise_or\n",
      "    Compute the bit-wise OR of two arrays element-wise.\n",
      "numpy.left_shift\n",
      "    Shift the bits of an integer to the left.\n",
      "numpy.bitwise_and\n",
      "    Compute the bit-wise AND of two arrays element-wise.\n",
      "numpy.bitwise_not\n",
      "    Compute bit-wise inversion, or bit-wise NOT, element-wise.\n",
      "numpy.bitwise_xor\n",
      "    Compute the bit-wise XOR of two arrays element-wise.\n",
      "numpy.right_shift\n",
      "    Shift the bits of an integer to the right.\n",
      "numpy.ma.bitwise_or\n",
      "    Compute the bit-wise OR of two arrays element-wise.\n",
      "numpy.ma.bitwise_and\n",
      "    Compute the bit-wise AND of two arrays element-wise.\n",
      "numpy.ma.bitwise_xor\n",
      "    Compute the bit-wise XOR of two arrays element-wise.\n",
      "numpy.core.tests.test_deprecations.TestBinaryReprInsufficientWidthParameterForRepresentation\n",
      "    If a 'width' parameter is passed into ``binary_repr`` that is insufficient to"
     ]
    }
   ],
   "source": [
    "# np.lookfor 搜索含指定字符串描述的功能\n",
    "np.lookfor('binary representation')"
   ]
  },
  {
   "cell_type": "code",
   "execution_count": 90,
   "metadata": {},
   "outputs": [],
   "source": [
    "# ma 不明白这个命令干嘛的\n",
    "# 未知"
   ]
  },
  {
   "cell_type": "code",
   "execution_count": 91,
   "metadata": {},
   "outputs": [],
   "source": [
    "# mafromtxt 读取ASCII码"
   ]
  },
  {
   "cell_type": "code",
   "execution_count": 92,
   "metadata": {},
   "outputs": [
    {
     "name": "stdout",
     "output_type": "stream",
     "text": [
      "(array([0, 0, 0, 1, 1, 2]), array([0, 1, 2, 1, 2, 2])) \n",
      " [0 1 2 4 5 8]\n",
      "(array([0, 0, 1]), array([1, 2, 2])) \n",
      " [1 2 5]\n",
      "(array([0]), array([2])) \n",
      " [2]\n"
     ]
    }
   ],
   "source": [
    "# mask_indices 取所需范围内的对角矩阵的索引\n",
    "# 数值索引\n",
    "a = np.arange(9).reshape(3, 3)\n",
    "iu = np.mask_indices(3, np.triu) # 默认K为满秩\n",
    "print(iu,\"\\n\",a[iu])\n",
    "iu = np.mask_indices(3, np.triu, 1) # 1,2 所以K=1 为 2\n",
    "print(iu,\"\\n\",a[iu])\n",
    "iu = np.mask_indices(3, np.triu, 2) # K = 2右上角自己玩\n",
    "print(iu,\"\\n\",a[iu])"
   ]
  },
  {
   "cell_type": "code",
   "execution_count": 93,
   "metadata": {},
   "outputs": [],
   "source": [
    "# mat 转为矩阵而已"
   ]
  },
  {
   "cell_type": "code",
   "execution_count": 94,
   "metadata": {},
   "outputs": [],
   "source": [
    "# np.math 显示math信息，没啥用"
   ]
  },
  {
   "cell_type": "code",
   "execution_count": 95,
   "metadata": {},
   "outputs": [
    {
     "name": "stdout",
     "output_type": "stream",
     "text": [
      "[7 4]\n",
      "[5 5]\n"
     ]
    }
   ],
   "source": [
    "# matmul 矩阵乘法\n",
    "# 数值计算\n",
    "a = [[1, 2], [3, 1]]\n",
    "b = [1, 2]\n",
    "print(np.matmul(b, a)) # 1*1+2*3 = 7，1*2+2*1 = 4\n",
    "print(np.matmul(a, b)) # 1*1+2*2 = 5，3*1+1*2 = 5"
   ]
  },
  {
   "cell_type": "code",
   "execution_count": 96,
   "metadata": {},
   "outputs": [],
   "source": [
    "# matrix 矩阵类都不推荐使用，不具有普适性"
   ]
  },
  {
   "cell_type": "code",
   "execution_count": 97,
   "metadata": {},
   "outputs": [],
   "source": [
    "# matrixlib 即将被官方抛弃的方法"
   ]
  },
  {
   "cell_type": "code",
   "execution_count": 98,
   "metadata": {},
   "outputs": [
    {
     "name": "stdout",
     "output_type": "stream",
     "text": [
      "[2 3]\n",
      "[1 3]\n",
      "[ 0 10]\n",
      "6\n"
     ]
    }
   ],
   "source": [
    "# max 求最小\n",
    "# 数值计算\n",
    "a = np.arange(4).reshape((2,2))\n",
    "print(np.amax(a, axis=0))\n",
    "print(np.amax(a, axis=1))\n",
    "print(np.max([[-50], [10]], axis=-1, initial=0))\n",
    "print(np.max([6], initial=5))"
   ]
  },
  {
   "cell_type": "code",
   "execution_count": 99,
   "metadata": {},
   "outputs": [
    {
     "name": "stdout",
     "output_type": "stream",
     "text": [
      "[2 5 4]\n",
      "[[1.  0.3]\n",
      " [0.5 1. ]]\n",
      "[nan nan nan]\n"
     ]
    }
   ],
   "source": [
    "# maximum 求最大值,保持第一维度数组类型\n",
    "# 数值计算 逻辑判断\n",
    "print(np.maximum([2, 3, 4], [1, 5, 2]))\n",
    "print(np.maximum(np.eye(2), [0.5,0.3]))\n",
    "print(np.maximum([np.nan, 0, np.nan],[0, np.nan, np.nan]))"
   ]
  },
  {
   "cell_type": "code",
   "execution_count": 100,
   "metadata": {},
   "outputs": [],
   "source": [
    "# maximum_sctype 返回最大数值的数据类型\n",
    "# 数据类型"
   ]
  },
  {
   "cell_type": "code",
   "execution_count": 101,
   "metadata": {},
   "outputs": [],
   "source": [
    "# may_share_memory 查询数组是否存在一个位置"
   ]
  },
  {
   "cell_type": "code",
   "execution_count": 102,
   "metadata": {},
   "outputs": [
    {
     "name": "stdout",
     "output_type": "stream",
     "text": [
      "2.5\n",
      "[2. 3.]\n"
     ]
    }
   ],
   "source": [
    "# mean 求平均值\n",
    "# 数值计算\n",
    "a = np.array([[1, 2], [3, 4]])\n",
    "print(np.mean(a))\n",
    "print(np.mean(a, axis=0))"
   ]
  },
  {
   "cell_type": "code",
   "execution_count": 103,
   "metadata": {},
   "outputs": [
    {
     "name": "stdout",
     "output_type": "stream",
     "text": [
      "3.5\n",
      "[5.5 4.5 3.5]\n",
      "[7. 2.]\n"
     ]
    },
    {
     "data": {
      "text/plain": [
       "array([[ 4,  7, 10],\n",
       "       [ 1,  2,  3]])"
      ]
     },
     "execution_count": 103,
     "metadata": {},
     "output_type": "execute_result"
    }
   ],
   "source": [
    "# median 取中位数\n",
    "# 数值计算\n",
    "# (a, axis=None, out=None, overwrite_input=False, keepdims=False)\n",
    "a = np.array([[10, 7, 4], [1, 2, 3]])\n",
    "print(np.median(a))\n",
    "print(np.median(a, axis=0))\n",
    "print(np.median(a, axis=1))\n",
    "np.median(a, axis=1, overwrite_input=True)\n",
    "a # overwrite_input=True 后数组的数值顺序按照从小到大的顺序"
   ]
  },
  {
   "cell_type": "code",
   "execution_count": 104,
   "metadata": {},
   "outputs": [],
   "source": [
    "# memmap 从磁盘读取数组"
   ]
  },
  {
   "cell_type": "code",
   "execution_count": 105,
   "metadata": {},
   "outputs": [
    {
     "name": "stdout",
     "output_type": "stream",
     "text": [
      "[0.  0.5 1. ] \n",
      "--------\n",
      " [0. 1.]\n",
      "--------\n",
      " [[0.  0.5 1. ]\n",
      " [0.  0.5 1. ]] \n",
      "--------\n",
      " [[0. 0. 0.]\n",
      " [1. 1. 1.]]\n",
      "--------\n",
      " [[0.  0.5 1. ]] \n",
      "--------\n",
      " [[0.]\n",
      " [1.]]\n"
     ]
    }
   ],
   "source": [
    "# meshgrid 从坐标向量返回坐标矩阵\n",
    "# 数组生成\n",
    "nx, ny = (3, 2)\n",
    "x = np.linspace(0, 1, nx)\n",
    "y = np.linspace(0, 1, ny)\n",
    "print(x,\"\\n--------\\n\",y)\n",
    "xv, yv = np.meshgrid(x, y)\n",
    "print(\"--------\\n\",xv,\"\\n--------\\n\",yv)\n",
    "xv, yv = np.meshgrid(x, y, sparse=True)\n",
    "print(\"--------\\n\",xv,\"\\n--------\\n\",yv)"
   ]
  },
  {
   "cell_type": "code",
   "execution_count": 106,
   "metadata": {},
   "outputs": [
    {
     "name": "stdout",
     "output_type": "stream",
     "text": [
      "[[[0 0 0 0 0]\n",
      "  [1 1 1 1 1]\n",
      "  [2 2 2 2 2]\n",
      "  [3 3 3 3 3]\n",
      "  [4 4 4 4 4]]\n",
      "\n",
      " [[0 1 2 3 4]\n",
      "  [0 1 2 3 4]\n",
      "  [0 1 2 3 4]\n",
      "  [0 1 2 3 4]\n",
      "  [0 1 2 3 4]]]\n",
      "[-1.  -0.5  0.   0.5  1. ]\n",
      "[array([[0],\n",
      "       [1],\n",
      "       [2],\n",
      "       [3],\n",
      "       [4]]), array([[0, 1, 2, 3, 4]])]\n"
     ]
    }
   ],
   "source": [
    "# mgrid 生成指定有序的矩阵，可设定间隔\n",
    "# 数组生成\n",
    "print(np.mgrid[0:5,0:5])\n",
    "print(np.mgrid[-1:1:5j])\n",
    "print(np.ogrid[0:5,0:5])"
   ]
  },
  {
   "cell_type": "code",
   "execution_count": 107,
   "metadata": {},
   "outputs": [
    {
     "name": "stdout",
     "output_type": "stream",
     "text": [
      "[0 1]\n",
      "[0 2]\n",
      "[-50   0]\n",
      "5\n"
     ]
    }
   ],
   "source": [
    "# min 求最小\n",
    "# 数值计算\n",
    "a = np.arange(4).reshape((2,2))\n",
    "print(np.amin(a, axis=0))\n",
    "print(np.amin(a, axis=1))\n",
    "print(np.min([[-50], [10]], axis=-1, initial=0))\n",
    "print(np.min([6], initial=5))"
   ]
  },
  {
   "cell_type": "code",
   "execution_count": 108,
   "metadata": {},
   "outputs": [],
   "source": [
    "# min_scalar_type 与数据类型有关的方法"
   ]
  },
  {
   "cell_type": "code",
   "execution_count": 109,
   "metadata": {},
   "outputs": [
    {
     "name": "stdout",
     "output_type": "stream",
     "text": [
      "[1 3 2]\n",
      "[[0.5 0. ]\n",
      " [0.  0.3]]\n",
      "[nan nan nan]\n"
     ]
    }
   ],
   "source": [
    "# minimum 求最小值,保持第一维度数组类型\n",
    "# 数值计算\n",
    "print(np.minimum([2, 3, 4], [1, 5, 2]))\n",
    "print(np.minimum(np.eye(2), [0.5,0.3]))\n",
    "print(np.minimum([np.nan, 0, np.nan],[0, np.nan, np.nan]))"
   ]
  },
  {
   "cell_type": "code",
   "execution_count": 110,
   "metadata": {},
   "outputs": [],
   "source": [
    "# mintypecode 与数据类型有关"
   ]
  },
  {
   "cell_type": "code",
   "execution_count": 111,
   "metadata": {},
   "outputs": [],
   "source": [
    "# mirr 金融用，修正内部收益率 见rate套装"
   ]
  },
  {
   "cell_type": "code",
   "execution_count": 112,
   "metadata": {},
   "outputs": [
    {
     "data": {
      "text/plain": [
       "array([0])"
      ]
     },
     "execution_count": 112,
     "metadata": {},
     "output_type": "execute_result"
    }
   ],
   "source": [
    "# np.mod 与remainder相同，取余\n",
    "# 数值计算\n",
    "np.mod([-1],[-1])"
   ]
  },
  {
   "cell_type": "code",
   "execution_count": 113,
   "metadata": {},
   "outputs": [
    {
     "name": "stdout",
     "output_type": "stream",
     "text": [
      "(array([0. , 0.5]), array([0., 3.]))\n",
      "(-0.5, -0.0)\n"
     ]
    }
   ],
   "source": [
    "# modf 分离给定数组的整数和小数,先表示小数，再表示整数\n",
    "# 数值计算\n",
    "print(np.modf([0, 3.5]))\n",
    "\n",
    "print(np.modf(-0.5))"
   ]
  },
  {
   "cell_type": "code",
   "execution_count": 114,
   "metadata": {},
   "outputs": [
    {
     "name": "stdout",
     "output_type": "stream",
     "text": [
      "(3, 4, 5)\n",
      "(4, 5, 3)\n",
      "(4, 3, 5)\n",
      "(4, 3, 5)\n",
      "(4, 3, 5)\n",
      "(4, 3, 5)\n"
     ]
    }
   ],
   "source": [
    "# moveaxis 按给定参数更改shape\n",
    "# 结构变化\n",
    "x = np.array(range(60)).reshape((5,3,4))\n",
    "# x = np.zeros((3, 4, 5))\n",
    "print(np.moveaxis(x, 0, -1).shape)\n",
    "print(np.moveaxis(x, -1, 0).shape)\n",
    "print(np.transpose(x).shape)\n",
    "print(np.swapaxes(x, 0, -1).shape)\n",
    "print(np.moveaxis(x,[0, 1],[-1, -2]).shape)\n",
    "print(np.moveaxis(x, [0, 1, 2], [-1, -2, -3]).shape)"
   ]
  },
  {
   "cell_type": "code",
   "execution_count": 115,
   "metadata": {},
   "outputs": [],
   "source": [
    "# msort 沿轴排序 msort(a) == sort(a, axis=0)\n",
    "# 排序"
   ]
  },
  {
   "cell_type": "code",
   "execution_count": 116,
   "metadata": {},
   "outputs": [
    {
     "data": {
      "text/plain": [
       "2"
      ]
     },
     "execution_count": 116,
     "metadata": {},
     "output_type": "execute_result"
    }
   ],
   "source": [
    "# multiply 见ufunc 乘法\n",
    "# 数值计算\n",
    "np.multiply(1,2)"
   ]
  },
  {
   "cell_type": "code",
   "execution_count": 117,
   "metadata": {},
   "outputs": [],
   "source": [
    "# nan 设置缺省值\n",
    "# 数组生成\n",
    "a = np.array([[10., 7., 4.], [3., 2., 1.]])\n",
    "a[0][1] = np.nan"
   ]
  },
  {
   "cell_type": "code",
   "execution_count": 118,
   "metadata": {},
   "outputs": [
    {
     "data": {
      "text/plain": [
       "array([[10.,  0.,  4.],\n",
       "       [ 3.,  2.,  1.]])"
      ]
     },
     "execution_count": 118,
     "metadata": {},
     "output_type": "execute_result"
    }
   ],
   "source": [
    "# nan_to_num 将NON变为指定数值\n",
    "a = np.array([[10., 7., 4.], [3., 2., 1.]])\n",
    "a[0][1] = np.nan\n",
    "np.nan_to_num(a,1)"
   ]
  },
  {
   "cell_type": "code",
   "execution_count": 119,
   "metadata": {},
   "outputs": [],
   "source": [
    "# nanargmax 见下"
   ]
  },
  {
   "cell_type": "code",
   "execution_count": 120,
   "metadata": {},
   "outputs": [
    {
     "name": "stdout",
     "output_type": "stream",
     "text": [
      "0\n",
      "2\n"
     ]
    }
   ],
   "source": [
    "# nanargmin 求最小值忽略缺省\n",
    "# 数值计算\n",
    "a = np.array([[np.nan, 4], [2, 3]])\n",
    "print( np.argmin(a))\n",
    "print(np.nanargmin(a))"
   ]
  },
  {
   "cell_type": "code",
   "execution_count": 121,
   "metadata": {},
   "outputs": [
    {
     "data": {
      "text/plain": [
       "array([ 4.,  8., 24., 24.])"
      ]
     },
     "execution_count": 121,
     "metadata": {},
     "output_type": "execute_result"
    }
   ],
   "source": [
    "# nancumprod  忽略缺省值的累乘\n",
    "# 数值计算\n",
    "a = np.array([[4, 2], [3, np.nan]])\n",
    "np.nancumprod(a)"
   ]
  },
  {
   "cell_type": "code",
   "execution_count": 122,
   "metadata": {},
   "outputs": [
    {
     "name": "stdout",
     "output_type": "stream",
     "text": [
      "[1. 3. 6. 6.]\n",
      "[[1. 2.]\n",
      " [4. 2.]]\n"
     ]
    }
   ],
   "source": [
    "# nancumsum 忽略缺省值进行累加\n",
    "# 数值计算\n",
    "a = np.array([[1, 2], [3, np.nan]])\n",
    "print(np.nancumsum(a))\n",
    "print(np.nancumsum(a, axis=0))"
   ]
  },
  {
   "cell_type": "code",
   "execution_count": 123,
   "metadata": {},
   "outputs": [
    {
     "data": {
      "text/plain": [
       "\" 'nanmax',\\n 'nanmean',\\n 'nanmedian',\\n 'nanmin'\""
      ]
     },
     "execution_count": 123,
     "metadata": {},
     "output_type": "execute_result"
    }
   ],
   "source": [
    "# 忽略缺省值得操作\n",
    "\"\"\" 'nanmax',\n",
    " 'nanmean',\n",
    " 'nanmedian',\n",
    " 'nanmin'\"\"\""
   ]
  },
  {
   "cell_type": "code",
   "execution_count": 124,
   "metadata": {},
   "outputs": [
    {
     "name": "stdout",
     "output_type": "stream",
     "text": [
      "3.0\n",
      "[[7.]\n",
      " [2.]]\n"
     ]
    }
   ],
   "source": [
    "# nanpercentile 求数组的中位数 忽略缺省值 见nanpercentile\n",
    "# 数值计算\n",
    "a = np.array([[10., 7., 4.], [3., 2., 1.]])\n",
    "a[0][1] = np.nan\n",
    "print(np.nanpercentile(a, 50))\n",
    "print(np.nanpercentile(a, 50, axis=1, keepdims=True))"
   ]
  },
  {
   "cell_type": "code",
   "execution_count": 125,
   "metadata": {},
   "outputs": [
    {
     "data": {
      "text/plain": [
       "24.0"
      ]
     },
     "execution_count": 125,
     "metadata": {},
     "output_type": "execute_result"
    }
   ],
   "source": [
    "# nanprod 元素相乘，忽略缺省 见prod\n",
    "# 数值计算\n",
    "a = np.array([[4, 2], [3, np.nan]])\n",
    "np.nanprod(a)"
   ]
  },
  {
   "cell_type": "code",
   "execution_count": 126,
   "metadata": {},
   "outputs": [
    {
     "name": "stdout",
     "output_type": "stream",
     "text": [
      "3.0\n",
      "[6.5 2.  2.5]\n",
      "[[7.]\n",
      " [2.]]\n"
     ]
    }
   ],
   "source": [
    "# nanquantile 求分位数，忽略缺省值\n",
    "# 数值计算\n",
    "a = np.array([[10., 7., 4.], [3., 2., 1.]])\n",
    "a[0][1] = np.nan\n",
    "\n",
    "print(np.nanquantile(a, 0.5))\n",
    "\n",
    "print(np.nanquantile(a, 0.5, axis=0))\n",
    "\n",
    "print(np.nanquantile(a, 0.5, axis=1, keepdims=True))"
   ]
  },
  {
   "cell_type": "code",
   "execution_count": 127,
   "metadata": {},
   "outputs": [
    {
     "name": "stdout",
     "output_type": "stream",
     "text": [
      "1.247219128924647\n",
      "[1. 0.]\n",
      "[0.  0.5]\n"
     ]
    }
   ],
   "source": [
    "# nanstd 忽略缺省值求标准差\n",
    "# 数值计算\n",
    "a = np.array([[1, np.nan], [3, 4]])\n",
    "print(np.nanstd(a))\n",
    "print(np.nanstd(a, axis=0))\n",
    "print(np.nanstd(a, axis=1))"
   ]
  },
  {
   "cell_type": "code",
   "execution_count": 128,
   "metadata": {},
   "outputs": [
    {
     "data": {
      "text/plain": [
       "3.0"
      ]
     },
     "execution_count": 128,
     "metadata": {},
     "output_type": "execute_result"
    }
   ],
   "source": [
    "# nansum 求总和，忽略缺省值\n",
    "# 数值计算\n",
    "a = np.array([[1, 1], [1, np.nan]])\n",
    "np.nansum(a)"
   ]
  },
  {
   "cell_type": "code",
   "execution_count": 129,
   "metadata": {},
   "outputs": [
    {
     "name": "stdout",
     "output_type": "stream",
     "text": [
      "0.6666666666666666\n",
      "[0.25 0.  ]\n",
      "[0.   0.25]\n"
     ]
    }
   ],
   "source": [
    "# nanvar 求variance，忽略缺省值，var不能忽略缺省值。\n",
    "# 数值计算\n",
    "a = np.array([[1, np.nan], [2, 3]])\n",
    "print(np.nanvar(a))\n",
    "print(np.nanvar(a, axis=0))\n",
    "print(np.nanvar(a, axis=1))"
   ]
  },
  {
   "cell_type": "code",
   "execution_count": 130,
   "metadata": {},
   "outputs": [],
   "source": [
    "# nbytes 数据尺度的方法"
   ]
  },
  {
   "cell_type": "code",
   "execution_count": 131,
   "metadata": {},
   "outputs": [
    {
     "name": "stdout",
     "output_type": "stream",
     "text": [
      "[[                  0                   0]\n",
      " [4598175219545276416 4598175219545276416]]\n"
     ]
    },
    {
     "data": {
      "text/plain": [
       "array([[[2],\n",
       "        [3],\n",
       "        [4]],\n",
       "\n",
       "       [[5],\n",
       "        [7],\n",
       "        [4]]])"
      ]
     },
     "execution_count": 131,
     "metadata": {},
     "output_type": "execute_result"
    }
   ],
   "source": [
    "# ndarray  依序生成指定shape的数组，或者按照缓存buffer填充数组\n",
    "# 数组生成\n",
    "#numpy.ndarray(shape, dtype=float, buffer=None, offset=0, strides=None, order=None)[source]\n",
    "a = np.ndarray([2,2],dtype=int)\n",
    "print(a)\n",
    "np.ndarray((2,3,1), buffer=np.array([2,3,4,5,7,4,7,9,8]),\n",
    "           dtype=int) "
   ]
  },
  {
   "cell_type": "code",
   "execution_count": 132,
   "metadata": {},
   "outputs": [
    {
     "name": "stdout",
     "output_type": "stream",
     "text": [
      "(0, 0) 1\n",
      "(0, 1) 2\n",
      "(1, 0) 3\n",
      "(1, 1) 4\n"
     ]
    }
   ],
   "source": [
    "# ndenumerate 获取数组中的元素及索引\n",
    "# 数值索引\n",
    "a = np.array([[1, 2], [3, 4]])\n",
    "for index, x in np.ndenumerate(a):\n",
    "    print(index, x)"
   ]
  },
  {
   "cell_type": "code",
   "execution_count": 133,
   "metadata": {},
   "outputs": [],
   "source": [
    "# ndfromtxt 加载存储在文件中的ASCII数据，并将其作为单个数组返回"
   ]
  },
  {
   "cell_type": "code",
   "execution_count": 134,
   "metadata": {},
   "outputs": [
    {
     "data": {
      "text/plain": [
       "3"
      ]
     },
     "execution_count": 134,
     "metadata": {},
     "output_type": "execute_result"
    }
   ],
   "source": [
    "# ndim 数组的维度查询\n",
    "# 结构识别\n",
    "np.ndim([[[1,2,3],[4,5,6]]])"
   ]
  },
  {
   "cell_type": "code",
   "execution_count": 135,
   "metadata": {},
   "outputs": [
    {
     "name": "stdout",
     "output_type": "stream",
     "text": [
      "[[[0]\n",
      "  [1]]\n",
      "\n",
      " [[2]\n",
      "  [3]]\n",
      "\n",
      " [[4]\n",
      "  [5]]]\n",
      "(0, 0, 0)\n",
      "(0, 1, 0)\n",
      "(1, 0, 0)\n",
      "(1, 1, 0)\n",
      "(2, 0, 0)\n",
      "(2, 1, 0)\n"
     ]
    }
   ],
   "source": [
    "# ndindex 获得相应索引\n",
    "# 数值索引\n",
    "a = np.arange(6).reshape(3,2,1)\n",
    "print(a)\n",
    "for index in np.ndindex(3,2, 1):\n",
    "    print(index)"
   ]
  },
  {
   "cell_type": "code",
   "execution_count": 136,
   "metadata": {},
   "outputs": [
    {
     "name": "stdout",
     "output_type": "stream",
     "text": [
      "0\n",
      "3\n",
      "1\n",
      "4\n",
      "2\n",
      "5\n",
      "\n",
      "\n",
      "0\n",
      "3\n",
      "1\n",
      "4\n",
      "2\n",
      "5\n"
     ]
    }
   ],
   "source": [
    "# nditer 通过迭代器访问数组每一个元素\n",
    "# 取值\n",
    "a = np.arange(6).reshape(2, 3)\n",
    "for x in np.nditer(a, order = 'F'):\n",
    "    print (x)\n",
    "print (\"\\n\")\n",
    "for x in np.nditer(a.T, order = 'C'):\n",
    "    print (x)"
   ]
  },
  {
   "cell_type": "code",
   "execution_count": 137,
   "metadata": {},
   "outputs": [
    {
     "data": {
      "text/plain": [
       "array([-2.,  4.])"
      ]
     },
     "execution_count": 137,
     "metadata": {},
     "output_type": "execute_result"
    }
   ],
   "source": [
    "# negative 求相反数\n",
    "# 数值计算\n",
    "np.negative([2.,-4.])"
   ]
  },
  {
   "cell_type": "code",
   "execution_count": 138,
   "metadata": {},
   "outputs": [
    {
     "name": "stdout",
     "output_type": "stream",
     "text": [
      "[[[ 0  1]\n",
      "  [ 2  3]\n",
      "  [ 4  5]]\n",
      "\n",
      " [[ 6  7]\n",
      "  [ 8  9]\n",
      "  [10 11]]]\n",
      "(0,)\n",
      " (0, 0) 0\n",
      " (0, 1) 1\n",
      " (1, 0) 6\n",
      " (1, 1) 7\n",
      "(1,)\n",
      " (0, 0) 2\n",
      " (0, 1) 3\n",
      " (1, 0) 8\n",
      " (1, 1) 9\n",
      "(2,)\n",
      " (0, 0) 4\n",
      " (0, 1) 5\n",
      " (1, 0) 10\n",
      " (1, 1) 11\n"
     ]
    }
   ],
   "source": [
    "# nested_iters\n",
    "# 创建一个“nditer”对象的元组，它在op参数的不同轴上的嵌套循环中迭代。\n",
    "# 第一个迭代器用于最外层的循环，最后一个迭代器用于最内层的循环。前进一个迭代器将改变后续迭代器指向它的新元素。\n",
    "a = np.arange(12).reshape(2, 3, 2)\n",
    "print(a)\n",
    "i, j = np.nested_iters(a, [[1], [0, 2]], flags=[\"multi_index\"])\n",
    "for x in i:\n",
    "    print(i.multi_index)\n",
    "    for y in j:\n",
    "         print('', j.multi_index, y)"
   ]
  },
  {
   "cell_type": "code",
   "execution_count": 139,
   "metadata": {},
   "outputs": [
    {
     "name": "stdout",
     "output_type": "stream",
     "text": [
      "[[1 2 3 4]]\n",
      "[[1 2 3 4]]\n"
     ]
    }
   ],
   "source": [
    "# newaxis 创建新轴 ==None\n",
    "# 结构变化\n",
    "x = np.array([1, 2, 3, 4])\n",
    "x1 = x[np.newaxis, :]\n",
    "print(x1)\n",
    "x2 = x[None, :]\n",
    "print(x2)"
   ]
  },
  {
   "cell_type": "code",
   "execution_count": 140,
   "metadata": {},
   "outputs": [
    {
     "data": {
      "text/plain": [
       "array([ True,  True])"
      ]
     },
     "execution_count": 140,
     "metadata": {},
     "output_type": "execute_result"
    }
   ],
   "source": [
    "# nextafter 没啥用，随便写写看看\n",
    "# 未知\n",
    "eps = np.finfo(np.float64).eps\n",
    "np.nextafter([1, 2], [2, 1]) == [eps + 1, 2 - eps]"
   ]
  },
  {
   "cell_type": "code",
   "execution_count": 141,
   "metadata": {},
   "outputs": [
    {
     "name": "stdout",
     "output_type": "stream",
     "text": [
      "(array([1, 1, 1, 2, 2, 2]), array([0, 1, 2, 0, 1, 2]))\n",
      "(array([1, 1, 1, 2, 2, 2]), array([0, 1, 2, 0, 1, 2]))\n"
     ]
    }
   ],
   "source": [
    "# nonzero 判断数组中是否为0，可以用于组合判断数组中的元素是否满足其它给定条件后的布尔值 重要\n",
    "# 逻辑判断\n",
    "a = np.array([[1,2,3],[4,5,6],[7,8,9]])\n",
    "print(np.nonzero(a > 3))  # 获得对应位置行列位置大于3的数 1行有3个，2行有3个，分别为1行的第（0，1，2）个和2行的（0，1，2）个\n",
    "print((a > 3).nonzero())"
   ]
  },
  {
   "cell_type": "code",
   "execution_count": 142,
   "metadata": {},
   "outputs": [
    {
     "name": "stdout",
     "output_type": "stream",
     "text": [
      "[False  True]\n",
      "\n",
      " [[False  True]\n",
      " [False  True]]\n"
     ]
    }
   ],
   "source": [
    "# not_equal 用于判断数组对应位置是否相等，不等为True，相等为False\n",
    "# 逻辑判断\n",
    "print(np.not_equal([1.,2.], [1., 3.]))\n",
    "\n",
    "print(\"\\n\",np.not_equal([1, 2], [[1, 3],[1, 4]]))"
   ]
  },
  {
   "cell_type": "code",
   "execution_count": 143,
   "metadata": {},
   "outputs": [],
   "source": [
    "# nper 与金融计算有关，获得每月还款额，见rate"
   ]
  },
  {
   "cell_type": "code",
   "execution_count": 144,
   "metadata": {},
   "outputs": [],
   "source": [
    "# npv 与金融计算有关，获得投资回报率，见rate"
   ]
  },
  {
   "cell_type": "code",
   "execution_count": 145,
   "metadata": {},
   "outputs": [],
   "source": [
    "# numarray 被官方抛弃的功能"
   ]
  },
  {
   "cell_type": "code",
   "execution_count": 146,
   "metadata": {},
   "outputs": [],
   "source": [
    "# number 没用"
   ]
  },
  {
   "cell_type": "code",
   "execution_count": 147,
   "metadata": {},
   "outputs": [
    {
     "data": {
      "text/plain": [
       "numpy.float64"
      ]
     },
     "execution_count": 147,
     "metadata": {},
     "output_type": "execute_result"
    }
   ],
   "source": [
    "# obj2sctype 返回数组的数据类型\n",
    "np.obj2sctype(np.array([1., 2.]))"
   ]
  },
  {
   "cell_type": "code",
   "execution_count": 148,
   "metadata": {},
   "outputs": [],
   "source": [
    "# object 没啥用"
   ]
  },
  {
   "cell_type": "code",
   "execution_count": 149,
   "metadata": {},
   "outputs": [],
   "source": [
    "# object0 没啥用  官方说明是 Any Python object"
   ]
  },
  {
   "cell_type": "code",
   "execution_count": 150,
   "metadata": {},
   "outputs": [],
   "source": [
    "# object_ 没啥用  官方说明是 Any Python object"
   ]
  },
  {
   "cell_type": "code",
   "execution_count": 151,
   "metadata": {},
   "outputs": [
    {
     "name": "stdout",
     "output_type": "stream",
     "text": [
      "[[1]\n",
      " [2]\n",
      " [3]]\n",
      "\n",
      " [[1 3]]\n",
      "\n",
      " [[1. ]\n",
      " [2.5]\n",
      " [4. ]]\n",
      "\n",
      " [[1. 5.]]\n"
     ]
    }
   ],
   "source": [
    "# ogrid 用于切片\n",
    "# 数组生成\n",
    "x,y=np.ogrid[1:4:1,1:5:2]\n",
    "print(x)\n",
    "print(\"\\n\",y)\n",
    "x,y=np.ogrid[1:4:3j,1:5:2j]\n",
    "print(\"\\n\",x)\n",
    "print(\"\\n\",y)"
   ]
  },
  {
   "cell_type": "code",
   "execution_count": 152,
   "metadata": {},
   "outputs": [],
   "source": [
    "# oldnumeric 被官方丢弃的功能"
   ]
  },
  {
   "cell_type": "code",
   "execution_count": 153,
   "metadata": {},
   "outputs": [
    {
     "name": "stdout",
     "output_type": "stream",
     "text": [
      "[[1. 1.]\n",
      " [1. 1.]]\n"
     ]
    },
    {
     "data": {
      "text/plain": [
       "array([[1., 1.],\n",
       "       [1., 1.]])"
      ]
     },
     "execution_count": 153,
     "metadata": {},
     "output_type": "execute_result"
    }
   ],
   "source": [
    "# ones 生成给定格式的1矩阵\n",
    "# 数组生成\n",
    "print(np.ones((2, 2)))\n",
    "s = [2,2] # or s = (2,2)\n",
    "np.ones((s))"
   ]
  },
  {
   "cell_type": "code",
   "execution_count": 154,
   "metadata": {},
   "outputs": [
    {
     "data": {
      "text/plain": [
       "array([[1, 1, 1],\n",
       "       [1, 1, 1]])"
      ]
     },
     "execution_count": 154,
     "metadata": {},
     "output_type": "execute_result"
    }
   ],
   "source": [
    "# ones_like 生成等格式的1矩阵\n",
    "# 数组生成\n",
    "x = np.arange(6)\n",
    "x = x.reshape((2, 3))\n",
    "np.ones_like(x)"
   ]
  },
  {
   "cell_type": "code",
   "execution_count": 155,
   "metadata": {},
   "outputs": [
    {
     "name": "stdout",
     "output_type": "stream",
     "text": [
      "[[-2. -1.  0.  1.  2.]\n",
      " [-4. -2.  0.  2.  4.]\n",
      " [-6. -3.  0.  3.  6.]]\n"
     ]
    },
    {
     "data": {
      "text/plain": [
       "array([['a', 'aa', 'aaa'],\n",
       "       ['b', 'bb', 'bbb'],\n",
       "       ['c', 'cc', 'ccc']], dtype=object)"
      ]
     },
     "execution_count": 155,
     "metadata": {},
     "output_type": "execute_result"
    }
   ],
   "source": [
    "# outer按照给定给定长度Ma 和给定长度Mb\n",
    "# 数组生成\n",
    "rl = np.outer(range(1,4), np.linspace(-2, 2, 5))#Ma = 3 (1,2,3) Mb = 5 (-2,-1,0,1,2)\n",
    "print(rl) #第一行为1*(-2,-1,0,1,2) 第二行为 2*(-2,-1,0,1,2) 第三行为 3*(-2,-1,0,1,2)，可以是复数\n",
    "x = np.array(['a', 'b', 'c'], dtype=object)\n",
    "np.outer(x, [1, 2, 3])"
   ]
  },
  {
   "cell_type": "code",
   "execution_count": null,
   "metadata": {},
   "outputs": [],
   "source": []
  }
 ],
 "metadata": {
  "kernelspec": {
   "display_name": "Python3-deap(venv3)",
   "language": "python",
   "name": "venv3"
  },
  "language_info": {
   "codemirror_mode": {
    "name": "ipython",
    "version": 3
   },
   "file_extension": ".py",
   "mimetype": "text/x-python",
   "name": "python",
   "nbconvert_exporter": "python",
   "pygments_lexer": "ipython3",
   "version": "3.6.3"
  },
  "latex_envs": {
   "LaTeX_envs_menu_present": true,
   "autoclose": false,
   "autocomplete": true,
   "bibliofile": "biblio.bib",
   "cite_by": "apalike",
   "current_citInitial": 1,
   "eqLabelWithNumbers": true,
   "eqNumInitial": 1,
   "hotkeys": {
    "equation": "Ctrl-E",
    "itemize": "Ctrl-I"
   },
   "labels_anchors": false,
   "latex_user_defs": false,
   "report_style_numbering": false,
   "user_envs_cfg": false
  },
  "toc": {
   "base_numbering": 1,
   "nav_menu": {},
   "number_sections": true,
   "sideBar": true,
   "skip_h1_title": false,
   "title_cell": "Table of Contents",
   "title_sidebar": "Contents",
   "toc_cell": false,
   "toc_position": {},
   "toc_section_display": true,
   "toc_window_display": false
  },
  "varInspector": {
   "cols": {
    "lenName": 16,
    "lenType": 16,
    "lenVar": "60"
   },
   "kernels_config": {
    "python": {
     "delete_cmd_postfix": "",
     "delete_cmd_prefix": "del ",
     "library": "var_list.py",
     "varRefreshCmd": "print(var_dic_list())"
    },
    "r": {
     "delete_cmd_postfix": ") ",
     "delete_cmd_prefix": "rm(",
     "library": "var_list.r",
     "varRefreshCmd": "cat(var_dic_list()) "
    }
   },
   "types_to_exclude": [
    "module",
    "function",
    "builtin_function_or_method",
    "instance",
    "_Feature"
   ],
   "window_display": false
  }
 },
 "nbformat": 4,
 "nbformat_minor": 2
}
